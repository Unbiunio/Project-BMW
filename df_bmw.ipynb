{
 "cells": [
  {
   "cell_type": "markdown",
   "metadata": {},
   "source": [
    "# Entregable Data Preparation"
   ]
  },
  {
   "cell_type": "code",
   "execution_count": 224,
   "metadata": {},
   "outputs": [],
   "source": [
    "#importamos librerías y herramientas\n",
    "import pandas as pd\n",
    "import numpy as np\n",
    "import matplotlib.pyplot as plt\n",
    "import seaborn as sns\n",
    "from sklearn.preprocessing import LabelEncoder,MinMaxScaler, OrdinalEncoder"
   ]
  },
  {
   "cell_type": "markdown",
   "metadata": {},
   "source": [
    "## Creamos el Data Frame y lo nombramos _df_bmw_"
   ]
  },
  {
   "cell_type": "code",
   "execution_count": 225,
   "metadata": {},
   "outputs": [],
   "source": [
    "df_bmw = pd.read_csv(\"./data/bmw_pricing_v3.csv\")"
   ]
  },
  {
   "cell_type": "code",
   "execution_count": 226,
   "metadata": {},
   "outputs": [
    {
     "name": "stdout",
     "output_type": "stream",
     "text": [
      "<class 'pandas.core.frame.DataFrame'>\n",
      "RangeIndex: 4843 entries, 0 to 4842\n",
      "Data columns (total 18 columns):\n",
      " #   Column                       Non-Null Count  Dtype  \n",
      "---  ------                       --------------  -----  \n",
      " 0   marca                        3873 non-null   object \n",
      " 1   modelo                       4840 non-null   object \n",
      " 2   km                           4841 non-null   float64\n",
      " 3   potencia                     4842 non-null   float64\n",
      " 4   fecha_registro               2420 non-null   object \n",
      " 5   tipo_gasolina                4838 non-null   object \n",
      " 6   color                        4398 non-null   object \n",
      " 7   tipo_coche                   3383 non-null   object \n",
      " 8   volante_regulable            4839 non-null   object \n",
      " 9   aire_acondicionado           4357 non-null   object \n",
      " 10  camara_trasera               4841 non-null   object \n",
      " 11  asientos_traseros_plegables  1452 non-null   object \n",
      " 12  elevalunas_electrico         4841 non-null   object \n",
      " 13  bluetooth                    4115 non-null   object \n",
      " 14  gps                          4843 non-null   bool   \n",
      " 15  alerta_lim_velocidad         4115 non-null   object \n",
      " 16  precio                       4837 non-null   float64\n",
      " 17  fecha_venta                  4842 non-null   object \n",
      "dtypes: bool(1), float64(3), object(14)\n",
      "memory usage: 648.1+ KB\n"
     ]
    }
   ],
   "source": [
    "# ESTRUCTURA DE DATOS\n",
    "df_bmw.info()"
   ]
  },
  {
   "cell_type": "markdown",
   "metadata": {},
   "source": [
    "### Revisamos si hay duplicados para eliminar"
   ]
  },
  {
   "cell_type": "code",
   "execution_count": 227,
   "metadata": {},
   "outputs": [
    {
     "data": {
      "text/html": [
       "<div>\n",
       "<style scoped>\n",
       "    .dataframe tbody tr th:only-of-type {\n",
       "        vertical-align: middle;\n",
       "    }\n",
       "\n",
       "    .dataframe tbody tr th {\n",
       "        vertical-align: top;\n",
       "    }\n",
       "\n",
       "    .dataframe thead th {\n",
       "        text-align: right;\n",
       "    }\n",
       "</style>\n",
       "<table border=\"1\" class=\"dataframe\">\n",
       "  <thead>\n",
       "    <tr style=\"text-align: right;\">\n",
       "      <th></th>\n",
       "      <th>marca</th>\n",
       "      <th>modelo</th>\n",
       "      <th>km</th>\n",
       "      <th>potencia</th>\n",
       "      <th>fecha_registro</th>\n",
       "      <th>tipo_gasolina</th>\n",
       "      <th>color</th>\n",
       "      <th>tipo_coche</th>\n",
       "      <th>volante_regulable</th>\n",
       "      <th>aire_acondicionado</th>\n",
       "      <th>camara_trasera</th>\n",
       "      <th>asientos_traseros_plegables</th>\n",
       "      <th>elevalunas_electrico</th>\n",
       "      <th>bluetooth</th>\n",
       "      <th>gps</th>\n",
       "      <th>alerta_lim_velocidad</th>\n",
       "      <th>precio</th>\n",
       "      <th>fecha_venta</th>\n",
       "    </tr>\n",
       "  </thead>\n",
       "  <tbody>\n",
       "  </tbody>\n",
       "</table>\n",
       "</div>"
      ],
      "text/plain": [
       "Empty DataFrame\n",
       "Columns: [marca, modelo, km, potencia, fecha_registro, tipo_gasolina, color, tipo_coche, volante_regulable, aire_acondicionado, camara_trasera, asientos_traseros_plegables, elevalunas_electrico, bluetooth, gps, alerta_lim_velocidad, precio, fecha_venta]\n",
       "Index: []"
      ]
     },
     "execution_count": 227,
     "metadata": {},
     "output_type": "execute_result"
    }
   ],
   "source": [
    "df_bmw[df_bmw.duplicated(keep=False)] #No hay duplicados\n",
    "#Para comprobar que no hay duplicados hago un conteo inicial de mis filas, utilizo drop_duplicated y vuelvo a contar filas\n",
    "# len(imdb)\n",
    "# imdb.drop_duplicated(inplace=True)\n",
    "# len(imdb)"
   ]
  },
  {
   "cell_type": "markdown",
   "metadata": {},
   "source": [
    "### Iniciamos con los  cambios, previa copia"
   ]
  },
  {
   "cell_type": "code",
   "execution_count": 228,
   "metadata": {},
   "outputs": [],
   "source": [
    "df_bmw2 = df_bmw.copy()"
   ]
  },
  {
   "cell_type": "code",
   "execution_count": 229,
   "metadata": {},
   "outputs": [
    {
     "data": {
      "text/plain": [
       "marca                           970\n",
       "modelo                            3\n",
       "km                                2\n",
       "potencia                          1\n",
       "fecha_registro                 2423\n",
       "tipo_gasolina                     5\n",
       "color                           445\n",
       "tipo_coche                     1460\n",
       "volante_regulable                 4\n",
       "aire_acondicionado              486\n",
       "camara_trasera                    2\n",
       "asientos_traseros_plegables    3391\n",
       "elevalunas_electrico              2\n",
       "bluetooth                       728\n",
       "gps                               0\n",
       "alerta_lim_velocidad            728\n",
       "precio                            6\n",
       "fecha_venta                       1\n",
       "dtype: int64"
      ]
     },
     "execution_count": 229,
     "metadata": {},
     "output_type": "execute_result"
    }
   ],
   "source": [
    "df_bmw2.isnull().sum()"
   ]
  },
  {
   "cell_type": "code",
   "execution_count": 230,
   "metadata": {},
   "outputs": [],
   "source": [
    "#Observamos nulos inferiores al 1% en las columnas, las eliminamos\n",
    "for i in df_bmw2:\n",
    "  if df_bmw2[i].isnull().sum() < 7:\n",
    "   df_bmw2.dropna(subset=[i],inplace=True)"
   ]
  },
  {
   "cell_type": "markdown",
   "metadata": {},
   "source": [
    "### Hacemos una copia para revisar variable por variable"
   ]
  },
  {
   "cell_type": "code",
   "execution_count": 231,
   "metadata": {},
   "outputs": [],
   "source": [
    "#Empezamos a revisar las variables\n",
    "df_bmw3 = df_bmw2.copy()"
   ]
  },
  {
   "cell_type": "code",
   "execution_count": 232,
   "metadata": {},
   "outputs": [
    {
     "name": "stdout",
     "output_type": "stream",
     "text": [
      "<class 'pandas.core.frame.DataFrame'>\n",
      "Index: 4817 entries, 0 to 4842\n",
      "Data columns (total 18 columns):\n",
      " #   Column                       Non-Null Count  Dtype  \n",
      "---  ------                       --------------  -----  \n",
      " 0   marca                        3852 non-null   object \n",
      " 1   modelo                       4817 non-null   object \n",
      " 2   km                           4817 non-null   float64\n",
      " 3   potencia                     4817 non-null   float64\n",
      " 4   fecha_registro               2408 non-null   object \n",
      " 5   tipo_gasolina                4817 non-null   object \n",
      " 6   color                        4375 non-null   object \n",
      " 7   tipo_coche                   3368 non-null   object \n",
      " 8   volante_regulable            4817 non-null   object \n",
      " 9   aire_acondicionado           4335 non-null   object \n",
      " 10  camara_trasera               4817 non-null   object \n",
      " 11  asientos_traseros_plegables  1444 non-null   object \n",
      " 12  elevalunas_electrico         4817 non-null   object \n",
      " 13  bluetooth                    4092 non-null   object \n",
      " 14  gps                          4817 non-null   bool   \n",
      " 15  alerta_lim_velocidad         4092 non-null   object \n",
      " 16  precio                       4817 non-null   float64\n",
      " 17  fecha_venta                  4817 non-null   object \n",
      "dtypes: bool(1), float64(3), object(14)\n",
      "memory usage: 682.1+ KB\n"
     ]
    }
   ],
   "source": [
    "df_bmw3.info()"
   ]
  },
  {
   "cell_type": "markdown",
   "metadata": {},
   "source": [
    "### Variable **Marca**\n",
    "Observamos que tiene solo dos únicos valores y como sabemos que el dataset es de BMW, los nulos lo completamos con la moda y/o la misma marca. Al tratarse de toda la columna el mismo valor, decidimos eliminarla."
   ]
  },
  {
   "cell_type": "code",
   "execution_count": 233,
   "metadata": {},
   "outputs": [
    {
     "name": "stderr",
     "output_type": "stream",
     "text": [
      "C:\\Users\\harol\\AppData\\Local\\Temp\\ipykernel_18696\\338064117.py:4: FutureWarning: A value is trying to be set on a copy of a DataFrame or Series through chained assignment using an inplace method.\n",
      "The behavior will change in pandas 3.0. This inplace method will never work because the intermediate object on which we are setting values always behaves as a copy.\n",
      "\n",
      "For example, when doing 'df[col].method(value, inplace=True)', try using 'df.method({col: value}, inplace=True)' or df[col] = df[col].method(value) instead, to perform the operation inplace on the original object.\n",
      "\n",
      "\n",
      "  df_bmw3['marca'].fillna(df_bmw3['marca'].mode()[0], inplace=True) #Completo los nulos con la moda\n"
     ]
    }
   ],
   "source": [
    "#df_bmw3['marca'].isnull().sum()\n",
    "#df_bmw3['marca'].unique()\n",
    "#df_bmw3['marca'].value_counts(normalize=True)\n",
    "df_bmw3['marca'].fillna(df_bmw3['marca'].mode()[0], inplace=True) #Completo los nulos con la moda"
   ]
  },
  {
   "cell_type": "code",
   "execution_count": 234,
   "metadata": {},
   "outputs": [],
   "source": [
    "del(df_bmw3['marca'])"
   ]
  },
  {
   "cell_type": "markdown",
   "metadata": {},
   "source": [
    "### Variable **Color**\n",
    "Observamos su distribución con _normalize_ y lo reemplazamos los nulos con la moda"
   ]
  },
  {
   "cell_type": "code",
   "execution_count": 235,
   "metadata": {},
   "outputs": [
    {
     "name": "stderr",
     "output_type": "stream",
     "text": [
      "C:\\Users\\harol\\AppData\\Local\\Temp\\ipykernel_18696\\881180119.py:3: FutureWarning: A value is trying to be set on a copy of a DataFrame or Series through chained assignment using an inplace method.\n",
      "The behavior will change in pandas 3.0. This inplace method will never work because the intermediate object on which we are setting values always behaves as a copy.\n",
      "\n",
      "For example, when doing 'df[col].method(value, inplace=True)', try using 'df.method({col: value}, inplace=True)' or df[col] = df[col].method(value) instead, to perform the operation inplace on the original object.\n",
      "\n",
      "\n",
      "  df_bmw3['color'].fillna(df_bmw3['color'].mode()[0], inplace=True)\n"
     ]
    }
   ],
   "source": [
    "df_bmw3[df_bmw3['color'].isnull()]\n",
    "#df_bmw3['color'].value_counts(normalize=True)\n",
    "df_bmw3['color'].fillna(df_bmw3['color'].mode()[0], inplace=True)"
   ]
  },
  {
   "cell_type": "code",
   "execution_count": 236,
   "metadata": {},
   "outputs": [],
   "source": [
    "df_bmw4 = df_bmw3.copy()"
   ]
  },
  {
   "cell_type": "markdown",
   "metadata": {},
   "source": [
    "### Variable **tipo_coche**\n",
    "Reemplazamos los nulos con _sin tipo_"
   ]
  },
  {
   "cell_type": "code",
   "execution_count": 237,
   "metadata": {},
   "outputs": [
    {
     "name": "stderr",
     "output_type": "stream",
     "text": [
      "C:\\Users\\harol\\AppData\\Local\\Temp\\ipykernel_18696\\3349981566.py:1: FutureWarning: A value is trying to be set on a copy of a DataFrame or Series through chained assignment using an inplace method.\n",
      "The behavior will change in pandas 3.0. This inplace method will never work because the intermediate object on which we are setting values always behaves as a copy.\n",
      "\n",
      "For example, when doing 'df[col].method(value, inplace=True)', try using 'df.method({col: value}, inplace=True)' or df[col] = df[col].method(value) instead, to perform the operation inplace on the original object.\n",
      "\n",
      "\n",
      "  df_bmw4['tipo_coche'].fillna('sin tipo', inplace=True)\n"
     ]
    }
   ],
   "source": [
    "df_bmw4['tipo_coche'].fillna('sin tipo', inplace=True)"
   ]
  },
  {
   "cell_type": "markdown",
   "metadata": {},
   "source": [
    "### Variable **aire_acondicionado**"
   ]
  },
  {
   "cell_type": "code",
   "execution_count": 238,
   "metadata": {},
   "outputs": [
    {
     "data": {
      "text/plain": [
       "array([True, False, nan], dtype=object)"
      ]
     },
     "execution_count": 238,
     "metadata": {},
     "output_type": "execute_result"
    }
   ],
   "source": [
    "df_bmw4['aire_acondicionado'].unique() #Evaluamos luego"
   ]
  },
  {
   "cell_type": "markdown",
   "metadata": {},
   "source": [
    "### Variable **asientos_traseros_plegables**"
   ]
  },
  {
   "cell_type": "code",
   "execution_count": 239,
   "metadata": {},
   "outputs": [],
   "source": [
    "#Eliminamos la columna ya que tienes mas del 75% nulos\n",
    "del(df_bmw4['asientos_traseros_plegables'])"
   ]
  },
  {
   "cell_type": "markdown",
   "metadata": {},
   "source": [
    "### Variable **bluetooth**"
   ]
  },
  {
   "cell_type": "code",
   "execution_count": 240,
   "metadata": {},
   "outputs": [
    {
     "data": {
      "text/plain": [
       "array([nan, True, False], dtype=object)"
      ]
     },
     "execution_count": 240,
     "metadata": {},
     "output_type": "execute_result"
    }
   ],
   "source": [
    "df_bmw4['bluetooth'].unique() #Evaluamos luego"
   ]
  },
  {
   "cell_type": "markdown",
   "metadata": {},
   "source": [
    "### Variable **alerta_lim_velocidad**"
   ]
  },
  {
   "cell_type": "code",
   "execution_count": 241,
   "metadata": {},
   "outputs": [
    {
     "data": {
      "text/plain": [
       "array([nan, True, False], dtype=object)"
      ]
     },
     "execution_count": 241,
     "metadata": {},
     "output_type": "execute_result"
    }
   ],
   "source": [
    "df_bmw4['alerta_lim_velocidad'].unique() #Evaluamos luego"
   ]
  },
  {
   "cell_type": "markdown",
   "metadata": {},
   "source": [
    "### Hacemos una copia y cambiamos el formato de fechas."
   ]
  },
  {
   "cell_type": "code",
   "execution_count": 242,
   "metadata": {},
   "outputs": [],
   "source": [
    "df_bmw5 = df_bmw4.copy()"
   ]
  },
  {
   "cell_type": "code",
   "execution_count": 243,
   "metadata": {},
   "outputs": [],
   "source": [
    "df_bmw5['fecha_registro']=pd.to_datetime(df_bmw5['fecha_registro'])\n",
    "df_bmw5['fecha_venta']=pd.to_datetime(df_bmw5['fecha_venta'])"
   ]
  },
  {
   "cell_type": "markdown",
   "metadata": {},
   "source": [
    "### Creamos una nueva columna \"Antiguedad\" en años."
   ]
  },
  {
   "cell_type": "code",
   "execution_count": 244,
   "metadata": {},
   "outputs": [],
   "source": [
    "df_bmw5[\"antiguedad\"]= round((df_bmw5[\"fecha_venta\"]-df_bmw5[\"fecha_registro\"])/ np.timedelta64(1,'m'))/(1440*365)"
   ]
  },
  {
   "cell_type": "code",
   "execution_count": 245,
   "metadata": {},
   "outputs": [
    {
     "data": {
      "text/plain": [
       "0       5.920548\n",
       "1            NaN\n",
       "2       5.841096\n",
       "3            NaN\n",
       "4            NaN\n",
       "          ...   \n",
       "4838         NaN\n",
       "4839    3.169863\n",
       "4840    2.920548\n",
       "4841    2.419178\n",
       "4842         NaN\n",
       "Name: antiguedad, Length: 4817, dtype: float64"
      ]
     },
     "execution_count": 245,
     "metadata": {},
     "output_type": "execute_result"
    }
   ],
   "source": [
    "df_bmw5[\"antiguedad\"]"
   ]
  },
  {
   "cell_type": "markdown",
   "metadata": {},
   "source": []
  },
  {
   "cell_type": "markdown",
   "metadata": {},
   "source": [
    "### Completamos los nulos con la moda"
   ]
  },
  {
   "cell_type": "code",
   "execution_count": 246,
   "metadata": {},
   "outputs": [],
   "source": [
    "df_bmw5[\"antiguedad\"].fillna(df_bmw5[\"antiguedad\"].mode()[0], inplace=True)"
   ]
  },
  {
   "cell_type": "markdown",
   "metadata": {},
   "source": [
    "### Observamos nuestra nueva variable mediante un histrograma y nos damos cuenta que contiene valores negativos, lo cual no es posible. \n"
   ]
  },
  {
   "cell_type": "code",
   "execution_count": 247,
   "metadata": {},
   "outputs": [
    {
     "data": {
      "text/plain": [
       "array([[<AxesSubplot: title={'center': 'antiguedad'}>]], dtype=object)"
      ]
     },
     "execution_count": 247,
     "metadata": {},
     "output_type": "execute_result"
    },
    {
     "data": {
      "image/png": "[encoded data removed]",
      "text/plain": [
       "<Figure size 640x480 with 1 Axes>"
      ]
     },
     "metadata": {},
     "output_type": "display_data"
    }
   ],
   "source": [
    "df_bmw5.hist('antiguedad')"
   ]
  },
  {
   "cell_type": "code",
   "execution_count": 248,
   "metadata": {},
   "outputs": [],
   "source": [
    "#df_bmw5[df_bmw5['antiguedad']<0]\n",
    "#Elimino valores menors a 0\n",
    "df_bmw5.drop(df_bmw5[df_bmw5['antiguedad']<0].index, inplace=True)"
   ]
  },
  {
   "cell_type": "markdown",
   "metadata": {},
   "source": [
    "## Ahora revisamos resto de variables"
   ]
  },
  {
   "cell_type": "markdown",
   "metadata": {},
   "source": [
    "### Variable Km"
   ]
  },
  {
   "cell_type": "code",
   "execution_count": 249,
   "metadata": {},
   "outputs": [],
   "source": [
    "#Observamos que existe valor menos a \"0\", procedemos a eliminar\n",
    "df_bmw5.drop(df_bmw5[df_bmw5['km']<0].index, inplace=True)"
   ]
  },
  {
   "cell_type": "markdown",
   "metadata": {},
   "source": [
    "### Variable Potencia"
   ]
  },
  {
   "cell_type": "code",
   "execution_count": 250,
   "metadata": {},
   "outputs": [],
   "source": [
    "#Observamos que existe valor igual a \"0\", procedemos a eliminar\n",
    "df_bmw5.drop(df_bmw5[df_bmw5['potencia']==0].index, inplace=True)"
   ]
  },
  {
   "cell_type": "markdown",
   "metadata": {},
   "source": [
    "### Variable tipo_gasolina"
   ]
  },
  {
   "cell_type": "code",
   "execution_count": 251,
   "metadata": {},
   "outputs": [],
   "source": [
    "# Renombramos \"tipo gasolina\" a \"combustible\"\n",
    "df_bmw5.rename(columns={'tipo_gasolina': 'combustible'}, inplace=True)\n",
    "# Vemos los valores unicos en tipo de gasolina y observamos error en tipeo dentro de los tipos\n",
    "df_bmw5['combustible'].unique()\n",
    "# Estandarizamos los nombre de tipos a minuscula\n",
    "df_bmw5['combustible']=df_bmw5['combustible'].str.lower()"
   ]
  },
  {
   "cell_type": "code",
   "execution_count": 252,
   "metadata": {},
   "outputs": [],
   "source": [
    "#hacemos copia\n",
    "df_bmw6 = df_bmw5.copy()"
   ]
  },
  {
   "cell_type": "markdown",
   "metadata": {},
   "source": [
    "### Volvemos a las variables Booleanas"
   ]
  },
  {
   "cell_type": "code",
   "execution_count": 253,
   "metadata": {},
   "outputs": [],
   "source": [
    "# Preparamos una función que determine la proporción de cada variable_booleanas\n",
    "def calcular_proporcion_booleanos(df, columna):\n",
    "    \"\"\"\n",
    "    Calcula la proporción de valores booleanos en una columna de un DataFrame.\n",
    "\n",
    "    Parámetros:\n",
    "        - df: DataFrame de pandas.\n",
    "        - columna: Nombre de la columna que se va a analizar.\n",
    "\n",
    "    Retorna:\n",
    "        La proporción de valores True y False en la columna especificada.\n",
    "    \"\"\"\n",
    "    conteo_booleanos = df[columna].value_counts(normalize=True)\n",
    "    proporcion_true = conteo_booleanos.get(True, 0) * 100\n",
    "    proporcion_false = conteo_booleanos.get(False, 0) * 100\n",
    "    return proporcion_true, proporcion_false\n",
    "\n",
    "\n",
    "# Calcular la proporción de valores booleanos en la columna 'aire_acondicionado'\n",
    "proporcion_true_EE, proporcion_false_EE= calcular_proporcion_booleanos(df_bmw6, 'aire_acondicionado')\n",
    "proporcion_true_bluetooth,proporcion_false_bluetooth= calcular_proporcion_booleanos(df_bmw6, 'bluetooth')\n",
    "proporcion_true_alerta_lim_velocidad, proporcion_false_alerta_lim_velocidad= calcular_proporcion_booleanos(df_bmw6, 'alerta_lim_velocidad')"
   ]
  },
  {
   "cell_type": "markdown",
   "metadata": {},
   "source": [
    "### Preparamos funcion para rellenar nulos en columnas designadas con proporciones de True y False"
   ]
  },
  {
   "cell_type": "code",
   "execution_count": 254,
   "metadata": {},
   "outputs": [
    {
     "name": "stderr",
     "output_type": "stream",
     "text": [
      "C:\\Users\\harol\\AppData\\Local\\Temp\\ipykernel_18696\\2693508799.py:21: FutureWarning: A value is trying to be set on a copy of a DataFrame or Series through chained assignment using an inplace method.\n",
      "The behavior will change in pandas 3.0. This inplace method will never work because the intermediate object on which we are setting values always behaves as a copy.\n",
      "\n",
      "For example, when doing 'df[col].method(value, inplace=True)', try using 'df.method({col: value}, inplace=True)' or df[col] = df[col].method(value) instead, to perform the operation inplace on the original object.\n",
      "\n",
      "\n",
      "  df[columna].fillna(valores_serie, inplace=True)\n",
      "C:\\Users\\harol\\AppData\\Local\\Temp\\ipykernel_18696\\2693508799.py:21: FutureWarning: Downcasting object dtype arrays on .fillna, .ffill, .bfill is deprecated and will change in a future version. Call result.infer_objects(copy=False) instead. To opt-in to the future behavior, set `pd.set_option('future.no_silent_downcasting', True)`\n",
      "  df[columna].fillna(valores_serie, inplace=True)\n"
     ]
    }
   ],
   "source": [
    "def rellenar_nulos_con_proporciones(df, proporciones_true, proporciones_false):\n",
    "    \"\"\"\n",
    "    Rellena los valores nulos en las columnas específicas de un DataFrame con proporciones de True y False.\n",
    "\n",
    "    Parámetros:\n",
    "        - df: DataFrame de pandas.\n",
    "        - proporciones_true: Diccionario que mapea el nombre de la columna a su proporción de True.\n",
    "        - proporciones_false: Diccionario que mapea el nombre de la columna a su proporción de False.\n",
    "\n",
    "    Retorna:\n",
    "        El DataFrame con los valores nulos rellenados según las proporciones especificadas.\n",
    "    \"\"\"\n",
    "    for columna, proporcion_true in proporciones_true.items():\n",
    "        proporcion_false = proporciones_false[columna]\n",
    "        num_nulos = df[columna].isnull().sum()\n",
    "        num_true = round(num_nulos * proporcion_true)\n",
    "        num_false = num_nulos - num_true\n",
    "        valores = [True] * num_true + [False] * num_false\n",
    "        np.random.shuffle(valores)\n",
    "        valores_serie = pd.Series(valores, index=df.index[df[columna].isnull()])\n",
    "        df[columna].fillna(valores_serie, inplace=True)\n",
    "\n",
    "    return df\n",
    "\n",
    "# Diccionarios de proporciones de True y False\n",
    "proporciones_true = {\n",
    "    'aire_acondicionado': 0.8056,\n",
    "    'bluetooth': 0.2449,\n",
    "    'alerta_lim_velocidad': 0.5487\n",
    "}\n",
    "\n",
    "proporciones_false = {\n",
    "    'aire_acondicionado': 1 - proporciones_true['aire_acondicionado'],\n",
    "    'bluetooth': 1 - proporciones_true['bluetooth'],\n",
    "    'alerta_lim_velocidad': 1 - proporciones_true['alerta_lim_velocidad']\n",
    "}\n",
    "\n",
    "# Utilizar la función para rellenar los valores nulos en las columnas con las proporciones correspondientes\n",
    "df_bmw6 = rellenar_nulos_con_proporciones(df_bmw6, proporciones_true, proporciones_false)"
   ]
  },
  {
   "cell_type": "code",
   "execution_count": 255,
   "metadata": {},
   "outputs": [
    {
     "name": "stdout",
     "output_type": "stream",
     "text": [
      "<class 'pandas.core.frame.DataFrame'>\n",
      "Index: 4813 entries, 0 to 4842\n",
      "Data columns (total 17 columns):\n",
      " #   Column                Non-Null Count  Dtype         \n",
      "---  ------                --------------  -----         \n",
      " 0   modelo                4813 non-null   object        \n",
      " 1   km                    4813 non-null   float64       \n",
      " 2   potencia              4813 non-null   float64       \n",
      " 3   fecha_registro        2405 non-null   datetime64[ns]\n",
      " 4   combustible           4813 non-null   object        \n",
      " 5   color                 4813 non-null   object        \n",
      " 6   tipo_coche            4813 non-null   object        \n",
      " 7   volante_regulable     4813 non-null   object        \n",
      " 8   aire_acondicionado    4813 non-null   bool          \n",
      " 9   camara_trasera        4813 non-null   object        \n",
      " 10  elevalunas_electrico  4813 non-null   object        \n",
      " 11  bluetooth             4813 non-null   bool          \n",
      " 12  gps                   4813 non-null   bool          \n",
      " 13  alerta_lim_velocidad  4813 non-null   bool          \n",
      " 14  precio                4813 non-null   float64       \n",
      " 15  fecha_venta           4813 non-null   datetime64[ns]\n",
      " 16  antiguedad            4813 non-null   float64       \n",
      "dtypes: bool(4), datetime64[ns](2), float64(4), object(7)\n",
      "memory usage: 545.2+ KB\n"
     ]
    }
   ],
   "source": [
    "# hacemos un info para ver como van nuestros datos.\n",
    "df_bmw6.info()"
   ]
  },
  {
   "cell_type": "markdown",
   "metadata": {},
   "source": [
    "### Observamos que hay variables de tipo Objeto que son booleanas y las casteamos"
   ]
  },
  {
   "cell_type": "code",
   "execution_count": 256,
   "metadata": {},
   "outputs": [],
   "source": [
    "#Añadimos la columna con tipo booleana\n",
    "list_to_cast=['volante_regulable','camara_trasera','elevalunas_electrico']\n",
    "for i in list_to_cast:\n",
    "  df_bmw6[i] = df_bmw6[i].astype(bool)"
   ]
  },
  {
   "cell_type": "code",
   "execution_count": 257,
   "metadata": {},
   "outputs": [
    {
     "name": "stdout",
     "output_type": "stream",
     "text": [
      "<class 'pandas.core.frame.DataFrame'>\n",
      "Index: 4813 entries, 0 to 4842\n",
      "Data columns (total 17 columns):\n",
      " #   Column                Non-Null Count  Dtype         \n",
      "---  ------                --------------  -----         \n",
      " 0   modelo                4813 non-null   object        \n",
      " 1   km                    4813 non-null   float64       \n",
      " 2   potencia              4813 non-null   float64       \n",
      " 3   fecha_registro        2405 non-null   datetime64[ns]\n",
      " 4   combustible           4813 non-null   object        \n",
      " 5   color                 4813 non-null   object        \n",
      " 6   tipo_coche            4813 non-null   object        \n",
      " 7   volante_regulable     4813 non-null   bool          \n",
      " 8   aire_acondicionado    4813 non-null   bool          \n",
      " 9   camara_trasera        4813 non-null   bool          \n",
      " 10  elevalunas_electrico  4813 non-null   bool          \n",
      " 11  bluetooth             4813 non-null   bool          \n",
      " 12  gps                   4813 non-null   bool          \n",
      " 13  alerta_lim_velocidad  4813 non-null   bool          \n",
      " 14  precio                4813 non-null   float64       \n",
      " 15  fecha_venta           4813 non-null   datetime64[ns]\n",
      " 16  antiguedad            4813 non-null   float64       \n",
      "dtypes: bool(7), datetime64[ns](2), float64(4), object(4)\n",
      "memory usage: 446.5+ KB\n"
     ]
    }
   ],
   "source": [
    "df_bmw6.info()"
   ]
  },
  {
   "cell_type": "markdown",
   "metadata": {},
   "source": [
    "### Como hemos creado la columna \"antiguedad\", procedemos a borrar \"fecha_registro\" y \"fecha_venta\""
   ]
  },
  {
   "cell_type": "code",
   "execution_count": 258,
   "metadata": {},
   "outputs": [],
   "source": [
    "list_to_delete = ['fecha_registro','fecha_venta']\n",
    "for i in list_to_delete:\n",
    "  del(df_bmw6[i])"
   ]
  },
  {
   "cell_type": "markdown",
   "metadata": {},
   "source": [
    "### Siguiendo con el análisis univariable y después de revisar el detalle de la variable modelo, observamos grupos que pertenecen a un cierto tipo_coche, los validamos y aseguramos los evidentes, trabajo sobre una copia nueva"
   ]
  },
  {
   "cell_type": "code",
   "execution_count": 259,
   "metadata": {},
   "outputs": [
    {
     "data": {
      "text/plain": [
       "tipo_coche\n",
       "sin tipo       1448\n",
       "estate         1096\n",
       "sedan           820\n",
       "suv             753\n",
       "hatchback       488\n",
       "subcompact       77\n",
       "coupe            73\n",
       "convertible      30\n",
       "van              28\n",
       "Name: count, dtype: int64"
      ]
     },
     "execution_count": 259,
     "metadata": {},
     "output_type": "execute_result"
    }
   ],
   "source": [
    "df_bmw6['tipo_coche'].value_counts()"
   ]
  },
  {
   "cell_type": "code",
   "execution_count": 260,
   "metadata": {},
   "outputs": [],
   "source": [
    "df_bmw7= df_bmw6.copy()"
   ]
  },
  {
   "cell_type": "code",
   "execution_count": 261,
   "metadata": {},
   "outputs": [
    {
     "data": {
      "text/plain": [
       "['X3', 'X5', 'X1', 'X4', 'X6']"
      ]
     },
     "execution_count": 261,
     "metadata": {},
     "output_type": "execute_result"
    }
   ],
   "source": [
    "#Capturo los modelos que inicien con \"X\"\n",
    "models_to_suv =[]\n",
    "for i in df_bmw7['modelo'].unique():\n",
    "  if ((i[0]=='X') & (len(i)==2)):\n",
    "    #print(i)\n",
    "    models_to_suv.append(i)\n",
    "\n",
    "models_to_suv"
   ]
  },
  {
   "cell_type": "code",
   "execution_count": 262,
   "metadata": {},
   "outputs": [],
   "source": [
    "#Me aseguro que todos los modelos que inicien con \"X\" son suv\n",
    "for i in models_to_suv:\n",
    "  df_bmw7.loc[df_bmw7[(df_bmw7['modelo']==i)].index,'tipo_coche']=\"suv\""
   ]
  },
  {
   "cell_type": "code",
   "execution_count": 263,
   "metadata": {},
   "outputs": [],
   "source": [
    "#Todos los modelos que contengan el término \"tourer\" son van\n",
    "models_to_tourer =[]\n",
    "for i in df_bmw7['modelo'].unique():\n",
    "  if (i.find('Tourer')!=-1):\n",
    "    #print(i)\n",
    "    models_to_tourer.append(i)\n",
    "\n",
    "#models_to_tourer\n",
    "for i in models_to_tourer:\n",
    "  df_bmw7.loc[df_bmw7[(df_bmw7['modelo']==i)].index,'tipo_coche']=\"van\""
   ]
  },
  {
   "cell_type": "code",
   "execution_count": 264,
   "metadata": {},
   "outputs": [],
   "source": [
    "#Todos los modelo que contengan el término \"coupe\" son coupe\n",
    "models_to_coupe =[]\n",
    "for i in df_bmw7['modelo'].unique():\n",
    "  if (i.find('Coupé')!=-1):\n",
    "    #print(i)\n",
    "    models_to_coupe.append(i)\n",
    "\n",
    "#models_to_coupe\n",
    "for i in models_to_coupe:\n",
    "  df_bmw7.loc[df_bmw7[(df_bmw7['modelo']==i)].index,'tipo_coche']=\"coupe\""
   ]
  },
  {
   "cell_type": "markdown",
   "metadata": {},
   "source": [
    "### Decidimos asignar modelos dentro de una nueva columna serie en particular, para esto reconocemos que cada serie engloba cierto tipo de modelos"
   ]
  },
  {
   "cell_type": "code",
   "execution_count": 265,
   "metadata": {},
   "outputs": [
    {
     "data": {
      "text/plain": [
       "array(['118', 'M4', '320', '420', '425', '335', '325', 'Z4', '120', '220',\n",
       "       '650', '135', '218', '318', '430', 'M3', '330', '225', 'M235',\n",
       "       '316', '435', '640', '640 Gran Coupé', '435 Gran Coupé', 'i8',\n",
       "       '630', '430 Gran Coupé', '635', '520', '525', '530', '535',\n",
       "       '320 Gran Turismo', '518', '116', '328', '523', 'X3', 'M550',\n",
       "       '528', '325 Gran Turismo', '125', '318 Gran Turismo',\n",
       "       '420 Gran Coupé', 'i3', '114', '520 Gran Turismo',\n",
       "       '530 Gran Turismo', 'M135', '418 Gran Coupé', '330 Gran Turismo',\n",
       "       '335 Gran Turismo', '730', '123', '535 Gran Turismo', '740', '750',\n",
       "       'ActiveHybrid 5', '735', 'M5', 'X5', 'X1', 'X4', 'X6', 'X6 M',\n",
       "       'X5 M', 'X5 M50', '218 Active Tourer', '218 Gran Tourer', '216',\n",
       "       '220 Active Tourer', '216 Gran Tourer', '216 Active Tourer',\n",
       "       ' Active Tourer', '225 Active Tourer', '214 Gran Tourer'],\n",
       "      dtype=object)"
      ]
     },
     "execution_count": 265,
     "metadata": {},
     "output_type": "execute_result"
    }
   ],
   "source": [
    "df_bmw7['modelo'].unique()"
   ]
  },
  {
   "cell_type": "code",
   "execution_count": 266,
   "metadata": {},
   "outputs": [],
   "source": [
    "def asignar_serie(modelo):\n",
    "    if modelo.startswith('1') or modelo.startswith('X1') or modelo.startswith('M1'):\n",
    "        return 'Serie 1'\n",
    "    elif modelo.startswith('2') or modelo.startswith(' Active Tourer') or modelo.startswith('M2'):\n",
    "        return 'Serie 2'\n",
    "    elif modelo.startswith('3') or modelo.startswith('X3') or modelo.startswith('M3') or modelo.startswith('i3'):\n",
    "        return 'Serie 3'\n",
    "    elif modelo.startswith('4') or modelo.startswith('X4') or modelo.startswith('M4'):\n",
    "        return 'Serie 4'\n",
    "    elif modelo.startswith('5') or modelo.startswith('X5') or modelo.startswith('ActiveHy') or modelo.startswith('M5'):\n",
    "        return 'Serie 5'\n",
    "    elif modelo.startswith('6') or modelo.startswith('X6') :\n",
    "        return 'Serie 6'\n",
    "    elif modelo.startswith('7') or modelo.startswith('i8'):\n",
    "        return 'Serie 7'\n",
    "    elif modelo.startswith('Z'):\n",
    "        return 'Serie Z'\n",
    "    else:\n",
    "        return 'Otro'  # Si no coincide con ninguna serie conocida"
   ]
  },
  {
   "cell_type": "code",
   "execution_count": 267,
   "metadata": {},
   "outputs": [],
   "source": [
    "# Creamos una nueva columna 'serie' aplicando la función asignar_serie a la columna 'modelo'\n",
    "df_bmw7['serie'] = df_bmw7['modelo'].apply(asignar_serie)"
   ]
  },
  {
   "cell_type": "code",
   "execution_count": 268,
   "metadata": {},
   "outputs": [
    {
     "data": {
      "text/plain": [
       "serie\n",
       "Serie 3    2234\n",
       "Serie 5    1398\n",
       "Serie 1     837\n",
       "Serie 4     149\n",
       "Serie 6      81\n",
       "Serie 7      55\n",
       "Serie 2      53\n",
       "Serie Z       6\n",
       "Name: count, dtype: int64"
      ]
     },
     "execution_count": 268,
     "metadata": {},
     "output_type": "execute_result"
    }
   ],
   "source": [
    "df_bmw7['serie'].value_counts()"
   ]
  },
  {
   "cell_type": "code",
   "execution_count": 269,
   "metadata": {},
   "outputs": [],
   "source": [
    "df_bmw8 = df_bmw7.copy()"
   ]
  },
  {
   "cell_type": "markdown",
   "metadata": {},
   "source": [
    "### Analizamos la variable precio"
   ]
  },
  {
   "cell_type": "code",
   "execution_count": 270,
   "metadata": {},
   "outputs": [
    {
     "data": {
      "text/html": [
       "<div>\n",
       "<style scoped>\n",
       "    .dataframe tbody tr th:only-of-type {\n",
       "        vertical-align: middle;\n",
       "    }\n",
       "\n",
       "    .dataframe tbody tr th {\n",
       "        vertical-align: top;\n",
       "    }\n",
       "\n",
       "    .dataframe thead th {\n",
       "        text-align: right;\n",
       "    }\n",
       "</style>\n",
       "<table border=\"1\" class=\"dataframe\">\n",
       "  <thead>\n",
       "    <tr style=\"text-align: right;\">\n",
       "      <th></th>\n",
       "      <th>modelo</th>\n",
       "      <th>km</th>\n",
       "      <th>potencia</th>\n",
       "      <th>combustible</th>\n",
       "      <th>color</th>\n",
       "      <th>tipo_coche</th>\n",
       "      <th>volante_regulable</th>\n",
       "      <th>aire_acondicionado</th>\n",
       "      <th>camara_trasera</th>\n",
       "      <th>elevalunas_electrico</th>\n",
       "      <th>bluetooth</th>\n",
       "      <th>gps</th>\n",
       "      <th>alerta_lim_velocidad</th>\n",
       "      <th>precio</th>\n",
       "      <th>antiguedad</th>\n",
       "      <th>serie</th>\n",
       "    </tr>\n",
       "  </thead>\n",
       "  <tbody>\n",
       "    <tr>\n",
       "      <th>58</th>\n",
       "      <td>316</td>\n",
       "      <td>265751.0</td>\n",
       "      <td>85.0</td>\n",
       "      <td>petrol</td>\n",
       "      <td>silver</td>\n",
       "      <td>coupe</td>\n",
       "      <td>False</td>\n",
       "      <td>False</td>\n",
       "      <td>False</td>\n",
       "      <td>False</td>\n",
       "      <td>False</td>\n",
       "      <td>False</td>\n",
       "      <td>False</td>\n",
       "      <td>1000.0</td>\n",
       "      <td>4.002740</td>\n",
       "      <td>Serie 3</td>\n",
       "    </tr>\n",
       "    <tr>\n",
       "      <th>165</th>\n",
       "      <td>320</td>\n",
       "      <td>209208.0</td>\n",
       "      <td>135.0</td>\n",
       "      <td>diesel</td>\n",
       "      <td>black</td>\n",
       "      <td>estate</td>\n",
       "      <td>False</td>\n",
       "      <td>True</td>\n",
       "      <td>False</td>\n",
       "      <td>False</td>\n",
       "      <td>False</td>\n",
       "      <td>False</td>\n",
       "      <td>True</td>\n",
       "      <td>800.0</td>\n",
       "      <td>4.002740</td>\n",
       "      <td>Serie 3</td>\n",
       "    </tr>\n",
       "    <tr>\n",
       "      <th>170</th>\n",
       "      <td>320</td>\n",
       "      <td>146639.0</td>\n",
       "      <td>135.0</td>\n",
       "      <td>diesel</td>\n",
       "      <td>silver</td>\n",
       "      <td>estate</td>\n",
       "      <td>False</td>\n",
       "      <td>True</td>\n",
       "      <td>False</td>\n",
       "      <td>False</td>\n",
       "      <td>False</td>\n",
       "      <td>True</td>\n",
       "      <td>True</td>\n",
       "      <td>800.0</td>\n",
       "      <td>4.002740</td>\n",
       "      <td>Serie 3</td>\n",
       "    </tr>\n",
       "    <tr>\n",
       "      <th>171</th>\n",
       "      <td>316</td>\n",
       "      <td>159983.0</td>\n",
       "      <td>85.0</td>\n",
       "      <td>diesel</td>\n",
       "      <td>grey</td>\n",
       "      <td>estate</td>\n",
       "      <td>False</td>\n",
       "      <td>False</td>\n",
       "      <td>False</td>\n",
       "      <td>False</td>\n",
       "      <td>False</td>\n",
       "      <td>False</td>\n",
       "      <td>True</td>\n",
       "      <td>800.0</td>\n",
       "      <td>4.002740</td>\n",
       "      <td>Serie 3</td>\n",
       "    </tr>\n",
       "    <tr>\n",
       "      <th>174</th>\n",
       "      <td>520</td>\n",
       "      <td>270884.0</td>\n",
       "      <td>100.0</td>\n",
       "      <td>diesel</td>\n",
       "      <td>blue</td>\n",
       "      <td>estate</td>\n",
       "      <td>True</td>\n",
       "      <td>False</td>\n",
       "      <td>False</td>\n",
       "      <td>False</td>\n",
       "      <td>False</td>\n",
       "      <td>True</td>\n",
       "      <td>False</td>\n",
       "      <td>1100.0</td>\n",
       "      <td>4.002740</td>\n",
       "      <td>Serie 5</td>\n",
       "    </tr>\n",
       "    <tr>\n",
       "      <th>...</th>\n",
       "      <td>...</td>\n",
       "      <td>...</td>\n",
       "      <td>...</td>\n",
       "      <td>...</td>\n",
       "      <td>...</td>\n",
       "      <td>...</td>\n",
       "      <td>...</td>\n",
       "      <td>...</td>\n",
       "      <td>...</td>\n",
       "      <td>...</td>\n",
       "      <td>...</td>\n",
       "      <td>...</td>\n",
       "      <td>...</td>\n",
       "      <td>...</td>\n",
       "      <td>...</td>\n",
       "      <td>...</td>\n",
       "    </tr>\n",
       "    <tr>\n",
       "      <th>3880</th>\n",
       "      <td>X1</td>\n",
       "      <td>170742.0</td>\n",
       "      <td>135.0</td>\n",
       "      <td>diesel</td>\n",
       "      <td>blue</td>\n",
       "      <td>suv</td>\n",
       "      <td>False</td>\n",
       "      <td>False</td>\n",
       "      <td>False</td>\n",
       "      <td>False</td>\n",
       "      <td>False</td>\n",
       "      <td>True</td>\n",
       "      <td>False</td>\n",
       "      <td>800.0</td>\n",
       "      <td>4.002740</td>\n",
       "      <td>Serie 1</td>\n",
       "    </tr>\n",
       "    <tr>\n",
       "      <th>3939</th>\n",
       "      <td>X1</td>\n",
       "      <td>140752.0</td>\n",
       "      <td>105.0</td>\n",
       "      <td>diesel</td>\n",
       "      <td>black</td>\n",
       "      <td>suv</td>\n",
       "      <td>False</td>\n",
       "      <td>False</td>\n",
       "      <td>False</td>\n",
       "      <td>False</td>\n",
       "      <td>False</td>\n",
       "      <td>False</td>\n",
       "      <td>True</td>\n",
       "      <td>800.0</td>\n",
       "      <td>4.002740</td>\n",
       "      <td>Serie 1</td>\n",
       "    </tr>\n",
       "    <tr>\n",
       "      <th>4356</th>\n",
       "      <td>X3</td>\n",
       "      <td>79685.0</td>\n",
       "      <td>190.0</td>\n",
       "      <td>diesel</td>\n",
       "      <td>black</td>\n",
       "      <td>suv</td>\n",
       "      <td>False</td>\n",
       "      <td>False</td>\n",
       "      <td>False</td>\n",
       "      <td>False</td>\n",
       "      <td>False</td>\n",
       "      <td>False</td>\n",
       "      <td>True</td>\n",
       "      <td>100.0</td>\n",
       "      <td>4.246575</td>\n",
       "      <td>Serie 3</td>\n",
       "    </tr>\n",
       "    <tr>\n",
       "      <th>4806</th>\n",
       "      <td>218</td>\n",
       "      <td>118323.0</td>\n",
       "      <td>110.0</td>\n",
       "      <td>diesel</td>\n",
       "      <td>white</td>\n",
       "      <td>sin tipo</td>\n",
       "      <td>False</td>\n",
       "      <td>False</td>\n",
       "      <td>False</td>\n",
       "      <td>False</td>\n",
       "      <td>False</td>\n",
       "      <td>False</td>\n",
       "      <td>False</td>\n",
       "      <td>800.0</td>\n",
       "      <td>3.421918</td>\n",
       "      <td>Serie 2</td>\n",
       "    </tr>\n",
       "    <tr>\n",
       "      <th>4818</th>\n",
       "      <td>X3</td>\n",
       "      <td>110039.0</td>\n",
       "      <td>130.0</td>\n",
       "      <td>diesel</td>\n",
       "      <td>black</td>\n",
       "      <td>suv</td>\n",
       "      <td>False</td>\n",
       "      <td>True</td>\n",
       "      <td>False</td>\n",
       "      <td>False</td>\n",
       "      <td>False</td>\n",
       "      <td>True</td>\n",
       "      <td>False</td>\n",
       "      <td>1300.0</td>\n",
       "      <td>8.838356</td>\n",
       "      <td>Serie 3</td>\n",
       "    </tr>\n",
       "  </tbody>\n",
       "</table>\n",
       "<p>86 rows × 16 columns</p>\n",
       "</div>"
      ],
      "text/plain": [
       "     modelo        km  potencia combustible   color tipo_coche  \\\n",
       "58      316  265751.0      85.0      petrol  silver      coupe   \n",
       "165     320  209208.0     135.0      diesel   black     estate   \n",
       "170     320  146639.0     135.0      diesel  silver     estate   \n",
       "171     316  159983.0      85.0      diesel    grey     estate   \n",
       "174     520  270884.0     100.0      diesel    blue     estate   \n",
       "...     ...       ...       ...         ...     ...        ...   \n",
       "3880     X1  170742.0     135.0      diesel    blue        suv   \n",
       "3939     X1  140752.0     105.0      diesel   black        suv   \n",
       "4356     X3   79685.0     190.0      diesel   black        suv   \n",
       "4806    218  118323.0     110.0      diesel   white   sin tipo   \n",
       "4818     X3  110039.0     130.0      diesel   black        suv   \n",
       "\n",
       "      volante_regulable  aire_acondicionado  camara_trasera  \\\n",
       "58                False               False           False   \n",
       "165               False                True           False   \n",
       "170               False                True           False   \n",
       "171               False               False           False   \n",
       "174                True               False           False   \n",
       "...                 ...                 ...             ...   \n",
       "3880              False               False           False   \n",
       "3939              False               False           False   \n",
       "4356              False               False           False   \n",
       "4806              False               False           False   \n",
       "4818              False                True           False   \n",
       "\n",
       "      elevalunas_electrico  bluetooth    gps  alerta_lim_velocidad  precio  \\\n",
       "58                   False      False  False                 False  1000.0   \n",
       "165                  False      False  False                  True   800.0   \n",
       "170                  False      False   True                  True   800.0   \n",
       "171                  False      False  False                  True   800.0   \n",
       "174                  False      False   True                 False  1100.0   \n",
       "...                    ...        ...    ...                   ...     ...   \n",
       "3880                 False      False   True                 False   800.0   \n",
       "3939                 False      False  False                  True   800.0   \n",
       "4356                 False      False  False                  True   100.0   \n",
       "4806                 False      False  False                 False   800.0   \n",
       "4818                 False      False   True                 False  1300.0   \n",
       "\n",
       "      antiguedad    serie  \n",
       "58      4.002740  Serie 3  \n",
       "165     4.002740  Serie 3  \n",
       "170     4.002740  Serie 3  \n",
       "171     4.002740  Serie 3  \n",
       "174     4.002740  Serie 5  \n",
       "...          ...      ...  \n",
       "3880    4.002740  Serie 1  \n",
       "3939    4.002740  Serie 1  \n",
       "4356    4.246575  Serie 3  \n",
       "4806    3.421918  Serie 2  \n",
       "4818    8.838356  Serie 3  \n",
       "\n",
       "[86 rows x 16 columns]"
      ]
     },
     "execution_count": 270,
     "metadata": {},
     "output_type": "execute_result"
    }
   ],
   "source": [
    "df_bmw8[df_bmw8['precio'] < 1500]"
   ]
  },
  {
   "cell_type": "code",
   "execution_count": 271,
   "metadata": {},
   "outputs": [],
   "source": [
    "#Decidimos seguir el input inicial del negocio(al ser una empresa de segunda mano y no de piezas)\n",
    "#Asumimos que los precios menor a 1500 son para desguace, con lo cual no los considerariamos para nuestro modelo.\n",
    "df_bmw8.drop(df_bmw8[df_bmw8['precio'] < 1500].index,inplace=True)"
   ]
  },
  {
   "cell_type": "code",
   "execution_count": 272,
   "metadata": {},
   "outputs": [
    {
     "data": {
      "text/plain": [
       "<AxesSubplot: >"
      ]
     },
     "execution_count": 272,
     "metadata": {},
     "output_type": "execute_result"
    },
    {
     "data": {
      "image/png": "[encoded data removed]",
      "text/plain": [
       "<Figure size 640x480 with 1 Axes>"
      ]
     },
     "metadata": {},
     "output_type": "display_data"
    }
   ],
   "source": [
    "df_bmw8['precio'].hist()"
   ]
  },
  {
   "cell_type": "code",
   "execution_count": 273,
   "metadata": {},
   "outputs": [],
   "source": [
    "df_bmw8['log_precio'] = np.log10(df_bmw8['precio'])"
   ]
  },
  {
   "cell_type": "code",
   "execution_count": 274,
   "metadata": {},
   "outputs": [
    {
     "data": {
      "text/plain": [
       "<AxesSubplot: >"
      ]
     },
     "execution_count": 274,
     "metadata": {},
     "output_type": "execute_result"
    },
    {
     "data": {
      "image/png": "[encoded data removed]",
      "text/plain": [
       "<Figure size 640x480 with 1 Axes>"
      ]
     },
     "metadata": {},
     "output_type": "display_data"
    }
   ],
   "source": [
    "df_bmw8['log_precio'].hist()"
   ]
  },
  {
   "cell_type": "markdown",
   "metadata": {},
   "source": [
    "### Hacemos la correlación para evaluar las variables, previa copia"
   ]
  },
  {
   "cell_type": "code",
   "execution_count": 275,
   "metadata": {},
   "outputs": [],
   "source": [
    "df_bmw9 = df_bmw8.copy()"
   ]
  },
  {
   "cell_type": "code",
   "execution_count": 276,
   "metadata": {},
   "outputs": [],
   "source": [
    "corr = df_bmw9.corr(numeric_only=True)"
   ]
  },
  {
   "cell_type": "code",
   "execution_count": 277,
   "metadata": {},
   "outputs": [
    {
     "data": {
      "text/html": [
       "<style type=\"text/css\">\n",
       "#T_d960f_row0_col0, #T_d960f_row1_col1, #T_d960f_row2_col2, #T_d960f_row3_col3, #T_d960f_row4_col4, #T_d960f_row5_col5, #T_d960f_row6_col6, #T_d960f_row7_col7, #T_d960f_row8_col8, #T_d960f_row9_col9, #T_d960f_row10_col10, #T_d960f_row11_col11 {\n",
       "  background-color: #b40426;\n",
       "  color: #f1f1f1;\n",
       "}\n",
       "#T_d960f_row0_col1 {\n",
       "  background-color: #3d50c3;\n",
       "  color: #f1f1f1;\n",
       "}\n",
       "#T_d960f_row0_col2, #T_d960f_row0_col6 {\n",
       "  background-color: #4055c8;\n",
       "  color: #f1f1f1;\n",
       "}\n",
       "#T_d960f_row0_col3 {\n",
       "  background-color: #6282ea;\n",
       "  color: #f1f1f1;\n",
       "}\n",
       "#T_d960f_row0_col4, #T_d960f_row0_col9, #T_d960f_row0_col11, #T_d960f_row8_col7, #T_d960f_row10_col1, #T_d960f_row10_col2, #T_d960f_row10_col3, #T_d960f_row10_col5, #T_d960f_row10_col6, #T_d960f_row10_col8, #T_d960f_row11_col0, #T_d960f_row11_col10 {\n",
       "  background-color: #3b4cc0;\n",
       "  color: #f1f1f1;\n",
       "}\n",
       "#T_d960f_row0_col5 {\n",
       "  background-color: #5b7ae5;\n",
       "  color: #f1f1f1;\n",
       "}\n",
       "#T_d960f_row0_col7, #T_d960f_row6_col1, #T_d960f_row8_col10 {\n",
       "  background-color: #82a6fb;\n",
       "  color: #f1f1f1;\n",
       "}\n",
       "#T_d960f_row0_col8 {\n",
       "  background-color: #4e68d8;\n",
       "  color: #f1f1f1;\n",
       "}\n",
       "#T_d960f_row0_col10 {\n",
       "  background-color: #dedcdb;\n",
       "  color: #000000;\n",
       "}\n",
       "#T_d960f_row1_col0 {\n",
       "  background-color: #9abbff;\n",
       "  color: #000000;\n",
       "}\n",
       "#T_d960f_row1_col2, #T_d960f_row2_col7, #T_d960f_row3_col5, #T_d960f_row9_col5 {\n",
       "  background-color: #98b9ff;\n",
       "  color: #000000;\n",
       "}\n",
       "#T_d960f_row1_col3, #T_d960f_row4_col5, #T_d960f_row7_col5, #T_d960f_row8_col3 {\n",
       "  background-color: #86a9fc;\n",
       "  color: #f1f1f1;\n",
       "}\n",
       "#T_d960f_row1_col4 {\n",
       "  background-color: #a2c1ff;\n",
       "  color: #000000;\n",
       "}\n",
       "#T_d960f_row1_col5, #T_d960f_row3_col7 {\n",
       "  background-color: #b6cefa;\n",
       "  color: #000000;\n",
       "}\n",
       "#T_d960f_row1_col6, #T_d960f_row4_col8 {\n",
       "  background-color: #84a7fc;\n",
       "  color: #f1f1f1;\n",
       "}\n",
       "#T_d960f_row1_col7 {\n",
       "  background-color: #4c66d6;\n",
       "  color: #f1f1f1;\n",
       "}\n",
       "#T_d960f_row1_col8, #T_d960f_row5_col9 {\n",
       "  background-color: #d3dbe7;\n",
       "  color: #000000;\n",
       "}\n",
       "#T_d960f_row1_col9 {\n",
       "  background-color: #f59c7d;\n",
       "  color: #000000;\n",
       "}\n",
       "#T_d960f_row1_col10, #T_d960f_row2_col4, #T_d960f_row5_col6, #T_d960f_row5_col7, #T_d960f_row6_col5, #T_d960f_row9_col4 {\n",
       "  background-color: #8caffe;\n",
       "  color: #000000;\n",
       "}\n",
       "#T_d960f_row1_col11 {\n",
       "  background-color: #f6a385;\n",
       "  color: #000000;\n",
       "}\n",
       "#T_d960f_row2_col0, #T_d960f_row5_col1 {\n",
       "  background-color: #b5cdfa;\n",
       "  color: #000000;\n",
       "}\n",
       "#T_d960f_row2_col1, #T_d960f_row5_col0 {\n",
       "  background-color: #b1cbfc;\n",
       "  color: #000000;\n",
       "}\n",
       "#T_d960f_row2_col3 {\n",
       "  background-color: #abc8fd;\n",
       "  color: #000000;\n",
       "}\n",
       "#T_d960f_row2_col5, #T_d960f_row5_col3 {\n",
       "  background-color: #a1c0ff;\n",
       "  color: #000000;\n",
       "}\n",
       "#T_d960f_row2_col6, #T_d960f_row7_col6 {\n",
       "  background-color: #6a8bef;\n",
       "  color: #f1f1f1;\n",
       "}\n",
       "#T_d960f_row2_col8, #T_d960f_row5_col10, #T_d960f_row6_col10 {\n",
       "  background-color: #8badfd;\n",
       "  color: #000000;\n",
       "}\n",
       "#T_d960f_row2_col9, #T_d960f_row4_col11 {\n",
       "  background-color: #d5dbe5;\n",
       "  color: #000000;\n",
       "}\n",
       "#T_d960f_row2_col10 {\n",
       "  background-color: #a6c4fe;\n",
       "  color: #000000;\n",
       "}\n",
       "#T_d960f_row2_col11 {\n",
       "  background-color: #d8dce2;\n",
       "  color: #000000;\n",
       "}\n",
       "#T_d960f_row3_col0, #T_d960f_row5_col8 {\n",
       "  background-color: #aec9fc;\n",
       "  color: #000000;\n",
       "}\n",
       "#T_d960f_row3_col1, #T_d960f_row11_col2 {\n",
       "  background-color: #7b9ff9;\n",
       "  color: #f1f1f1;\n",
       "}\n",
       "#T_d960f_row3_col2 {\n",
       "  background-color: #88abfd;\n",
       "  color: #000000;\n",
       "}\n",
       "#T_d960f_row3_col4 {\n",
       "  background-color: #6485ec;\n",
       "  color: #f1f1f1;\n",
       "}\n",
       "#T_d960f_row3_col6, #T_d960f_row6_col8 {\n",
       "  background-color: #688aef;\n",
       "  color: #f1f1f1;\n",
       "}\n",
       "#T_d960f_row3_col8, #T_d960f_row5_col2, #T_d960f_row11_col4 {\n",
       "  background-color: #85a8fc;\n",
       "  color: #f1f1f1;\n",
       "}\n",
       "#T_d960f_row3_col9 {\n",
       "  background-color: #c7d7f0;\n",
       "  color: #000000;\n",
       "}\n",
       "#T_d960f_row3_col10, #T_d960f_row11_col6 {\n",
       "  background-color: #81a4fb;\n",
       "  color: #f1f1f1;\n",
       "}\n",
       "#T_d960f_row3_col11 {\n",
       "  background-color: #dbdcde;\n",
       "  color: #000000;\n",
       "}\n",
       "#T_d960f_row4_col0 {\n",
       "  background-color: #a3c2fe;\n",
       "  color: #000000;\n",
       "}\n",
       "#T_d960f_row4_col1 {\n",
       "  background-color: #adc9fd;\n",
       "  color: #000000;\n",
       "}\n",
       "#T_d960f_row4_col2, #T_d960f_row4_col3, #T_d960f_row9_col6 {\n",
       "  background-color: #7da0f9;\n",
       "  color: #f1f1f1;\n",
       "}\n",
       "#T_d960f_row4_col6, #T_d960f_row8_col4 {\n",
       "  background-color: #6c8ff1;\n",
       "  color: #f1f1f1;\n",
       "}\n",
       "#T_d960f_row4_col7 {\n",
       "  background-color: #5e7de7;\n",
       "  color: #f1f1f1;\n",
       "}\n",
       "#T_d960f_row4_col9 {\n",
       "  background-color: #d4dbe6;\n",
       "  color: #000000;\n",
       "}\n",
       "#T_d960f_row4_col10, #T_d960f_row7_col11 {\n",
       "  background-color: #9bbcff;\n",
       "  color: #000000;\n",
       "}\n",
       "#T_d960f_row5_col4 {\n",
       "  background-color: #799cf8;\n",
       "  color: #f1f1f1;\n",
       "}\n",
       "#T_d960f_row5_col11 {\n",
       "  background-color: #e6d7cf;\n",
       "  color: #000000;\n",
       "}\n",
       "#T_d960f_row6_col0 {\n",
       "  background-color: #9dbdff;\n",
       "  color: #000000;\n",
       "}\n",
       "#T_d960f_row6_col2 {\n",
       "  background-color: #4b64d5;\n",
       "  color: #f1f1f1;\n",
       "}\n",
       "#T_d960f_row6_col3 {\n",
       "  background-color: #7396f5;\n",
       "  color: #f1f1f1;\n",
       "}\n",
       "#T_d960f_row6_col4 {\n",
       "  background-color: #5d7ce6;\n",
       "  color: #f1f1f1;\n",
       "}\n",
       "#T_d960f_row6_col7 {\n",
       "  background-color: #6f92f3;\n",
       "  color: #f1f1f1;\n",
       "}\n",
       "#T_d960f_row6_col9 {\n",
       "  background-color: #c1d4f4;\n",
       "  color: #000000;\n",
       "}\n",
       "#T_d960f_row6_col11 {\n",
       "  background-color: #cbd8ee;\n",
       "  color: #000000;\n",
       "}\n",
       "#T_d960f_row7_col0 {\n",
       "  background-color: #c9d7f0;\n",
       "  color: #000000;\n",
       "}\n",
       "#T_d960f_row7_col1, #T_d960f_row11_col7 {\n",
       "  background-color: #455cce;\n",
       "  color: #f1f1f1;\n",
       "}\n",
       "#T_d960f_row7_col2 {\n",
       "  background-color: #7699f6;\n",
       "  color: #f1f1f1;\n",
       "}\n",
       "#T_d960f_row7_col3 {\n",
       "  background-color: #bad0f8;\n",
       "  color: #000000;\n",
       "}\n",
       "#T_d960f_row7_col4 {\n",
       "  background-color: #4961d2;\n",
       "  color: #f1f1f1;\n",
       "}\n",
       "#T_d960f_row7_col8, #T_d960f_row10_col4 {\n",
       "  background-color: #3e51c5;\n",
       "  color: #f1f1f1;\n",
       "}\n",
       "#T_d960f_row7_col9 {\n",
       "  background-color: #90b2fe;\n",
       "  color: #000000;\n",
       "}\n",
       "#T_d960f_row7_col10, #T_d960f_row8_col5, #T_d960f_row11_col3 {\n",
       "  background-color: #a7c5fe;\n",
       "  color: #000000;\n",
       "}\n",
       "#T_d960f_row8_col0 {\n",
       "  background-color: #9fbfff;\n",
       "  color: #000000;\n",
       "}\n",
       "#T_d960f_row8_col1 {\n",
       "  background-color: #cdd9ec;\n",
       "  color: #000000;\n",
       "}\n",
       "#T_d960f_row8_col2 {\n",
       "  background-color: #6384eb;\n",
       "  color: #f1f1f1;\n",
       "}\n",
       "#T_d960f_row8_col6, #T_d960f_row10_col7 {\n",
       "  background-color: #6180e9;\n",
       "  color: #f1f1f1;\n",
       "}\n",
       "#T_d960f_row8_col9 {\n",
       "  background-color: #ead5c9;\n",
       "  color: #000000;\n",
       "}\n",
       "#T_d960f_row8_col11 {\n",
       "  background-color: #f1ccb8;\n",
       "  color: #000000;\n",
       "}\n",
       "#T_d960f_row9_col0 {\n",
       "  background-color: #445acc;\n",
       "  color: #f1f1f1;\n",
       "}\n",
       "#T_d960f_row9_col1 {\n",
       "  background-color: #f7ba9f;\n",
       "  color: #000000;\n",
       "}\n",
       "#T_d960f_row9_col2 {\n",
       "  background-color: #7ea1fa;\n",
       "  color: #f1f1f1;\n",
       "}\n",
       "#T_d960f_row9_col3 {\n",
       "  background-color: #8fb1fe;\n",
       "  color: #000000;\n",
       "}\n",
       "#T_d960f_row9_col7 {\n",
       "  background-color: #4358cb;\n",
       "  color: #f1f1f1;\n",
       "}\n",
       "#T_d960f_row9_col8 {\n",
       "  background-color: #c6d6f1;\n",
       "  color: #000000;\n",
       "}\n",
       "#T_d960f_row9_col10 {\n",
       "  background-color: #516ddb;\n",
       "  color: #f1f1f1;\n",
       "}\n",
       "#T_d960f_row9_col11 {\n",
       "  background-color: #cf453c;\n",
       "  color: #f1f1f1;\n",
       "}\n",
       "#T_d960f_row10_col0 {\n",
       "  background-color: #e3d9d3;\n",
       "  color: #000000;\n",
       "}\n",
       "#T_d960f_row10_col9 {\n",
       "  background-color: #5470de;\n",
       "  color: #f1f1f1;\n",
       "}\n",
       "#T_d960f_row10_col11 {\n",
       "  background-color: #465ecf;\n",
       "  color: #f1f1f1;\n",
       "}\n",
       "#T_d960f_row11_col1 {\n",
       "  background-color: #f4c6af;\n",
       "  color: #000000;\n",
       "}\n",
       "#T_d960f_row11_col5 {\n",
       "  background-color: #b3cdfb;\n",
       "  color: #000000;\n",
       "}\n",
       "#T_d960f_row11_col8 {\n",
       "  background-color: #d2dbe8;\n",
       "  color: #000000;\n",
       "}\n",
       "#T_d960f_row11_col9 {\n",
       "  background-color: #d0473d;\n",
       "  color: #f1f1f1;\n",
       "}\n",
       "</style>\n",
       "<table id=\"T_d960f\">\n",
       "  <thead>\n",
       "    <tr>\n",
       "      <th class=\"blank level0\" >&nbsp;</th>\n",
       "      <th id=\"T_d960f_level0_col0\" class=\"col_heading level0 col0\" >km</th>\n",
       "      <th id=\"T_d960f_level0_col1\" class=\"col_heading level0 col1\" >potencia</th>\n",
       "      <th id=\"T_d960f_level0_col2\" class=\"col_heading level0 col2\" >volante_regulable</th>\n",
       "      <th id=\"T_d960f_level0_col3\" class=\"col_heading level0 col3\" >aire_acondicionado</th>\n",
       "      <th id=\"T_d960f_level0_col4\" class=\"col_heading level0 col4\" >camara_trasera</th>\n",
       "      <th id=\"T_d960f_level0_col5\" class=\"col_heading level0 col5\" >elevalunas_electrico</th>\n",
       "      <th id=\"T_d960f_level0_col6\" class=\"col_heading level0 col6\" >bluetooth</th>\n",
       "      <th id=\"T_d960f_level0_col7\" class=\"col_heading level0 col7\" >gps</th>\n",
       "      <th id=\"T_d960f_level0_col8\" class=\"col_heading level0 col8\" >alerta_lim_velocidad</th>\n",
       "      <th id=\"T_d960f_level0_col9\" class=\"col_heading level0 col9\" >precio</th>\n",
       "      <th id=\"T_d960f_level0_col10\" class=\"col_heading level0 col10\" >antiguedad</th>\n",
       "      <th id=\"T_d960f_level0_col11\" class=\"col_heading level0 col11\" >log_precio</th>\n",
       "    </tr>\n",
       "  </thead>\n",
       "  <tbody>\n",
       "    <tr>\n",
       "      <th id=\"T_d960f_level0_row0\" class=\"row_heading level0 row0\" >km</th>\n",
       "      <td id=\"T_d960f_row0_col0\" class=\"data row0 col0\" >1.000000</td>\n",
       "      <td id=\"T_d960f_row0_col1\" class=\"data row0 col1\" >-0.031800</td>\n",
       "      <td id=\"T_d960f_row0_col2\" class=\"data row0 col2\" >0.080246</td>\n",
       "      <td id=\"T_d960f_row0_col3\" class=\"data row0 col3\" >0.054273</td>\n",
       "      <td id=\"T_d960f_row0_col4\" class=\"data row0 col4\" >0.006678</td>\n",
       "      <td id=\"T_d960f_row0_col5\" class=\"data row0 col5\" >0.065682</td>\n",
       "      <td id=\"T_d960f_row0_col6\" class=\"data row0 col6\" >-0.022354</td>\n",
       "      <td id=\"T_d960f_row0_col7\" class=\"data row0 col7\" >0.169907</td>\n",
       "      <td id=\"T_d960f_row0_col8\" class=\"data row0 col8\" >-0.011606</td>\n",
       "      <td id=\"T_d960f_row0_col9\" class=\"data row0 col9\" >-0.399674</td>\n",
       "      <td id=\"T_d960f_row0_col10\" class=\"data row0 col10\" >0.313361</td>\n",
       "      <td id=\"T_d960f_row0_col11\" class=\"data row0 col11\" >-0.447608</td>\n",
       "    </tr>\n",
       "    <tr>\n",
       "      <th id=\"T_d960f_level0_row1\" class=\"row_heading level0 row1\" >potencia</th>\n",
       "      <td id=\"T_d960f_row1_col0\" class=\"data row1 col0\" >-0.031800</td>\n",
       "      <td id=\"T_d960f_row1_col1\" class=\"data row1 col1\" >1.000000</td>\n",
       "      <td id=\"T_d960f_row1_col2\" class=\"data row1 col2\" >0.325774</td>\n",
       "      <td id=\"T_d960f_row1_col3\" class=\"data row1 col3\" >0.169529</td>\n",
       "      <td id=\"T_d960f_row1_col4\" class=\"data row1 col4\" >0.313782</td>\n",
       "      <td id=\"T_d960f_row1_col5\" class=\"data row1 col5\" >0.340435</td>\n",
       "      <td id=\"T_d960f_row1_col6\" class=\"data row1 col6\" >0.188338</td>\n",
       "      <td id=\"T_d960f_row1_col7\" class=\"data row1 col7\" >-0.001535</td>\n",
       "      <td id=\"T_d960f_row1_col8\" class=\"data row1 col8\" >0.420984</td>\n",
       "      <td id=\"T_d960f_row1_col9\" class=\"data row1 col9\" >0.643129</td>\n",
       "      <td id=\"T_d960f_row1_col10\" class=\"data row1 col10\" >-0.041712</td>\n",
       "      <td id=\"T_d960f_row1_col11\" class=\"data row1 col11\" >0.601770</td>\n",
       "    </tr>\n",
       "    <tr>\n",
       "      <th id=\"T_d960f_level0_row2\" class=\"row_heading level0 row2\" >volante_regulable</th>\n",
       "      <td id=\"T_d960f_row2_col0\" class=\"data row2 col0\" >0.080246</td>\n",
       "      <td id=\"T_d960f_row2_col1\" class=\"data row2 col1\" >0.325774</td>\n",
       "      <td id=\"T_d960f_row2_col2\" class=\"data row2 col2\" >1.000000</td>\n",
       "      <td id=\"T_d960f_row2_col3\" class=\"data row2 col3\" >0.280089</td>\n",
       "      <td id=\"T_d960f_row2_col4\" class=\"data row2 col4\" >0.253900</td>\n",
       "      <td id=\"T_d960f_row2_col5\" class=\"data row2 col5\" >0.272962</td>\n",
       "      <td id=\"T_d960f_row2_col6\" class=\"data row2 col6\" >0.112995</td>\n",
       "      <td id=\"T_d960f_row2_col7\" class=\"data row2 col7\" >0.235108</td>\n",
       "      <td id=\"T_d960f_row2_col8\" class=\"data row2 col8\" >0.184156</td>\n",
       "      <td id=\"T_d960f_row2_col9\" class=\"data row2 col9\" >0.256779</td>\n",
       "      <td id=\"T_d960f_row2_col10\" class=\"data row2 col10\" >0.059701</td>\n",
       "      <td id=\"T_d960f_row2_col11\" class=\"data row2 col11\" >0.249054</td>\n",
       "    </tr>\n",
       "    <tr>\n",
       "      <th id=\"T_d960f_level0_row3\" class=\"row_heading level0 row3\" >aire_acondicionado</th>\n",
       "      <td id=\"T_d960f_row3_col0\" class=\"data row3 col0\" >0.054273</td>\n",
       "      <td id=\"T_d960f_row3_col1\" class=\"data row3 col1\" >0.169529</td>\n",
       "      <td id=\"T_d960f_row3_col2\" class=\"data row3 col2\" >0.280089</td>\n",
       "      <td id=\"T_d960f_row3_col3\" class=\"data row3 col3\" >1.000000</td>\n",
       "      <td id=\"T_d960f_row3_col4\" class=\"data row3 col4\" >0.139039</td>\n",
       "      <td id=\"T_d960f_row3_col5\" class=\"data row3 col5\" >0.248393</td>\n",
       "      <td id=\"T_d960f_row3_col6\" class=\"data row3 col6\" >0.107268</td>\n",
       "      <td id=\"T_d960f_row3_col7\" class=\"data row3 col7\" >0.328503</td>\n",
       "      <td id=\"T_d960f_row3_col8\" class=\"data row3 col8\" >0.165984</td>\n",
       "      <td id=\"T_d960f_row3_col9\" class=\"data row3 col9\" >0.194281</td>\n",
       "      <td id=\"T_d960f_row3_col10\" class=\"data row3 col10\" >-0.084397</td>\n",
       "      <td id=\"T_d960f_row3_col11\" class=\"data row3 col11\" >0.270172</td>\n",
       "    </tr>\n",
       "    <tr>\n",
       "      <th id=\"T_d960f_level0_row4\" class=\"row_heading level0 row4\" >camara_trasera</th>\n",
       "      <td id=\"T_d960f_row4_col0\" class=\"data row4 col0\" >0.006678</td>\n",
       "      <td id=\"T_d960f_row4_col1\" class=\"data row4 col1\" >0.313782</td>\n",
       "      <td id=\"T_d960f_row4_col2\" class=\"data row4 col2\" >0.253900</td>\n",
       "      <td id=\"T_d960f_row4_col3\" class=\"data row4 col3\" >0.139039</td>\n",
       "      <td id=\"T_d960f_row4_col4\" class=\"data row4 col4\" >1.000000</td>\n",
       "      <td id=\"T_d960f_row4_col5\" class=\"data row4 col5\" >0.197050</td>\n",
       "      <td id=\"T_d960f_row4_col6\" class=\"data row4 col6\" >0.118104</td>\n",
       "      <td id=\"T_d960f_row4_col7\" class=\"data row4 col7\" >0.056622</td>\n",
       "      <td id=\"T_d960f_row4_col8\" class=\"data row4 col8\" >0.162730</td>\n",
       "      <td id=\"T_d960f_row4_col9\" class=\"data row4 col9\" >0.254625</td>\n",
       "      <td id=\"T_d960f_row4_col10\" class=\"data row4 col10\" >0.019067</td>\n",
       "      <td id=\"T_d960f_row4_col11\" class=\"data row4 col11\" >0.233762</td>\n",
       "    </tr>\n",
       "    <tr>\n",
       "      <th id=\"T_d960f_level0_row5\" class=\"row_heading level0 row5\" >elevalunas_electrico</th>\n",
       "      <td id=\"T_d960f_row5_col0\" class=\"data row5 col0\" >0.065682</td>\n",
       "      <td id=\"T_d960f_row5_col1\" class=\"data row5 col1\" >0.340435</td>\n",
       "      <td id=\"T_d960f_row5_col2\" class=\"data row5 col2\" >0.272962</td>\n",
       "      <td id=\"T_d960f_row5_col3\" class=\"data row5 col3\" >0.248393</td>\n",
       "      <td id=\"T_d960f_row5_col4\" class=\"data row5 col4\" >0.197050</td>\n",
       "      <td id=\"T_d960f_row5_col5\" class=\"data row5 col5\" >1.000000</td>\n",
       "      <td id=\"T_d960f_row5_col6\" class=\"data row5 col6\" >0.213759</td>\n",
       "      <td id=\"T_d960f_row5_col7\" class=\"data row5 col7\" >0.196355</td>\n",
       "      <td id=\"T_d960f_row5_col8\" class=\"data row5 col8\" >0.293297</td>\n",
       "      <td id=\"T_d960f_row5_col9\" class=\"data row5 col9\" >0.248866</td>\n",
       "      <td id=\"T_d960f_row5_col10\" class=\"data row5 col10\" >-0.046134</td>\n",
       "      <td id=\"T_d960f_row5_col11\" class=\"data row5 col11\" >0.332116</td>\n",
       "    </tr>\n",
       "    <tr>\n",
       "      <th id=\"T_d960f_level0_row6\" class=\"row_heading level0 row6\" >bluetooth</th>\n",
       "      <td id=\"T_d960f_row6_col0\" class=\"data row6 col0\" >-0.022354</td>\n",
       "      <td id=\"T_d960f_row6_col1\" class=\"data row6 col1\" >0.188338</td>\n",
       "      <td id=\"T_d960f_row6_col2\" class=\"data row6 col2\" >0.112995</td>\n",
       "      <td id=\"T_d960f_row6_col3\" class=\"data row6 col3\" >0.107268</td>\n",
       "      <td id=\"T_d960f_row6_col4\" class=\"data row6 col4\" >0.118104</td>\n",
       "      <td id=\"T_d960f_row6_col5\" class=\"data row6 col5\" >0.213759</td>\n",
       "      <td id=\"T_d960f_row6_col6\" class=\"data row6 col6\" >1.000000</td>\n",
       "      <td id=\"T_d960f_row6_col7\" class=\"data row6 col7\" >0.110688</td>\n",
       "      <td id=\"T_d960f_row6_col8\" class=\"data row6 col8\" >0.080779</td>\n",
       "      <td id=\"T_d960f_row6_col9\" class=\"data row6 col9\" >0.166814</td>\n",
       "      <td id=\"T_d960f_row6_col10\" class=\"data row6 col10\" >-0.046051</td>\n",
       "      <td id=\"T_d960f_row6_col11\" class=\"data row6 col11\" >0.181971</td>\n",
       "    </tr>\n",
       "    <tr>\n",
       "      <th id=\"T_d960f_level0_row7\" class=\"row_heading level0 row7\" >gps</th>\n",
       "      <td id=\"T_d960f_row7_col0\" class=\"data row7 col0\" >0.169907</td>\n",
       "      <td id=\"T_d960f_row7_col1\" class=\"data row7 col1\" >-0.001535</td>\n",
       "      <td id=\"T_d960f_row7_col2\" class=\"data row7 col2\" >0.235108</td>\n",
       "      <td id=\"T_d960f_row7_col3\" class=\"data row7 col3\" >0.328503</td>\n",
       "      <td id=\"T_d960f_row7_col4\" class=\"data row7 col4\" >0.056622</td>\n",
       "      <td id=\"T_d960f_row7_col5\" class=\"data row7 col5\" >0.196355</td>\n",
       "      <td id=\"T_d960f_row7_col6\" class=\"data row7 col6\" >0.110688</td>\n",
       "      <td id=\"T_d960f_row7_col7\" class=\"data row7 col7\" >1.000000</td>\n",
       "      <td id=\"T_d960f_row7_col8\" class=\"data row7 col8\" >-0.066426</td>\n",
       "      <td id=\"T_d960f_row7_col9\" class=\"data row7 col9\" >-0.033714</td>\n",
       "      <td id=\"T_d960f_row7_col10\" class=\"data row7 col10\" >0.066381</td>\n",
       "      <td id=\"T_d960f_row7_col11\" class=\"data row7 col11\" >-0.026084</td>\n",
       "    </tr>\n",
       "    <tr>\n",
       "      <th id=\"T_d960f_level0_row8\" class=\"row_heading level0 row8\" >alerta_lim_velocidad</th>\n",
       "      <td id=\"T_d960f_row8_col0\" class=\"data row8 col0\" >-0.011606</td>\n",
       "      <td id=\"T_d960f_row8_col1\" class=\"data row8 col1\" >0.420984</td>\n",
       "      <td id=\"T_d960f_row8_col2\" class=\"data row8 col2\" >0.184156</td>\n",
       "      <td id=\"T_d960f_row8_col3\" class=\"data row8 col3\" >0.165984</td>\n",
       "      <td id=\"T_d960f_row8_col4\" class=\"data row8 col4\" >0.162730</td>\n",
       "      <td id=\"T_d960f_row8_col5\" class=\"data row8 col5\" >0.293297</td>\n",
       "      <td id=\"T_d960f_row8_col6\" class=\"data row8 col6\" >0.080779</td>\n",
       "      <td id=\"T_d960f_row8_col7\" class=\"data row8 col7\" >-0.066426</td>\n",
       "      <td id=\"T_d960f_row8_col8\" class=\"data row8 col8\" >1.000000</td>\n",
       "      <td id=\"T_d960f_row8_col9\" class=\"data row8 col9\" >0.375791</td>\n",
       "      <td id=\"T_d960f_row8_col10\" class=\"data row8 col10\" >-0.079183</td>\n",
       "      <td id=\"T_d960f_row8_col11\" class=\"data row8 col11\" >0.415581</td>\n",
       "    </tr>\n",
       "    <tr>\n",
       "      <th id=\"T_d960f_level0_row9\" class=\"row_heading level0 row9\" >precio</th>\n",
       "      <td id=\"T_d960f_row9_col0\" class=\"data row9 col0\" >-0.399674</td>\n",
       "      <td id=\"T_d960f_row9_col1\" class=\"data row9 col1\" >0.643129</td>\n",
       "      <td id=\"T_d960f_row9_col2\" class=\"data row9 col2\" >0.256779</td>\n",
       "      <td id=\"T_d960f_row9_col3\" class=\"data row9 col3\" >0.194281</td>\n",
       "      <td id=\"T_d960f_row9_col4\" class=\"data row9 col4\" >0.254625</td>\n",
       "      <td id=\"T_d960f_row9_col5\" class=\"data row9 col5\" >0.248866</td>\n",
       "      <td id=\"T_d960f_row9_col6\" class=\"data row9 col6\" >0.166814</td>\n",
       "      <td id=\"T_d960f_row9_col7\" class=\"data row9 col7\" >-0.033714</td>\n",
       "      <td id=\"T_d960f_row9_col8\" class=\"data row9 col8\" >0.375791</td>\n",
       "      <td id=\"T_d960f_row9_col9\" class=\"data row9 col9\" >1.000000</td>\n",
       "      <td id=\"T_d960f_row9_col10\" class=\"data row9 col10\" >-0.281188</td>\n",
       "      <td id=\"T_d960f_row9_col11\" class=\"data row9 col11\" >0.889770</td>\n",
       "    </tr>\n",
       "    <tr>\n",
       "      <th id=\"T_d960f_level0_row10\" class=\"row_heading level0 row10\" >antiguedad</th>\n",
       "      <td id=\"T_d960f_row10_col0\" class=\"data row10 col0\" >0.313361</td>\n",
       "      <td id=\"T_d960f_row10_col1\" class=\"data row10 col1\" >-0.041712</td>\n",
       "      <td id=\"T_d960f_row10_col2\" class=\"data row10 col2\" >0.059701</td>\n",
       "      <td id=\"T_d960f_row10_col3\" class=\"data row10 col3\" >-0.084397</td>\n",
       "      <td id=\"T_d960f_row10_col4\" class=\"data row10 col4\" >0.019067</td>\n",
       "      <td id=\"T_d960f_row10_col5\" class=\"data row10 col5\" >-0.046134</td>\n",
       "      <td id=\"T_d960f_row10_col6\" class=\"data row10 col6\" >-0.046051</td>\n",
       "      <td id=\"T_d960f_row10_col7\" class=\"data row10 col7\" >0.066381</td>\n",
       "      <td id=\"T_d960f_row10_col8\" class=\"data row10 col8\" >-0.079183</td>\n",
       "      <td id=\"T_d960f_row10_col9\" class=\"data row10 col9\" >-0.281188</td>\n",
       "      <td id=\"T_d960f_row10_col10\" class=\"data row10 col10\" >1.000000</td>\n",
       "      <td id=\"T_d960f_row10_col11\" class=\"data row10 col11\" >-0.386494</td>\n",
       "    </tr>\n",
       "    <tr>\n",
       "      <th id=\"T_d960f_level0_row11\" class=\"row_heading level0 row11\" >log_precio</th>\n",
       "      <td id=\"T_d960f_row11_col0\" class=\"data row11 col0\" >-0.447608</td>\n",
       "      <td id=\"T_d960f_row11_col1\" class=\"data row11 col1\" >0.601770</td>\n",
       "      <td id=\"T_d960f_row11_col2\" class=\"data row11 col2\" >0.249054</td>\n",
       "      <td id=\"T_d960f_row11_col3\" class=\"data row11 col3\" >0.270172</td>\n",
       "      <td id=\"T_d960f_row11_col4\" class=\"data row11 col4\" >0.233762</td>\n",
       "      <td id=\"T_d960f_row11_col5\" class=\"data row11 col5\" >0.332116</td>\n",
       "      <td id=\"T_d960f_row11_col6\" class=\"data row11 col6\" >0.181971</td>\n",
       "      <td id=\"T_d960f_row11_col7\" class=\"data row11 col7\" >-0.026084</td>\n",
       "      <td id=\"T_d960f_row11_col8\" class=\"data row11 col8\" >0.415581</td>\n",
       "      <td id=\"T_d960f_row11_col9\" class=\"data row11 col9\" >0.889770</td>\n",
       "      <td id=\"T_d960f_row11_col10\" class=\"data row11 col10\" >-0.386494</td>\n",
       "      <td id=\"T_d960f_row11_col11\" class=\"data row11 col11\" >1.000000</td>\n",
       "    </tr>\n",
       "  </tbody>\n",
       "</table>\n"
      ],
      "text/plain": [
       "<pandas.io.formats.style.Styler at 0x264a577d340>"
      ]
     },
     "execution_count": 277,
     "metadata": {},
     "output_type": "execute_result"
    }
   ],
   "source": [
    "corr.style.background_gradient(cmap='coolwarm')"
   ]
  },
  {
   "cell_type": "code",
   "execution_count": 278,
   "metadata": {},
   "outputs": [
    {
     "name": "stdout",
     "output_type": "stream",
     "text": [
      "<class 'pandas.core.frame.DataFrame'>\n",
      "Index: 4727 entries, 0 to 4842\n",
      "Data columns (total 17 columns):\n",
      " #   Column                Non-Null Count  Dtype  \n",
      "---  ------                --------------  -----  \n",
      " 0   modelo                4727 non-null   object \n",
      " 1   km                    4727 non-null   float64\n",
      " 2   potencia              4727 non-null   float64\n",
      " 3   combustible           4727 non-null   object \n",
      " 4   color                 4727 non-null   object \n",
      " 5   tipo_coche            4727 non-null   object \n",
      " 6   volante_regulable     4727 non-null   bool   \n",
      " 7   aire_acondicionado    4727 non-null   bool   \n",
      " 8   camara_trasera        4727 non-null   bool   \n",
      " 9   elevalunas_electrico  4727 non-null   bool   \n",
      " 10  bluetooth             4727 non-null   bool   \n",
      " 11  gps                   4727 non-null   bool   \n",
      " 12  alerta_lim_velocidad  4727 non-null   bool   \n",
      " 13  precio                4727 non-null   float64\n",
      " 14  antiguedad            4727 non-null   float64\n",
      " 15  serie                 4727 non-null   object \n",
      " 16  log_precio            4727 non-null   float64\n",
      "dtypes: bool(7), float64(5), object(5)\n",
      "memory usage: 438.5+ KB\n"
     ]
    }
   ],
   "source": [
    "df_bmw9.info()"
   ]
  },
  {
   "cell_type": "markdown",
   "metadata": {},
   "source": [
    "### Separo mis Variables en 3 grupos(numéricas, booleanas, categóricas)"
   ]
  },
  {
   "cell_type": "code",
   "execution_count": 279,
   "metadata": {},
   "outputs": [],
   "source": [
    "target=['precio']\n",
    "def get_list_var(dataset):\n",
    "    list_numbers=[]\n",
    "    list_booleans=[]\n",
    "    list_categories=[]\n",
    "\n",
    "    for i in dataset:\n",
    "      if (i not in target) and (dataset[i].dtype.kind == 'i' or dataset[i].dtype.kind == 'f') and (len(dataset[i].unique()) != 2):\n",
    "        list_numbers.append(i)\n",
    "      elif (i not in target) and (dataset[i].dtype.kind == 'b') and (len(dataset[i].unique())==2):\n",
    "        list_booleans.append(i)\n",
    "      elif (dataset[i].dtype.kind != 'o' and (i not in target)):\n",
    "        list_categories.append(i)\n",
    "\n",
    "    return list_numbers, list_booleans, list_categories"
   ]
  },
  {
   "cell_type": "code",
   "execution_count": 280,
   "metadata": {},
   "outputs": [],
   "source": [
    "l_numericas, l_booleanos, l_categoricas = get_list_var(df_bmw9)"
   ]
  },
  {
   "cell_type": "markdown",
   "metadata": {},
   "source": [
    "### Cambiaremos nuestras variables Booleanas a \"0 y 1\""
   ]
  },
  {
   "cell_type": "code",
   "execution_count": 281,
   "metadata": {},
   "outputs": [
    {
     "data": {
      "text/plain": [
       "['volante_regulable',\n",
       " 'aire_acondicionado',\n",
       " 'camara_trasera',\n",
       " 'elevalunas_electrico',\n",
       " 'bluetooth',\n",
       " 'gps',\n",
       " 'alerta_lim_velocidad']"
      ]
     },
     "execution_count": 281,
     "metadata": {},
     "output_type": "execute_result"
    }
   ],
   "source": [
    "l_booleanos"
   ]
  },
  {
   "cell_type": "code",
   "execution_count": 282,
   "metadata": {},
   "outputs": [],
   "source": [
    "for i in l_booleanos:\n",
    " df_bmw9[i] = np.where(df_bmw9[i]==True, 1,0)"
   ]
  },
  {
   "cell_type": "code",
   "execution_count": 283,
   "metadata": {},
   "outputs": [
    {
     "data": {
      "text/html": [
       "<div>\n",
       "<style scoped>\n",
       "    .dataframe tbody tr th:only-of-type {\n",
       "        vertical-align: middle;\n",
       "    }\n",
       "\n",
       "    .dataframe tbody tr th {\n",
       "        vertical-align: top;\n",
       "    }\n",
       "\n",
       "    .dataframe thead th {\n",
       "        text-align: right;\n",
       "    }\n",
       "</style>\n",
       "<table border=\"1\" class=\"dataframe\">\n",
       "  <thead>\n",
       "    <tr style=\"text-align: right;\">\n",
       "      <th></th>\n",
       "      <th>modelo</th>\n",
       "      <th>km</th>\n",
       "      <th>potencia</th>\n",
       "      <th>combustible</th>\n",
       "      <th>color</th>\n",
       "      <th>tipo_coche</th>\n",
       "      <th>volante_regulable</th>\n",
       "      <th>aire_acondicionado</th>\n",
       "      <th>camara_trasera</th>\n",
       "      <th>elevalunas_electrico</th>\n",
       "      <th>bluetooth</th>\n",
       "      <th>gps</th>\n",
       "      <th>alerta_lim_velocidad</th>\n",
       "      <th>precio</th>\n",
       "      <th>antiguedad</th>\n",
       "      <th>serie</th>\n",
       "      <th>log_precio</th>\n",
       "    </tr>\n",
       "  </thead>\n",
       "  <tbody>\n",
       "    <tr>\n",
       "      <th>0</th>\n",
       "      <td>118</td>\n",
       "      <td>140411.0</td>\n",
       "      <td>100.0</td>\n",
       "      <td>diesel</td>\n",
       "      <td>black</td>\n",
       "      <td>sin tipo</td>\n",
       "      <td>1</td>\n",
       "      <td>1</td>\n",
       "      <td>0</td>\n",
       "      <td>1</td>\n",
       "      <td>1</td>\n",
       "      <td>1</td>\n",
       "      <td>0</td>\n",
       "      <td>11300.0</td>\n",
       "      <td>5.920548</td>\n",
       "      <td>Serie 1</td>\n",
       "      <td>4.053078</td>\n",
       "    </tr>\n",
       "  </tbody>\n",
       "</table>\n",
       "</div>"
      ],
      "text/plain": [
       "  modelo        km  potencia combustible  color tipo_coche  volante_regulable  \\\n",
       "0    118  140411.0     100.0      diesel  black   sin tipo                  1   \n",
       "\n",
       "   aire_acondicionado  camara_trasera  elevalunas_electrico  bluetooth  gps  \\\n",
       "0                   1               0                     1          1    1   \n",
       "\n",
       "   alerta_lim_velocidad   precio  antiguedad    serie  log_precio  \n",
       "0                     0  11300.0    5.920548  Serie 1    4.053078  "
      ]
     },
     "execution_count": 283,
     "metadata": {},
     "output_type": "execute_result"
    }
   ],
   "source": [
    "df_bmw9.head(1)"
   ]
  },
  {
   "cell_type": "markdown",
   "metadata": {},
   "source": [
    "###Hacemos un histograma de nuestras variables numéricas"
   ]
  },
  {
   "cell_type": "code",
   "execution_count": 284,
   "metadata": {},
   "outputs": [
    {
     "data": {
      "text/plain": [
       "['km', 'potencia', 'antiguedad', 'log_precio']"
      ]
     },
     "execution_count": 284,
     "metadata": {},
     "output_type": "execute_result"
    }
   ],
   "source": [
    "l_numericas"
   ]
  },
  {
   "cell_type": "code",
   "execution_count": 285,
   "metadata": {},
   "outputs": [
    {
     "data": {
      "image/png": "[encoded data removed]",
      "text/plain": [
       "<Figure size 640x480 with 1 Axes>"
      ]
     },
     "metadata": {},
     "output_type": "display_data"
    },
    {
     "data": {
      "image/png": "[encoded data removed]",
      "text/plain": [
       "<Figure size 640x480 with 1 Axes>"
      ]
     },
     "metadata": {},
     "output_type": "display_data"
    },
    {
     "data": {
      "image/png": "[encoded data removed]",
      "text/plain": [
       "<Figure size 640x480 with 1 Axes>"
      ]
     },
     "metadata": {},
     "output_type": "display_data"
    },
    {
     "data": {
      "image/png": "[encoded data removed]",
      "text/plain": [
       "<Figure size 640x480 with 1 Axes>"
      ]
     },
     "metadata": {},
     "output_type": "display_data"
    }
   ],
   "source": [
    "for i in l_numericas:\n",
    "  df_bmw9.hist(i)"
   ]
  },
  {
   "cell_type": "markdown",
   "metadata": {},
   "source": [
    "### Hacemos gráficos de relación para nuestras variables categóricas"
   ]
  },
  {
   "cell_type": "code",
   "execution_count": 286,
   "metadata": {},
   "outputs": [
    {
     "data": {
      "image/png": "[encoded data removed]",
      "text/plain": [
       "<Figure size 500x500 with 1 Axes>"
      ]
     },
     "metadata": {},
     "output_type": "display_data"
    },
    {
     "data": {
      "image/png": "[encoded data removed]",
      "text/plain": [
       "<Figure size 500x500 with 1 Axes>"
      ]
     },
     "metadata": {},
     "output_type": "display_data"
    },
    {
     "data": {
      "image/png": "[encoded data removed]",
      "text/plain": [
       "<Figure size 500x500 with 1 Axes>"
      ]
     },
     "metadata": {},
     "output_type": "display_data"
    },
    {
     "data": {
      "image/png": "[encoded data removed]",
      "text/plain": [
       "<Figure size 500x500 with 1 Axes>"
      ]
     },
     "metadata": {},
     "output_type": "display_data"
    },
    {
     "data": {
      "image/png": "[encoded data removed]",
      "text/plain": [
       "<Figure size 500x500 with 1 Axes>"
      ]
     },
     "metadata": {},
     "output_type": "display_data"
    }
   ],
   "source": [
    "for i in l_categoricas:\n",
    "  sns.relplot(data=df_bmw9, x=i, y=\"precio\")\n",
    "  plt.xticks(rotation=45)\n",
    "plt.show()"
   ]
  },
  {
   "cell_type": "code",
   "execution_count": 287,
   "metadata": {},
   "outputs": [],
   "source": [
    "#Observamos 2 outlaiers repetidos en nuestras gráficas, los revisamos a detalle\n",
    "#df_bmw9[(df_bmw9['precio']>80000) & (df_bmw9['combustible']=='diesel')]\n",
    "#Los eliminamos ya que no son coherentes precio y km\n",
    "df_bmw9.drop(df_bmw9[(df_bmw9['precio']>80000) & (df_bmw9['combustible']=='diesel')].index, inplace=True)"
   ]
  },
  {
   "cell_type": "code",
   "execution_count": 288,
   "metadata": {},
   "outputs": [
    {
     "name": "stdout",
     "output_type": "stream",
     "text": [
      "<class 'pandas.core.frame.DataFrame'>\n",
      "Index: 4725 entries, 0 to 4842\n",
      "Data columns (total 17 columns):\n",
      " #   Column                Non-Null Count  Dtype  \n",
      "---  ------                --------------  -----  \n",
      " 0   modelo                4725 non-null   object \n",
      " 1   km                    4725 non-null   float64\n",
      " 2   potencia              4725 non-null   float64\n",
      " 3   combustible           4725 non-null   object \n",
      " 4   color                 4725 non-null   object \n",
      " 5   tipo_coche            4725 non-null   object \n",
      " 6   volante_regulable     4725 non-null   int32  \n",
      " 7   aire_acondicionado    4725 non-null   int32  \n",
      " 8   camara_trasera        4725 non-null   int32  \n",
      " 9   elevalunas_electrico  4725 non-null   int32  \n",
      " 10  bluetooth             4725 non-null   int32  \n",
      " 11  gps                   4725 non-null   int32  \n",
      " 12  alerta_lim_velocidad  4725 non-null   int32  \n",
      " 13  precio                4725 non-null   float64\n",
      " 14  antiguedad            4725 non-null   float64\n",
      " 15  serie                 4725 non-null   object \n",
      " 16  log_precio            4725 non-null   float64\n",
      "dtypes: float64(5), int32(7), object(5)\n",
      "memory usage: 535.3+ KB\n"
     ]
    }
   ],
   "source": [
    "df_bmw9.info()"
   ]
  },
  {
   "cell_type": "code",
   "execution_count": 289,
   "metadata": {},
   "outputs": [
    {
     "data": {
      "text/html": [
       "<div>\n",
       "<style scoped>\n",
       "    .dataframe tbody tr th:only-of-type {\n",
       "        vertical-align: middle;\n",
       "    }\n",
       "\n",
       "    .dataframe tbody tr th {\n",
       "        vertical-align: top;\n",
       "    }\n",
       "\n",
       "    .dataframe thead th {\n",
       "        text-align: right;\n",
       "    }\n",
       "</style>\n",
       "<table border=\"1\" class=\"dataframe\">\n",
       "  <thead>\n",
       "    <tr style=\"text-align: right;\">\n",
       "      <th></th>\n",
       "      <th>modelo</th>\n",
       "      <th>km</th>\n",
       "      <th>potencia</th>\n",
       "      <th>combustible</th>\n",
       "      <th>color</th>\n",
       "      <th>tipo_coche</th>\n",
       "      <th>volante_regulable</th>\n",
       "      <th>aire_acondicionado</th>\n",
       "      <th>camara_trasera</th>\n",
       "      <th>elevalunas_electrico</th>\n",
       "      <th>bluetooth</th>\n",
       "      <th>gps</th>\n",
       "      <th>alerta_lim_velocidad</th>\n",
       "      <th>precio</th>\n",
       "      <th>antiguedad</th>\n",
       "      <th>serie</th>\n",
       "      <th>log_precio</th>\n",
       "    </tr>\n",
       "  </thead>\n",
       "  <tbody>\n",
       "    <tr>\n",
       "      <th>0</th>\n",
       "      <td>118</td>\n",
       "      <td>140411.0</td>\n",
       "      <td>100.0</td>\n",
       "      <td>diesel</td>\n",
       "      <td>black</td>\n",
       "      <td>sin tipo</td>\n",
       "      <td>1</td>\n",
       "      <td>1</td>\n",
       "      <td>0</td>\n",
       "      <td>1</td>\n",
       "      <td>1</td>\n",
       "      <td>1</td>\n",
       "      <td>0</td>\n",
       "      <td>11300.0</td>\n",
       "      <td>5.920548</td>\n",
       "      <td>Serie 1</td>\n",
       "      <td>4.053078</td>\n",
       "    </tr>\n",
       "  </tbody>\n",
       "</table>\n",
       "</div>"
      ],
      "text/plain": [
       "  modelo        km  potencia combustible  color tipo_coche  volante_regulable  \\\n",
       "0    118  140411.0     100.0      diesel  black   sin tipo                  1   \n",
       "\n",
       "   aire_acondicionado  camara_trasera  elevalunas_electrico  bluetooth  gps  \\\n",
       "0                   1               0                     1          1    1   \n",
       "\n",
       "   alerta_lim_velocidad   precio  antiguedad    serie  log_precio  \n",
       "0                     0  11300.0    5.920548  Serie 1    4.053078  "
      ]
     },
     "execution_count": 289,
     "metadata": {},
     "output_type": "execute_result"
    }
   ],
   "source": [
    "df_bmw9.head(1)"
   ]
  },
  {
   "cell_type": "code",
   "execution_count": 290,
   "metadata": {},
   "outputs": [],
   "source": [
    "df_bmw10= df_bmw9.copy()"
   ]
  },
  {
   "cell_type": "code",
   "execution_count": 291,
   "metadata": {},
   "outputs": [
    {
     "data": {
      "text/plain": [
       "combustible\n",
       "diesel           4537\n",
       "petrol            177\n",
       "hybrid_petrol       8\n",
       "electro             3\n",
       "Name: count, dtype: int64"
      ]
     },
     "execution_count": 291,
     "metadata": {},
     "output_type": "execute_result"
    }
   ],
   "source": [
    "df_bmw10['combustible'].value_counts()"
   ]
  },
  {
   "cell_type": "code",
   "execution_count": 292,
   "metadata": {},
   "outputs": [
    {
     "data": {
      "text/plain": [
       "color\n",
       "black     1904\n",
       "grey      1053\n",
       "blue       619\n",
       "white      473\n",
       "brown      302\n",
       "silver     274\n",
       "red         47\n",
       "beige       37\n",
       "green       10\n",
       "orange       6\n",
       "Name: count, dtype: int64"
      ]
     },
     "execution_count": 292,
     "metadata": {},
     "output_type": "execute_result"
    }
   ],
   "source": [
    "df_bmw10['color'].value_counts()"
   ]
  },
  {
   "cell_type": "markdown",
   "metadata": {},
   "source": [
    "### Agrupamos color en \"serie\" y \"personalizados\", basandonos en que los de serie son los que habitalmente no te cobran como un extra y los personalizados son los colores diferentes a los de serie y por ende aplica un sobrecargo(lo cual nos da la pauta para darles valor diferente)"
   ]
  },
  {
   "cell_type": "code",
   "execution_count": 293,
   "metadata": {},
   "outputs": [],
   "source": [
    "#Cambiamos los valores('black','white','red') a serie y los demás a personalizado\n",
    "df_bmw10['group_color'] = np.where((df_bmw10['color'] =='black') | (df_bmw10['color'] =='white') | (df_bmw10['color'] =='red'), 'serie', 'personalizado')"
   ]
  },
  {
   "cell_type": "code",
   "execution_count": 294,
   "metadata": {},
   "outputs": [
    {
     "data": {
      "text/plain": [
       "group_color\n",
       "serie            2424\n",
       "personalizado    2301\n",
       "Name: count, dtype: int64"
      ]
     },
     "execution_count": 294,
     "metadata": {},
     "output_type": "execute_result"
    }
   ],
   "source": [
    "df_bmw10['group_color'].value_counts()"
   ]
  },
  {
   "cell_type": "markdown",
   "metadata": {},
   "source": [
    "### Para la variable combustible, color que lo agrupamos en group_color y la variable serie utilizo ordinalEncoder ya que le daré peso a mis items"
   ]
  },
  {
   "cell_type": "code",
   "execution_count": 295,
   "metadata": {},
   "outputs": [
    {
     "data": {
      "text/html": [
       "<style>#sk-container-id-5 {color: black;background-color: white;}#sk-container-id-5 pre{padding: 0;}#sk-container-id-5 div.sk-toggleable {background-color: white;}#sk-container-id-5 label.sk-toggleable__label {cursor: pointer;display: block;width: 100%;margin-bottom: 0;padding: 0.3em;box-sizing: border-box;text-align: center;}#sk-container-id-5 label.sk-toggleable__label-arrow:before {content: \"▸\";float: left;margin-right: 0.25em;color: #696969;}#sk-container-id-5 label.sk-toggleable__label-arrow:hover:before {color: black;}#sk-container-id-5 div.sk-estimator:hover label.sk-toggleable__label-arrow:before {color: black;}#sk-container-id-5 div.sk-toggleable__content {max-height: 0;max-width: 0;overflow: hidden;text-align: left;background-color: #f0f8ff;}#sk-container-id-5 div.sk-toggleable__content pre {margin: 0.2em;color: black;border-radius: 0.25em;background-color: #f0f8ff;}#sk-container-id-5 input.sk-toggleable__control:checked~div.sk-toggleable__content {max-height: 200px;max-width: 100%;overflow: auto;}#sk-container-id-5 input.sk-toggleable__control:checked~label.sk-toggleable__label-arrow:before {content: \"▾\";}#sk-container-id-5 div.sk-estimator input.sk-toggleable__control:checked~label.sk-toggleable__label {background-color: #d4ebff;}#sk-container-id-5 div.sk-label input.sk-toggleable__control:checked~label.sk-toggleable__label {background-color: #d4ebff;}#sk-container-id-5 input.sk-hidden--visually {border: 0;clip: rect(1px 1px 1px 1px);clip: rect(1px, 1px, 1px, 1px);height: 1px;margin: -1px;overflow: hidden;padding: 0;position: absolute;width: 1px;}#sk-container-id-5 div.sk-estimator {font-family: monospace;background-color: #f0f8ff;border: 1px dotted black;border-radius: 0.25em;box-sizing: border-box;margin-bottom: 0.5em;}#sk-container-id-5 div.sk-estimator:hover {background-color: #d4ebff;}#sk-container-id-5 div.sk-parallel-item::after {content: \"\";width: 100%;border-bottom: 1px solid gray;flex-grow: 1;}#sk-container-id-5 div.sk-label:hover label.sk-toggleable__label {background-color: #d4ebff;}#sk-container-id-5 div.sk-serial::before {content: \"\";position: absolute;border-left: 1px solid gray;box-sizing: border-box;top: 0;bottom: 0;left: 50%;z-index: 0;}#sk-container-id-5 div.sk-serial {display: flex;flex-direction: column;align-items: center;background-color: white;padding-right: 0.2em;padding-left: 0.2em;position: relative;}#sk-container-id-5 div.sk-item {position: relative;z-index: 1;}#sk-container-id-5 div.sk-parallel {display: flex;align-items: stretch;justify-content: center;background-color: white;position: relative;}#sk-container-id-5 div.sk-item::before, #sk-container-id-5 div.sk-parallel-item::before {content: \"\";position: absolute;border-left: 1px solid gray;box-sizing: border-box;top: 0;bottom: 0;left: 50%;z-index: -1;}#sk-container-id-5 div.sk-parallel-item {display: flex;flex-direction: column;z-index: 1;position: relative;background-color: white;}#sk-container-id-5 div.sk-parallel-item:first-child::after {align-self: flex-end;width: 50%;}#sk-container-id-5 div.sk-parallel-item:last-child::after {align-self: flex-start;width: 50%;}#sk-container-id-5 div.sk-parallel-item:only-child::after {width: 0;}#sk-container-id-5 div.sk-dashed-wrapped {border: 1px dashed gray;margin: 0 0.4em 0.5em 0.4em;box-sizing: border-box;padding-bottom: 0.4em;background-color: white;}#sk-container-id-5 div.sk-label label {font-family: monospace;font-weight: bold;display: inline-block;line-height: 1.2em;}#sk-container-id-5 div.sk-label-container {text-align: center;}#sk-container-id-5 div.sk-container {/* jupyter's `normalize.less` sets `[hidden] { display: none; }` but bootstrap.min.css set `[hidden] { display: none !important; }` so we also need the `!important` here to be able to override the default hidden behavior on the sphinx rendered scikit-learn.org. See: https://github.com/scikit-learn/scikit-learn/issues/21755 */display: inline-block !important;position: relative;}#sk-container-id-5 div.sk-text-repr-fallback {display: none;}</style><div id=\"sk-container-id-5\" class=\"sk-top-container\"><div class=\"sk-text-repr-fallback\"><pre>OrdinalEncoder(categories=[[&#x27;petrol&#x27;, &#x27;diesel&#x27;, &#x27;hybrid_petrol&#x27;, &#x27;electro&#x27;]])</pre><b>In a Jupyter environment, please rerun this cell to show the HTML representation or trust the notebook. <br />On GitHub, the HTML representation is unable to render, please try loading this page with nbviewer.org.</b></div><div class=\"sk-container\" hidden><div class=\"sk-item\"><div class=\"sk-estimator sk-toggleable\"><input class=\"sk-toggleable__control sk-hidden--visually\" id=\"sk-estimator-id-5\" type=\"checkbox\" checked><label for=\"sk-estimator-id-5\" class=\"sk-toggleable__label sk-toggleable__label-arrow\">OrdinalEncoder</label><div class=\"sk-toggleable__content\"><pre>OrdinalEncoder(categories=[[&#x27;petrol&#x27;, &#x27;diesel&#x27;, &#x27;hybrid_petrol&#x27;, &#x27;electro&#x27;]])</pre></div></div></div></div></div>"
      ],
      "text/plain": [
       "OrdinalEncoder(categories=[['petrol', 'diesel', 'hybrid_petrol', 'electro']])"
      ]
     },
     "execution_count": 295,
     "metadata": {},
     "output_type": "execute_result"
    }
   ],
   "source": [
    "oe = OrdinalEncoder(categories=[['petrol','diesel','hybrid_petrol','electro']])\n",
    "oe"
   ]
  },
  {
   "cell_type": "code",
   "execution_count": 296,
   "metadata": {},
   "outputs": [],
   "source": [
    "df_bmw10['combustible_int'] = oe.fit_transform(df_bmw10[['combustible']])"
   ]
  },
  {
   "cell_type": "code",
   "execution_count": 297,
   "metadata": {},
   "outputs": [
    {
     "data": {
      "text/html": [
       "<style>#sk-container-id-6 {color: black;background-color: white;}#sk-container-id-6 pre{padding: 0;}#sk-container-id-6 div.sk-toggleable {background-color: white;}#sk-container-id-6 label.sk-toggleable__label {cursor: pointer;display: block;width: 100%;margin-bottom: 0;padding: 0.3em;box-sizing: border-box;text-align: center;}#sk-container-id-6 label.sk-toggleable__label-arrow:before {content: \"▸\";float: left;margin-right: 0.25em;color: #696969;}#sk-container-id-6 label.sk-toggleable__label-arrow:hover:before {color: black;}#sk-container-id-6 div.sk-estimator:hover label.sk-toggleable__label-arrow:before {color: black;}#sk-container-id-6 div.sk-toggleable__content {max-height: 0;max-width: 0;overflow: hidden;text-align: left;background-color: #f0f8ff;}#sk-container-id-6 div.sk-toggleable__content pre {margin: 0.2em;color: black;border-radius: 0.25em;background-color: #f0f8ff;}#sk-container-id-6 input.sk-toggleable__control:checked~div.sk-toggleable__content {max-height: 200px;max-width: 100%;overflow: auto;}#sk-container-id-6 input.sk-toggleable__control:checked~label.sk-toggleable__label-arrow:before {content: \"▾\";}#sk-container-id-6 div.sk-estimator input.sk-toggleable__control:checked~label.sk-toggleable__label {background-color: #d4ebff;}#sk-container-id-6 div.sk-label input.sk-toggleable__control:checked~label.sk-toggleable__label {background-color: #d4ebff;}#sk-container-id-6 input.sk-hidden--visually {border: 0;clip: rect(1px 1px 1px 1px);clip: rect(1px, 1px, 1px, 1px);height: 1px;margin: -1px;overflow: hidden;padding: 0;position: absolute;width: 1px;}#sk-container-id-6 div.sk-estimator {font-family: monospace;background-color: #f0f8ff;border: 1px dotted black;border-radius: 0.25em;box-sizing: border-box;margin-bottom: 0.5em;}#sk-container-id-6 div.sk-estimator:hover {background-color: #d4ebff;}#sk-container-id-6 div.sk-parallel-item::after {content: \"\";width: 100%;border-bottom: 1px solid gray;flex-grow: 1;}#sk-container-id-6 div.sk-label:hover label.sk-toggleable__label {background-color: #d4ebff;}#sk-container-id-6 div.sk-serial::before {content: \"\";position: absolute;border-left: 1px solid gray;box-sizing: border-box;top: 0;bottom: 0;left: 50%;z-index: 0;}#sk-container-id-6 div.sk-serial {display: flex;flex-direction: column;align-items: center;background-color: white;padding-right: 0.2em;padding-left: 0.2em;position: relative;}#sk-container-id-6 div.sk-item {position: relative;z-index: 1;}#sk-container-id-6 div.sk-parallel {display: flex;align-items: stretch;justify-content: center;background-color: white;position: relative;}#sk-container-id-6 div.sk-item::before, #sk-container-id-6 div.sk-parallel-item::before {content: \"\";position: absolute;border-left: 1px solid gray;box-sizing: border-box;top: 0;bottom: 0;left: 50%;z-index: -1;}#sk-container-id-6 div.sk-parallel-item {display: flex;flex-direction: column;z-index: 1;position: relative;background-color: white;}#sk-container-id-6 div.sk-parallel-item:first-child::after {align-self: flex-end;width: 50%;}#sk-container-id-6 div.sk-parallel-item:last-child::after {align-self: flex-start;width: 50%;}#sk-container-id-6 div.sk-parallel-item:only-child::after {width: 0;}#sk-container-id-6 div.sk-dashed-wrapped {border: 1px dashed gray;margin: 0 0.4em 0.5em 0.4em;box-sizing: border-box;padding-bottom: 0.4em;background-color: white;}#sk-container-id-6 div.sk-label label {font-family: monospace;font-weight: bold;display: inline-block;line-height: 1.2em;}#sk-container-id-6 div.sk-label-container {text-align: center;}#sk-container-id-6 div.sk-container {/* jupyter's `normalize.less` sets `[hidden] { display: none; }` but bootstrap.min.css set `[hidden] { display: none !important; }` so we also need the `!important` here to be able to override the default hidden behavior on the sphinx rendered scikit-learn.org. See: https://github.com/scikit-learn/scikit-learn/issues/21755 */display: inline-block !important;position: relative;}#sk-container-id-6 div.sk-text-repr-fallback {display: none;}</style><div id=\"sk-container-id-6\" class=\"sk-top-container\"><div class=\"sk-text-repr-fallback\"><pre>OrdinalEncoder(categories=[[&#x27;serie&#x27;, &#x27;personalizado&#x27;]])</pre><b>In a Jupyter environment, please rerun this cell to show the HTML representation or trust the notebook. <br />On GitHub, the HTML representation is unable to render, please try loading this page with nbviewer.org.</b></div><div class=\"sk-container\" hidden><div class=\"sk-item\"><div class=\"sk-estimator sk-toggleable\"><input class=\"sk-toggleable__control sk-hidden--visually\" id=\"sk-estimator-id-6\" type=\"checkbox\" checked><label for=\"sk-estimator-id-6\" class=\"sk-toggleable__label sk-toggleable__label-arrow\">OrdinalEncoder</label><div class=\"sk-toggleable__content\"><pre>OrdinalEncoder(categories=[[&#x27;serie&#x27;, &#x27;personalizado&#x27;]])</pre></div></div></div></div></div>"
      ],
      "text/plain": [
       "OrdinalEncoder(categories=[['serie', 'personalizado']])"
      ]
     },
     "execution_count": 297,
     "metadata": {},
     "output_type": "execute_result"
    }
   ],
   "source": [
    "oe = OrdinalEncoder(categories=[['serie','personalizado']])\n",
    "oe"
   ]
  },
  {
   "cell_type": "code",
   "execution_count": 298,
   "metadata": {},
   "outputs": [],
   "source": [
    "df_bmw10['color_int'] = oe.fit_transform(df_bmw10[['group_color']])"
   ]
  },
  {
   "cell_type": "code",
   "execution_count": 299,
   "metadata": {},
   "outputs": [
    {
     "data": {
      "text/html": [
       "<style>#sk-container-id-7 {color: black;background-color: white;}#sk-container-id-7 pre{padding: 0;}#sk-container-id-7 div.sk-toggleable {background-color: white;}#sk-container-id-7 label.sk-toggleable__label {cursor: pointer;display: block;width: 100%;margin-bottom: 0;padding: 0.3em;box-sizing: border-box;text-align: center;}#sk-container-id-7 label.sk-toggleable__label-arrow:before {content: \"▸\";float: left;margin-right: 0.25em;color: #696969;}#sk-container-id-7 label.sk-toggleable__label-arrow:hover:before {color: black;}#sk-container-id-7 div.sk-estimator:hover label.sk-toggleable__label-arrow:before {color: black;}#sk-container-id-7 div.sk-toggleable__content {max-height: 0;max-width: 0;overflow: hidden;text-align: left;background-color: #f0f8ff;}#sk-container-id-7 div.sk-toggleable__content pre {margin: 0.2em;color: black;border-radius: 0.25em;background-color: #f0f8ff;}#sk-container-id-7 input.sk-toggleable__control:checked~div.sk-toggleable__content {max-height: 200px;max-width: 100%;overflow: auto;}#sk-container-id-7 input.sk-toggleable__control:checked~label.sk-toggleable__label-arrow:before {content: \"▾\";}#sk-container-id-7 div.sk-estimator input.sk-toggleable__control:checked~label.sk-toggleable__label {background-color: #d4ebff;}#sk-container-id-7 div.sk-label input.sk-toggleable__control:checked~label.sk-toggleable__label {background-color: #d4ebff;}#sk-container-id-7 input.sk-hidden--visually {border: 0;clip: rect(1px 1px 1px 1px);clip: rect(1px, 1px, 1px, 1px);height: 1px;margin: -1px;overflow: hidden;padding: 0;position: absolute;width: 1px;}#sk-container-id-7 div.sk-estimator {font-family: monospace;background-color: #f0f8ff;border: 1px dotted black;border-radius: 0.25em;box-sizing: border-box;margin-bottom: 0.5em;}#sk-container-id-7 div.sk-estimator:hover {background-color: #d4ebff;}#sk-container-id-7 div.sk-parallel-item::after {content: \"\";width: 100%;border-bottom: 1px solid gray;flex-grow: 1;}#sk-container-id-7 div.sk-label:hover label.sk-toggleable__label {background-color: #d4ebff;}#sk-container-id-7 div.sk-serial::before {content: \"\";position: absolute;border-left: 1px solid gray;box-sizing: border-box;top: 0;bottom: 0;left: 50%;z-index: 0;}#sk-container-id-7 div.sk-serial {display: flex;flex-direction: column;align-items: center;background-color: white;padding-right: 0.2em;padding-left: 0.2em;position: relative;}#sk-container-id-7 div.sk-item {position: relative;z-index: 1;}#sk-container-id-7 div.sk-parallel {display: flex;align-items: stretch;justify-content: center;background-color: white;position: relative;}#sk-container-id-7 div.sk-item::before, #sk-container-id-7 div.sk-parallel-item::before {content: \"\";position: absolute;border-left: 1px solid gray;box-sizing: border-box;top: 0;bottom: 0;left: 50%;z-index: -1;}#sk-container-id-7 div.sk-parallel-item {display: flex;flex-direction: column;z-index: 1;position: relative;background-color: white;}#sk-container-id-7 div.sk-parallel-item:first-child::after {align-self: flex-end;width: 50%;}#sk-container-id-7 div.sk-parallel-item:last-child::after {align-self: flex-start;width: 50%;}#sk-container-id-7 div.sk-parallel-item:only-child::after {width: 0;}#sk-container-id-7 div.sk-dashed-wrapped {border: 1px dashed gray;margin: 0 0.4em 0.5em 0.4em;box-sizing: border-box;padding-bottom: 0.4em;background-color: white;}#sk-container-id-7 div.sk-label label {font-family: monospace;font-weight: bold;display: inline-block;line-height: 1.2em;}#sk-container-id-7 div.sk-label-container {text-align: center;}#sk-container-id-7 div.sk-container {/* jupyter's `normalize.less` sets `[hidden] { display: none; }` but bootstrap.min.css set `[hidden] { display: none !important; }` so we also need the `!important` here to be able to override the default hidden behavior on the sphinx rendered scikit-learn.org. See: https://github.com/scikit-learn/scikit-learn/issues/21755 */display: inline-block !important;position: relative;}#sk-container-id-7 div.sk-text-repr-fallback {display: none;}</style><div id=\"sk-container-id-7\" class=\"sk-top-container\"><div class=\"sk-text-repr-fallback\"><pre>OrdinalEncoder(categories=[[&#x27;Serie 1&#x27;, &#x27;Serie 2&#x27;, &#x27;Serie 3&#x27;, &#x27;Serie 4&#x27;,\n",
       "                            &#x27;Serie Z&#x27;, &#x27;Serie 5&#x27;, &#x27;Serie 6&#x27;, &#x27;Serie 7&#x27;]])</pre><b>In a Jupyter environment, please rerun this cell to show the HTML representation or trust the notebook. <br />On GitHub, the HTML representation is unable to render, please try loading this page with nbviewer.org.</b></div><div class=\"sk-container\" hidden><div class=\"sk-item\"><div class=\"sk-estimator sk-toggleable\"><input class=\"sk-toggleable__control sk-hidden--visually\" id=\"sk-estimator-id-7\" type=\"checkbox\" checked><label for=\"sk-estimator-id-7\" class=\"sk-toggleable__label sk-toggleable__label-arrow\">OrdinalEncoder</label><div class=\"sk-toggleable__content\"><pre>OrdinalEncoder(categories=[[&#x27;Serie 1&#x27;, &#x27;Serie 2&#x27;, &#x27;Serie 3&#x27;, &#x27;Serie 4&#x27;,\n",
       "                            &#x27;Serie Z&#x27;, &#x27;Serie 5&#x27;, &#x27;Serie 6&#x27;, &#x27;Serie 7&#x27;]])</pre></div></div></div></div></div>"
      ],
      "text/plain": [
       "OrdinalEncoder(categories=[['Serie 1', 'Serie 2', 'Serie 3', 'Serie 4',\n",
       "                            'Serie Z', 'Serie 5', 'Serie 6', 'Serie 7']])"
      ]
     },
     "execution_count": 299,
     "metadata": {},
     "output_type": "execute_result"
    }
   ],
   "source": [
    "oe = OrdinalEncoder(categories=[['Serie 1','Serie 2','Serie 3','Serie 4','Serie Z','Serie 5','Serie 6','Serie 7']])\n",
    "oe"
   ]
  },
  {
   "cell_type": "code",
   "execution_count": 300,
   "metadata": {},
   "outputs": [],
   "source": [
    "df_bmw10['serie_int'] = oe.fit_transform(df_bmw10[['serie']])"
   ]
  },
  {
   "cell_type": "code",
   "execution_count": 301,
   "metadata": {},
   "outputs": [],
   "source": [
    "df_bmw11 = df_bmw10.copy().reset_index()"
   ]
  },
  {
   "cell_type": "code",
   "execution_count": 302,
   "metadata": {},
   "outputs": [
    {
     "name": "stdout",
     "output_type": "stream",
     "text": [
      "<class 'pandas.core.frame.DataFrame'>\n",
      "RangeIndex: 4725 entries, 0 to 4724\n",
      "Data columns (total 22 columns):\n",
      " #   Column                Non-Null Count  Dtype  \n",
      "---  ------                --------------  -----  \n",
      " 0   index                 4725 non-null   int64  \n",
      " 1   modelo                4725 non-null   object \n",
      " 2   km                    4725 non-null   float64\n",
      " 3   potencia              4725 non-null   float64\n",
      " 4   combustible           4725 non-null   object \n",
      " 5   color                 4725 non-null   object \n",
      " 6   tipo_coche            4725 non-null   object \n",
      " 7   volante_regulable     4725 non-null   int32  \n",
      " 8   aire_acondicionado    4725 non-null   int32  \n",
      " 9   camara_trasera        4725 non-null   int32  \n",
      " 10  elevalunas_electrico  4725 non-null   int32  \n",
      " 11  bluetooth             4725 non-null   int32  \n",
      " 12  gps                   4725 non-null   int32  \n",
      " 13  alerta_lim_velocidad  4725 non-null   int32  \n",
      " 14  precio                4725 non-null   float64\n",
      " 15  antiguedad            4725 non-null   float64\n",
      " 16  serie                 4725 non-null   object \n",
      " 17  log_precio            4725 non-null   float64\n",
      " 18  group_color           4725 non-null   object \n",
      " 19  combustible_int       4725 non-null   float64\n",
      " 20  color_int             4725 non-null   float64\n",
      " 21  serie_int             4725 non-null   float64\n",
      "dtypes: float64(8), int32(7), int64(1), object(6)\n",
      "memory usage: 683.0+ KB\n"
     ]
    }
   ],
   "source": [
    "df_bmw11.info()"
   ]
  },
  {
   "cell_type": "code",
   "execution_count": 303,
   "metadata": {},
   "outputs": [],
   "source": [
    "list_to_delete2 = ['modelo','color','combustible','group_color','serie','index']\n",
    "for i in list_to_delete2:\n",
    "  del(df_bmw11[i])"
   ]
  },
  {
   "cell_type": "code",
   "execution_count": 304,
   "metadata": {},
   "outputs": [
    {
     "data": {
      "text/html": [
       "<div>\n",
       "<style scoped>\n",
       "    .dataframe tbody tr th:only-of-type {\n",
       "        vertical-align: middle;\n",
       "    }\n",
       "\n",
       "    .dataframe tbody tr th {\n",
       "        vertical-align: top;\n",
       "    }\n",
       "\n",
       "    .dataframe thead th {\n",
       "        text-align: right;\n",
       "    }\n",
       "</style>\n",
       "<table border=\"1\" class=\"dataframe\">\n",
       "  <thead>\n",
       "    <tr style=\"text-align: right;\">\n",
       "      <th></th>\n",
       "      <th>km</th>\n",
       "      <th>potencia</th>\n",
       "      <th>tipo_coche</th>\n",
       "      <th>volante_regulable</th>\n",
       "      <th>aire_acondicionado</th>\n",
       "      <th>camara_trasera</th>\n",
       "      <th>elevalunas_electrico</th>\n",
       "      <th>bluetooth</th>\n",
       "      <th>gps</th>\n",
       "      <th>alerta_lim_velocidad</th>\n",
       "      <th>precio</th>\n",
       "      <th>antiguedad</th>\n",
       "      <th>log_precio</th>\n",
       "      <th>combustible_int</th>\n",
       "      <th>color_int</th>\n",
       "      <th>serie_int</th>\n",
       "    </tr>\n",
       "  </thead>\n",
       "  <tbody>\n",
       "    <tr>\n",
       "      <th>0</th>\n",
       "      <td>140411.0</td>\n",
       "      <td>100.0</td>\n",
       "      <td>sin tipo</td>\n",
       "      <td>1</td>\n",
       "      <td>1</td>\n",
       "      <td>0</td>\n",
       "      <td>1</td>\n",
       "      <td>1</td>\n",
       "      <td>1</td>\n",
       "      <td>0</td>\n",
       "      <td>11300.0</td>\n",
       "      <td>5.920548</td>\n",
       "      <td>4.053078</td>\n",
       "      <td>1.0</td>\n",
       "      <td>0.0</td>\n",
       "      <td>0.0</td>\n",
       "    </tr>\n",
       "    <tr>\n",
       "      <th>1</th>\n",
       "      <td>13929.0</td>\n",
       "      <td>317.0</td>\n",
       "      <td>convertible</td>\n",
       "      <td>1</td>\n",
       "      <td>1</td>\n",
       "      <td>0</td>\n",
       "      <td>0</td>\n",
       "      <td>1</td>\n",
       "      <td>1</td>\n",
       "      <td>1</td>\n",
       "      <td>69700.0</td>\n",
       "      <td>4.002740</td>\n",
       "      <td>4.843233</td>\n",
       "      <td>0.0</td>\n",
       "      <td>1.0</td>\n",
       "      <td>3.0</td>\n",
       "    </tr>\n",
       "    <tr>\n",
       "      <th>2</th>\n",
       "      <td>183297.0</td>\n",
       "      <td>120.0</td>\n",
       "      <td>sin tipo</td>\n",
       "      <td>0</td>\n",
       "      <td>0</td>\n",
       "      <td>0</td>\n",
       "      <td>1</td>\n",
       "      <td>0</td>\n",
       "      <td>1</td>\n",
       "      <td>0</td>\n",
       "      <td>10200.0</td>\n",
       "      <td>5.841096</td>\n",
       "      <td>4.008600</td>\n",
       "      <td>1.0</td>\n",
       "      <td>0.0</td>\n",
       "      <td>2.0</td>\n",
       "    </tr>\n",
       "    <tr>\n",
       "      <th>3</th>\n",
       "      <td>128035.0</td>\n",
       "      <td>135.0</td>\n",
       "      <td>convertible</td>\n",
       "      <td>1</td>\n",
       "      <td>1</td>\n",
       "      <td>0</td>\n",
       "      <td>1</td>\n",
       "      <td>1</td>\n",
       "      <td>1</td>\n",
       "      <td>0</td>\n",
       "      <td>25100.0</td>\n",
       "      <td>4.002740</td>\n",
       "      <td>4.399674</td>\n",
       "      <td>1.0</td>\n",
       "      <td>0.0</td>\n",
       "      <td>3.0</td>\n",
       "    </tr>\n",
       "    <tr>\n",
       "      <th>4</th>\n",
       "      <td>97097.0</td>\n",
       "      <td>160.0</td>\n",
       "      <td>sin tipo</td>\n",
       "      <td>1</td>\n",
       "      <td>1</td>\n",
       "      <td>0</td>\n",
       "      <td>0</td>\n",
       "      <td>1</td>\n",
       "      <td>1</td>\n",
       "      <td>1</td>\n",
       "      <td>33400.0</td>\n",
       "      <td>4.002740</td>\n",
       "      <td>4.523746</td>\n",
       "      <td>1.0</td>\n",
       "      <td>1.0</td>\n",
       "      <td>3.0</td>\n",
       "    </tr>\n",
       "  </tbody>\n",
       "</table>\n",
       "</div>"
      ],
      "text/plain": [
       "         km  potencia   tipo_coche  volante_regulable  aire_acondicionado  \\\n",
       "0  140411.0     100.0     sin tipo                  1                   1   \n",
       "1   13929.0     317.0  convertible                  1                   1   \n",
       "2  183297.0     120.0     sin tipo                  0                   0   \n",
       "3  128035.0     135.0  convertible                  1                   1   \n",
       "4   97097.0     160.0     sin tipo                  1                   1   \n",
       "\n",
       "   camara_trasera  elevalunas_electrico  bluetooth  gps  alerta_lim_velocidad  \\\n",
       "0               0                     1          1    1                     0   \n",
       "1               0                     0          1    1                     1   \n",
       "2               0                     1          0    1                     0   \n",
       "3               0                     1          1    1                     0   \n",
       "4               0                     0          1    1                     1   \n",
       "\n",
       "    precio  antiguedad  log_precio  combustible_int  color_int  serie_int  \n",
       "0  11300.0    5.920548    4.053078              1.0        0.0        0.0  \n",
       "1  69700.0    4.002740    4.843233              0.0        1.0        3.0  \n",
       "2  10200.0    5.841096    4.008600              1.0        0.0        2.0  \n",
       "3  25100.0    4.002740    4.399674              1.0        0.0        3.0  \n",
       "4  33400.0    4.002740    4.523746              1.0        1.0        3.0  "
      ]
     },
     "execution_count": 304,
     "metadata": {},
     "output_type": "execute_result"
    }
   ],
   "source": [
    "df_bmw11.head()"
   ]
  },
  {
   "cell_type": "markdown",
   "metadata": {},
   "source": [
    "### Para mi única varible categórica que queda **tipo_coche** utilizo _det_dummies_"
   ]
  },
  {
   "cell_type": "code",
   "execution_count": 305,
   "metadata": {},
   "outputs": [],
   "source": [
    "df_bmw11=pd.get_dummies(data=df_bmw11, columns=['tipo_coche'],dtype=int)"
   ]
  },
  {
   "cell_type": "code",
   "execution_count": 306,
   "metadata": {},
   "outputs": [
    {
     "data": {
      "text/html": [
       "<div>\n",
       "<style scoped>\n",
       "    .dataframe tbody tr th:only-of-type {\n",
       "        vertical-align: middle;\n",
       "    }\n",
       "\n",
       "    .dataframe tbody tr th {\n",
       "        vertical-align: top;\n",
       "    }\n",
       "\n",
       "    .dataframe thead th {\n",
       "        text-align: right;\n",
       "    }\n",
       "</style>\n",
       "<table border=\"1\" class=\"dataframe\">\n",
       "  <thead>\n",
       "    <tr style=\"text-align: right;\">\n",
       "      <th></th>\n",
       "      <th>km</th>\n",
       "      <th>potencia</th>\n",
       "      <th>volante_regulable</th>\n",
       "      <th>aire_acondicionado</th>\n",
       "      <th>camara_trasera</th>\n",
       "      <th>elevalunas_electrico</th>\n",
       "      <th>bluetooth</th>\n",
       "      <th>gps</th>\n",
       "      <th>alerta_lim_velocidad</th>\n",
       "      <th>precio</th>\n",
       "      <th>...</th>\n",
       "      <th>serie_int</th>\n",
       "      <th>tipo_coche_convertible</th>\n",
       "      <th>tipo_coche_coupe</th>\n",
       "      <th>tipo_coche_estate</th>\n",
       "      <th>tipo_coche_hatchback</th>\n",
       "      <th>tipo_coche_sedan</th>\n",
       "      <th>tipo_coche_sin tipo</th>\n",
       "      <th>tipo_coche_subcompact</th>\n",
       "      <th>tipo_coche_suv</th>\n",
       "      <th>tipo_coche_van</th>\n",
       "    </tr>\n",
       "  </thead>\n",
       "  <tbody>\n",
       "    <tr>\n",
       "      <th>0</th>\n",
       "      <td>140411.0</td>\n",
       "      <td>100.0</td>\n",
       "      <td>1</td>\n",
       "      <td>1</td>\n",
       "      <td>0</td>\n",
       "      <td>1</td>\n",
       "      <td>1</td>\n",
       "      <td>1</td>\n",
       "      <td>0</td>\n",
       "      <td>11300.0</td>\n",
       "      <td>...</td>\n",
       "      <td>0.0</td>\n",
       "      <td>0</td>\n",
       "      <td>0</td>\n",
       "      <td>0</td>\n",
       "      <td>0</td>\n",
       "      <td>0</td>\n",
       "      <td>1</td>\n",
       "      <td>0</td>\n",
       "      <td>0</td>\n",
       "      <td>0</td>\n",
       "    </tr>\n",
       "  </tbody>\n",
       "</table>\n",
       "<p>1 rows × 24 columns</p>\n",
       "</div>"
      ],
      "text/plain": [
       "         km  potencia  volante_regulable  aire_acondicionado  camara_trasera  \\\n",
       "0  140411.0     100.0                  1                   1               0   \n",
       "\n",
       "   elevalunas_electrico  bluetooth  gps  alerta_lim_velocidad   precio  ...  \\\n",
       "0                     1          1    1                     0  11300.0  ...   \n",
       "\n",
       "   serie_int  tipo_coche_convertible  tipo_coche_coupe  tipo_coche_estate  \\\n",
       "0        0.0                       0                 0                  0   \n",
       "\n",
       "   tipo_coche_hatchback  tipo_coche_sedan  tipo_coche_sin tipo  \\\n",
       "0                     0                 0                    1   \n",
       "\n",
       "   tipo_coche_subcompact  tipo_coche_suv  tipo_coche_van  \n",
       "0                      0               0               0  \n",
       "\n",
       "[1 rows x 24 columns]"
      ]
     },
     "execution_count": 306,
     "metadata": {},
     "output_type": "execute_result"
    }
   ],
   "source": [
    "df_bmw11.head(1)"
   ]
  },
  {
   "cell_type": "code",
   "execution_count": null,
   "metadata": {},
   "outputs": [],
   "source": [
    "pd.set_option('display.max_columns', None)"
   ]
  },
  {
   "cell_type": "code",
   "execution_count": null,
   "metadata": {},
   "outputs": [],
   "source": [
    "pd.reset_option(\"max_columns\")"
   ]
  },
  {
   "cell_type": "markdown",
   "metadata": {},
   "source": [
    "### Ahora aplico el MinMaxScaler para que standarizar todos mis valores numéricos a la misma escala"
   ]
  },
  {
   "cell_type": "code",
   "execution_count": 307,
   "metadata": {},
   "outputs": [],
   "source": [
    "minMaxResultado = MinMaxScaler()"
   ]
  },
  {
   "cell_type": "code",
   "execution_count": 308,
   "metadata": {},
   "outputs": [],
   "source": [
    "l_numericas2, l_booleanos2, l_categoricas2 = get_list_var(df_bmw11)"
   ]
  },
  {
   "cell_type": "code",
   "execution_count": 309,
   "metadata": {},
   "outputs": [],
   "source": [
    "l_numericas2.remove('log_precio')"
   ]
  },
  {
   "cell_type": "code",
   "execution_count": 310,
   "metadata": {},
   "outputs": [
    {
     "data": {
      "text/plain": [
       "['km', 'potencia', 'antiguedad', 'combustible_int', 'serie_int']"
      ]
     },
     "execution_count": 310,
     "metadata": {},
     "output_type": "execute_result"
    }
   ],
   "source": [
    "l_numericas2"
   ]
  },
  {
   "cell_type": "code",
   "execution_count": 311,
   "metadata": {},
   "outputs": [],
   "source": [
    "df_bmw11[l_numericas2] = minMaxResultado.fit_transform(df_bmw11[l_numericas2])"
   ]
  },
  {
   "cell_type": "code",
   "execution_count": 312,
   "metadata": {},
   "outputs": [
    {
     "name": "stdout",
     "output_type": "stream",
     "text": [
      "<class 'pandas.core.frame.DataFrame'>\n",
      "RangeIndex: 4725 entries, 0 to 4724\n",
      "Data columns (total 24 columns):\n",
      " #   Column                  Non-Null Count  Dtype  \n",
      "---  ------                  --------------  -----  \n",
      " 0   km                      4725 non-null   float64\n",
      " 1   potencia                4725 non-null   float64\n",
      " 2   volante_regulable       4725 non-null   int32  \n",
      " 3   aire_acondicionado      4725 non-null   int32  \n",
      " 4   camara_trasera          4725 non-null   int32  \n",
      " 5   elevalunas_electrico    4725 non-null   int32  \n",
      " 6   bluetooth               4725 non-null   int32  \n",
      " 7   gps                     4725 non-null   int32  \n",
      " 8   alerta_lim_velocidad    4725 non-null   int32  \n",
      " 9   precio                  4725 non-null   float64\n",
      " 10  antiguedad              4725 non-null   float64\n",
      " 11  log_precio              4725 non-null   float64\n",
      " 12  combustible_int         4725 non-null   float64\n",
      " 13  color_int               4725 non-null   float64\n",
      " 14  serie_int               4725 non-null   float64\n",
      " 15  tipo_coche_convertible  4725 non-null   int32  \n",
      " 16  tipo_coche_coupe        4725 non-null   int32  \n",
      " 17  tipo_coche_estate       4725 non-null   int32  \n",
      " 18  tipo_coche_hatchback    4725 non-null   int32  \n",
      " 19  tipo_coche_sedan        4725 non-null   int32  \n",
      " 20  tipo_coche_sin tipo     4725 non-null   int32  \n",
      " 21  tipo_coche_subcompact   4725 non-null   int32  \n",
      " 22  tipo_coche_suv          4725 non-null   int32  \n",
      " 23  tipo_coche_van          4725 non-null   int32  \n",
      "dtypes: float64(8), int32(16)\n",
      "memory usage: 590.8 KB\n"
     ]
    }
   ],
   "source": [
    "df_bmw11.info()"
   ]
  },
  {
   "cell_type": "code",
   "execution_count": 313,
   "metadata": {},
   "outputs": [],
   "source": [
    "corr = df_bmw11.corr(numeric_only=True)"
   ]
  },
  {
   "cell_type": "code",
   "execution_count": 314,
   "metadata": {},
   "outputs": [
    {
     "data": {
      "text/html": [
       "<style type=\"text/css\">\n",
       "#T_3e76b_row0_col0, #T_3e76b_row1_col1, #T_3e76b_row2_col2, #T_3e76b_row3_col3, #T_3e76b_row4_col4, #T_3e76b_row5_col5, #T_3e76b_row6_col6, #T_3e76b_row7_col7, #T_3e76b_row8_col8, #T_3e76b_row9_col9, #T_3e76b_row10_col10, #T_3e76b_row11_col11, #T_3e76b_row12_col12, #T_3e76b_row13_col13, #T_3e76b_row14_col14, #T_3e76b_row15_col15, #T_3e76b_row16_col16, #T_3e76b_row17_col17, #T_3e76b_row18_col18, #T_3e76b_row19_col19, #T_3e76b_row20_col20, #T_3e76b_row21_col21, #T_3e76b_row22_col22, #T_3e76b_row23_col23 {\n",
       "  background-color: #b40426;\n",
       "  color: #f1f1f1;\n",
       "}\n",
       "#T_3e76b_row0_col1, #T_3e76b_row0_col3, #T_3e76b_row4_col12, #T_3e76b_row12_col21, #T_3e76b_row16_col6, #T_3e76b_row16_col15, #T_3e76b_row23_col21 {\n",
       "  background-color: #6788ee;\n",
       "  color: #f1f1f1;\n",
       "}\n",
       "#T_3e76b_row0_col2, #T_3e76b_row2_col15, #T_3e76b_row6_col8, #T_3e76b_row15_col20, #T_3e76b_row15_col22, #T_3e76b_row23_col17 {\n",
       "  background-color: #799cf8;\n",
       "  color: #f1f1f1;\n",
       "}\n",
       "#T_3e76b_row0_col4, #T_3e76b_row1_col12, #T_3e76b_row10_col5 {\n",
       "  background-color: #4961d2;\n",
       "  color: #f1f1f1;\n",
       "}\n",
       "#T_3e76b_row0_col5, #T_3e76b_row8_col16, #T_3e76b_row10_col21, #T_3e76b_row14_col16, #T_3e76b_row18_col12, #T_3e76b_row19_col8, #T_3e76b_row21_col19, #T_3e76b_row23_col12, #T_3e76b_row23_col15 {\n",
       "  background-color: #6a8bef;\n",
       "  color: #f1f1f1;\n",
       "}\n",
       "#T_3e76b_row0_col6, #T_3e76b_row1_col21, #T_3e76b_row19_col20, #T_3e76b_row20_col6 {\n",
       "  background-color: #455cce;\n",
       "  color: #f1f1f1;\n",
       "}\n",
       "#T_3e76b_row0_col7, #T_3e76b_row6_col18, #T_3e76b_row20_col14 {\n",
       "  background-color: #8db0fe;\n",
       "  color: #000000;\n",
       "}\n",
       "#T_3e76b_row0_col8, #T_3e76b_row15_col8 {\n",
       "  background-color: #5d7ce6;\n",
       "  color: #f1f1f1;\n",
       "}\n",
       "#T_3e76b_row0_col9, #T_3e76b_row0_col11, #T_3e76b_row0_col16, #T_3e76b_row0_col23, #T_3e76b_row5_col13, #T_3e76b_row11_col0, #T_3e76b_row11_col10, #T_3e76b_row12_col15, #T_3e76b_row13_col6, #T_3e76b_row14_col18, #T_3e76b_row14_col21, #T_3e76b_row15_col12, #T_3e76b_row17_col20, #T_3e76b_row18_col1, #T_3e76b_row18_col2, #T_3e76b_row18_col4, #T_3e76b_row18_col5, #T_3e76b_row18_col8, #T_3e76b_row18_col14, #T_3e76b_row20_col17, #T_3e76b_row20_col19, #T_3e76b_row20_col22, #T_3e76b_row21_col3, #T_3e76b_row21_col4, #T_3e76b_row21_col5, #T_3e76b_row22_col7, #T_3e76b_row22_col20 {\n",
       "  background-color: #3b4cc0;\n",
       "  color: #f1f1f1;\n",
       "}\n",
       "#T_3e76b_row0_col10, #T_3e76b_row5_col14 {\n",
       "  background-color: #dedcdb;\n",
       "  color: #000000;\n",
       "}\n",
       "#T_3e76b_row0_col12, #T_3e76b_row2_col20, #T_3e76b_row6_col3, #T_3e76b_row6_col19, #T_3e76b_row9_col12, #T_3e76b_row13_col22, #T_3e76b_row14_col7, #T_3e76b_row19_col1, #T_3e76b_row23_col20, #T_3e76b_row23_col22 {\n",
       "  background-color: #779af7;\n",
       "  color: #f1f1f1;\n",
       "}\n",
       "#T_3e76b_row0_col13, #T_3e76b_row10_col4, #T_3e76b_row12_col1, #T_3e76b_row15_col3, #T_3e76b_row15_col13, #T_3e76b_row17_col13, #T_3e76b_row18_col13, #T_3e76b_row18_col23, #T_3e76b_row23_col13 {\n",
       "  background-color: #4c66d6;\n",
       "  color: #f1f1f1;\n",
       "}\n",
       "#T_3e76b_row0_col14, #T_3e76b_row1_col4, #T_3e76b_row11_col2, #T_3e76b_row11_col3, #T_3e76b_row17_col14 {\n",
       "  background-color: #adc9fd;\n",
       "  color: #000000;\n",
       "}\n",
       "#T_3e76b_row0_col15, #T_3e76b_row0_col21, #T_3e76b_row3_col15, #T_3e76b_row4_col15, #T_3e76b_row12_col8, #T_3e76b_row13_col7, #T_3e76b_row17_col2, #T_3e76b_row19_col15, #T_3e76b_row19_col18 {\n",
       "  background-color: #6282ea;\n",
       "  color: #f1f1f1;\n",
       "}\n",
       "#T_3e76b_row0_col17, #T_3e76b_row2_col5 {\n",
       "  background-color: #abc8fd;\n",
       "  color: #000000;\n",
       "}\n",
       "#T_3e76b_row0_col18, #T_3e76b_row3_col4, #T_3e76b_row6_col16, #T_3e76b_row7_col21, #T_3e76b_row13_col2, #T_3e76b_row13_col12, #T_3e76b_row14_col12, #T_3e76b_row16_col8, #T_3e76b_row17_col9, #T_3e76b_row21_col17, #T_3e76b_row23_col14 {\n",
       "  background-color: #7396f5;\n",
       "  color: #f1f1f1;\n",
       "}\n",
       "#T_3e76b_row0_col19, #T_3e76b_row1_col3, #T_3e76b_row1_col10, #T_3e76b_row5_col10, #T_3e76b_row5_col22, #T_3e76b_row6_col10, #T_3e76b_row13_col20 {\n",
       "  background-color: #8caffe;\n",
       "  color: #000000;\n",
       "}\n",
       "#T_3e76b_row0_col20, #T_3e76b_row12_col17, #T_3e76b_row13_col9, #T_3e76b_row16_col10, #T_3e76b_row18_col0, #T_3e76b_row18_col10 {\n",
       "  background-color: #8fb1fe;\n",
       "  color: #000000;\n",
       "}\n",
       "#T_3e76b_row0_col22, #T_3e76b_row4_col16, #T_3e76b_row8_col15, #T_3e76b_row9_col20, #T_3e76b_row13_col1, #T_3e76b_row15_col21, #T_3e76b_row19_col3, #T_3e76b_row21_col12, #T_3e76b_row21_col15, #T_3e76b_row22_col4 {\n",
       "  background-color: #688aef;\n",
       "  color: #f1f1f1;\n",
       "}\n",
       "#T_3e76b_row1_col0, #T_3e76b_row2_col4, #T_3e76b_row9_col3, #T_3e76b_row15_col0, #T_3e76b_row21_col0, #T_3e76b_row23_col9 {\n",
       "  background-color: #9abbff;\n",
       "  color: #000000;\n",
       "}\n",
       "#T_3e76b_row1_col2, #T_3e76b_row14_col5, #T_3e76b_row17_col0 {\n",
       "  background-color: #c3d5f4;\n",
       "  color: #000000;\n",
       "}\n",
       "#T_3e76b_row1_col5, #T_3e76b_row14_col0 {\n",
       "  background-color: #c0d4f5;\n",
       "  color: #000000;\n",
       "}\n",
       "#T_3e76b_row1_col6, #T_3e76b_row7_col18, #T_3e76b_row13_col18, #T_3e76b_row16_col0, #T_3e76b_row22_col0, #T_3e76b_row23_col10 {\n",
       "  background-color: #88abfd;\n",
       "  color: #000000;\n",
       "}\n",
       "#T_3e76b_row1_col7, #T_3e76b_row7_col4, #T_3e76b_row9_col17, #T_3e76b_row13_col8, #T_3e76b_row15_col7, #T_3e76b_row16_col7, #T_3e76b_row19_col5, #T_3e76b_row19_col13, #T_3e76b_row21_col14 {\n",
       "  background-color: #5977e3;\n",
       "  color: #f1f1f1;\n",
       "}\n",
       "#T_3e76b_row1_col8 {\n",
       "  background-color: #dadce0;\n",
       "  color: #000000;\n",
       "}\n",
       "#T_3e76b_row1_col9 {\n",
       "  background-color: #f18f71;\n",
       "  color: #f1f1f1;\n",
       "}\n",
       "#T_3e76b_row1_col11 {\n",
       "  background-color: #f6a283;\n",
       "  color: #000000;\n",
       "}\n",
       "#T_3e76b_row1_col13, #T_3e76b_row2_col23, #T_3e76b_row8_col7, #T_3e76b_row8_col13, #T_3e76b_row10_col11, #T_3e76b_row13_col4, #T_3e76b_row16_col13, #T_3e76b_row19_col17, #T_3e76b_row19_col22, #T_3e76b_row20_col23, #T_3e76b_row21_col2, #T_3e76b_row23_col6 {\n",
       "  background-color: #465ecf;\n",
       "  color: #f1f1f1;\n",
       "}\n",
       "#T_3e76b_row1_col14 {\n",
       "  background-color: #f7b093;\n",
       "  color: #000000;\n",
       "}\n",
       "#T_3e76b_row1_col15, #T_3e76b_row3_col18, #T_3e76b_row10_col2, #T_3e76b_row12_col19, #T_3e76b_row13_col21, #T_3e76b_row14_col22, #T_3e76b_row17_col3, #T_3e76b_row21_col20, #T_3e76b_row21_col22 {\n",
       "  background-color: #7295f4;\n",
       "  color: #f1f1f1;\n",
       "}\n",
       "#T_3e76b_row1_col16, #T_3e76b_row2_col17, #T_3e76b_row5_col4, #T_3e76b_row10_col19, #T_3e76b_row10_col20, #T_3e76b_row11_col6, #T_3e76b_row12_col18, #T_3e76b_row12_col20 {\n",
       "  background-color: #86a9fc;\n",
       "  color: #f1f1f1;\n",
       "}\n",
       "#T_3e76b_row1_col17, #T_3e76b_row8_col4, #T_3e76b_row8_col20, #T_3e76b_row15_col17, #T_3e76b_row16_col5, #T_3e76b_row16_col18, #T_3e76b_row18_col9 {\n",
       "  background-color: #7a9df8;\n",
       "  color: #f1f1f1;\n",
       "}\n",
       "#T_3e76b_row1_col18, #T_3e76b_row3_col23, #T_3e76b_row9_col7, #T_3e76b_row10_col9, #T_3e76b_row13_col23, #T_3e76b_row15_col16, #T_3e76b_row21_col13, #T_3e76b_row22_col3 {\n",
       "  background-color: #5470de;\n",
       "  color: #f1f1f1;\n",
       "}\n",
       "#T_3e76b_row1_col19, #T_3e76b_row3_col22, #T_3e76b_row23_col18 {\n",
       "  background-color: #81a4fb;\n",
       "  color: #f1f1f1;\n",
       "}\n",
       "#T_3e76b_row1_col20, #T_3e76b_row4_col6, #T_3e76b_row15_col19, #T_3e76b_row19_col2 {\n",
       "  background-color: #7093f3;\n",
       "  color: #f1f1f1;\n",
       "}\n",
       "#T_3e76b_row1_col22 {\n",
       "  background-color: #c1d4f4;\n",
       "  color: #000000;\n",
       "}\n",
       "#T_3e76b_row1_col23, #T_3e76b_row10_col23 {\n",
       "  background-color: #445acc;\n",
       "  color: #f1f1f1;\n",
       "}\n",
       "#T_3e76b_row2_col0, #T_3e76b_row14_col19 {\n",
       "  background-color: #b5cdfa;\n",
       "  color: #000000;\n",
       "}\n",
       "#T_3e76b_row2_col1 {\n",
       "  background-color: #ccd9ed;\n",
       "  color: #000000;\n",
       "}\n",
       "#T_3e76b_row2_col3, #T_3e76b_row3_col0, #T_3e76b_row4_col2 {\n",
       "  background-color: #aec9fc;\n",
       "  color: #000000;\n",
       "}\n",
       "#T_3e76b_row2_col6, #T_3e76b_row7_col6, #T_3e76b_row8_col12, #T_3e76b_row9_col15, #T_3e76b_row10_col7, #T_3e76b_row15_col2 {\n",
       "  background-color: #6e90f2;\n",
       "  color: #f1f1f1;\n",
       "}\n",
       "#T_3e76b_row2_col7, #T_3e76b_row3_col1, #T_3e76b_row4_col22, #T_3e76b_row19_col10, #T_3e76b_row23_col11 {\n",
       "  background-color: #a2c1ff;\n",
       "  color: #000000;\n",
       "}\n",
       "#T_3e76b_row2_col8, #T_3e76b_row6_col5, #T_3e76b_row8_col2, #T_3e76b_row16_col14, #T_3e76b_row20_col10, #T_3e76b_row22_col10 {\n",
       "  background-color: #98b9ff;\n",
       "  color: #000000;\n",
       "}\n",
       "#T_3e76b_row2_col9, #T_3e76b_row11_col8 {\n",
       "  background-color: #d9dce1;\n",
       "  color: #000000;\n",
       "}\n",
       "#T_3e76b_row2_col10, #T_3e76b_row8_col22, #T_3e76b_row12_col9 {\n",
       "  background-color: #a6c4fe;\n",
       "  color: #000000;\n",
       "}\n",
       "#T_3e76b_row2_col11, #T_3e76b_row5_col9 {\n",
       "  background-color: #d8dce2;\n",
       "  color: #000000;\n",
       "}\n",
       "#T_3e76b_row2_col12, #T_3e76b_row5_col18, #T_3e76b_row7_col1, #T_3e76b_row23_col19 {\n",
       "  background-color: #6f92f3;\n",
       "  color: #f1f1f1;\n",
       "}\n",
       "#T_3e76b_row2_col13, #T_3e76b_row17_col8, #T_3e76b_row17_col15, #T_3e76b_row18_col21, #T_3e76b_row20_col7, #T_3e76b_row20_col15, #T_3e76b_row22_col15, #T_3e76b_row23_col1 {\n",
       "  background-color: #5f7fe8;\n",
       "  color: #f1f1f1;\n",
       "}\n",
       "#T_3e76b_row2_col14 {\n",
       "  background-color: #ebd3c6;\n",
       "  color: #000000;\n",
       "}\n",
       "#T_3e76b_row2_col16, #T_3e76b_row3_col6, #T_3e76b_row16_col17, #T_3e76b_row20_col12 {\n",
       "  background-color: #6c8ff1;\n",
       "  color: #f1f1f1;\n",
       "}\n",
       "#T_3e76b_row2_col18, #T_3e76b_row6_col12, #T_3e76b_row9_col18, #T_3e76b_row11_col18, #T_3e76b_row12_col2, #T_3e76b_row19_col12 {\n",
       "  background-color: #6384eb;\n",
       "  color: #f1f1f1;\n",
       "}\n",
       "#T_3e76b_row2_col19, #T_3e76b_row3_col19, #T_3e76b_row7_col20, #T_3e76b_row8_col3, #T_3e76b_row14_col20, #T_3e76b_row20_col11, #T_3e76b_row23_col0 {\n",
       "  background-color: #8badfd;\n",
       "  color: #000000;\n",
       "}\n",
       "#T_3e76b_row2_col21, #T_3e76b_row9_col21, #T_3e76b_row9_col23, #T_3e76b_row18_col6, #T_3e76b_row20_col2, #T_3e76b_row21_col16, #T_3e76b_row21_col23, #T_3e76b_row23_col2, #T_3e76b_row23_col7 {\n",
       "  background-color: #516ddb;\n",
       "  color: #f1f1f1;\n",
       "}\n",
       "#T_3e76b_row2_col22, #T_3e76b_row8_col0, #T_3e76b_row14_col10 {\n",
       "  background-color: #9fbfff;\n",
       "  color: #000000;\n",
       "}\n",
       "#T_3e76b_row3_col2, #T_3e76b_row12_col11 {\n",
       "  background-color: #b6cefa;\n",
       "  color: #000000;\n",
       "}\n",
       "#T_3e76b_row3_col5, #T_3e76b_row4_col0, #T_3e76b_row7_col14 {\n",
       "  background-color: #a3c2fe;\n",
       "  color: #000000;\n",
       "}\n",
       "#T_3e76b_row3_col7, #T_3e76b_row19_col14 {\n",
       "  background-color: #bfd3f6;\n",
       "  color: #000000;\n",
       "}\n",
       "#T_3e76b_row3_col8, #T_3e76b_row5_col17, #T_3e76b_row6_col14, #T_3e76b_row7_col5 {\n",
       "  background-color: #93b5fe;\n",
       "  color: #000000;\n",
       "}\n",
       "#T_3e76b_row3_col9 {\n",
       "  background-color: #cdd9ec;\n",
       "  color: #000000;\n",
       "}\n",
       "#T_3e76b_row3_col10, #T_3e76b_row4_col3, #T_3e76b_row6_col2, #T_3e76b_row15_col14, #T_3e76b_row15_col18, #T_3e76b_row20_col9 {\n",
       "  background-color: #82a6fb;\n",
       "  color: #f1f1f1;\n",
       "}\n",
       "#T_3e76b_row3_col11 {\n",
       "  background-color: #dcdddd;\n",
       "  color: #000000;\n",
       "}\n",
       "#T_3e76b_row3_col12, #T_3e76b_row5_col20, #T_3e76b_row6_col20, #T_3e76b_row10_col15, #T_3e76b_row10_col18, #T_3e76b_row18_col11, #T_3e76b_row22_col12 {\n",
       "  background-color: #80a3fa;\n",
       "  color: #f1f1f1;\n",
       "}\n",
       "#T_3e76b_row3_col13, #T_3e76b_row3_col16, #T_3e76b_row7_col13, #T_3e76b_row12_col13, #T_3e76b_row16_col3, #T_3e76b_row20_col8, #T_3e76b_row20_col13, #T_3e76b_row23_col3 {\n",
       "  background-color: #5572df;\n",
       "  color: #f1f1f1;\n",
       "}\n",
       "#T_3e76b_row3_col14, #T_3e76b_row5_col1, #T_3e76b_row11_col22 {\n",
       "  background-color: #cfdaea;\n",
       "  color: #000000;\n",
       "}\n",
       "#T_3e76b_row3_col17, #T_3e76b_row4_col10, #T_3e76b_row6_col0, #T_3e76b_row7_col11, #T_3e76b_row9_col4, #T_3e76b_row13_col10, #T_3e76b_row15_col11, #T_3e76b_row16_col1 {\n",
       "  background-color: #9dbdff;\n",
       "  color: #000000;\n",
       "}\n",
       "#T_3e76b_row3_col20, #T_3e76b_row4_col20, #T_3e76b_row5_col19, #T_3e76b_row22_col2 {\n",
       "  background-color: #7ea1fa;\n",
       "  color: #f1f1f1;\n",
       "}\n",
       "#T_3e76b_row3_col21, #T_3e76b_row4_col13, #T_3e76b_row7_col8, #T_3e76b_row7_col23, #T_3e76b_row8_col21, #T_3e76b_row9_col10, #T_3e76b_row10_col16 {\n",
       "  background-color: #4e68d8;\n",
       "  color: #f1f1f1;\n",
       "}\n",
       "#T_3e76b_row4_col1, #T_3e76b_row4_col14, #T_3e76b_row7_col0 {\n",
       "  background-color: #c9d7f0;\n",
       "  color: #000000;\n",
       "}\n",
       "#T_3e76b_row4_col5 {\n",
       "  background-color: #94b6ff;\n",
       "  color: #000000;\n",
       "}\n",
       "#T_3e76b_row4_col7, #T_3e76b_row5_col15, #T_3e76b_row6_col4, #T_3e76b_row7_col15, #T_3e76b_row11_col20, #T_3e76b_row12_col3, #T_3e76b_row13_col15, #T_3e76b_row16_col20, #T_3e76b_row16_col22, #T_3e76b_row17_col7 {\n",
       "  background-color: #6b8df0;\n",
       "  color: #f1f1f1;\n",
       "}\n",
       "#T_3e76b_row4_col8, #T_3e76b_row11_col4 {\n",
       "  background-color: #92b4fe;\n",
       "  color: #000000;\n",
       "}\n",
       "#T_3e76b_row4_col9 {\n",
       "  background-color: #d7dce3;\n",
       "  color: #000000;\n",
       "}\n",
       "#T_3e76b_row4_col11 {\n",
       "  background-color: #d5dbe5;\n",
       "  color: #000000;\n",
       "}\n",
       "#T_3e76b_row4_col17, #T_3e76b_row4_col18, #T_3e76b_row9_col19, #T_3e76b_row12_col10, #T_3e76b_row17_col11, #T_3e76b_row21_col18 {\n",
       "  background-color: #7da0f9;\n",
       "  color: #f1f1f1;\n",
       "}\n",
       "#T_3e76b_row4_col19, #T_3e76b_row6_col15, #T_3e76b_row7_col12, #T_3e76b_row15_col1, #T_3e76b_row17_col12, #T_3e76b_row22_col14 {\n",
       "  background-color: #7699f6;\n",
       "  color: #f1f1f1;\n",
       "}\n",
       "#T_3e76b_row4_col21, #T_3e76b_row6_col21, #T_3e76b_row11_col17, #T_3e76b_row13_col3, #T_3e76b_row22_col5 {\n",
       "  background-color: #5e7de7;\n",
       "  color: #f1f1f1;\n",
       "}\n",
       "#T_3e76b_row4_col23, #T_3e76b_row5_col21, #T_3e76b_row8_col23, #T_3e76b_row10_col12, #T_3e76b_row12_col5, #T_3e76b_row20_col3 {\n",
       "  background-color: #4f69d9;\n",
       "  color: #f1f1f1;\n",
       "}\n",
       "#T_3e76b_row5_col0, #T_3e76b_row19_col0 {\n",
       "  background-color: #b1cbfc;\n",
       "  color: #000000;\n",
       "}\n",
       "#T_3e76b_row5_col2, #T_3e76b_row9_col2, #T_3e76b_row22_col1 {\n",
       "  background-color: #b3cdfb;\n",
       "  color: #000000;\n",
       "}\n",
       "#T_3e76b_row5_col3 {\n",
       "  background-color: #a5c3fe;\n",
       "  color: #000000;\n",
       "}\n",
       "#T_3e76b_row5_col6, #T_3e76b_row9_col16, #T_3e76b_row10_col14, #T_3e76b_row12_col14, #T_3e76b_row13_col14 {\n",
       "  background-color: #90b2fe;\n",
       "  color: #000000;\n",
       "}\n",
       "#T_3e76b_row5_col7, #T_3e76b_row7_col17, #T_3e76b_row12_col22, #T_3e76b_row13_col11, #T_3e76b_row17_col10, #T_3e76b_row21_col10 {\n",
       "  background-color: #96b7ff;\n",
       "  color: #000000;\n",
       "}\n",
       "#T_3e76b_row5_col8 {\n",
       "  background-color: #bad0f8;\n",
       "  color: #000000;\n",
       "}\n",
       "#T_3e76b_row5_col11 {\n",
       "  background-color: #e7d7ce;\n",
       "  color: #000000;\n",
       "}\n",
       "#T_3e76b_row5_col12, #T_3e76b_row7_col22, #T_3e76b_row11_col15 {\n",
       "  background-color: #6687ed;\n",
       "  color: #f1f1f1;\n",
       "}\n",
       "#T_3e76b_row5_col16, #T_3e76b_row6_col7 {\n",
       "  background-color: #7b9ff9;\n",
       "  color: #f1f1f1;\n",
       "}\n",
       "#T_3e76b_row5_col23, #T_3e76b_row10_col3, #T_3e76b_row11_col13, #T_3e76b_row14_col23, #T_3e76b_row22_col13, #T_3e76b_row23_col5 {\n",
       "  background-color: #3f53c6;\n",
       "  color: #f1f1f1;\n",
       "}\n",
       "#T_3e76b_row6_col1, #T_3e76b_row7_col2, #T_3e76b_row7_col10, #T_3e76b_row15_col10 {\n",
       "  background-color: #a7c5fe;\n",
       "  color: #000000;\n",
       "}\n",
       "#T_3e76b_row6_col9, #T_3e76b_row16_col9 {\n",
       "  background-color: #c7d7f0;\n",
       "  color: #000000;\n",
       "}\n",
       "#T_3e76b_row6_col11 {\n",
       "  background-color: #cbd8ee;\n",
       "  color: #000000;\n",
       "}\n",
       "#T_3e76b_row6_col13, #T_3e76b_row17_col19, #T_3e76b_row17_col22, #T_3e76b_row22_col19 {\n",
       "  background-color: #3c4ec2;\n",
       "  color: #f1f1f1;\n",
       "}\n",
       "#T_3e76b_row6_col17, #T_3e76b_row6_col22, #T_3e76b_row8_col10, #T_3e76b_row8_col19, #T_3e76b_row10_col17, #T_3e76b_row11_col19 {\n",
       "  background-color: #84a7fc;\n",
       "  color: #f1f1f1;\n",
       "}\n",
       "#T_3e76b_row6_col23, #T_3e76b_row13_col16, #T_3e76b_row16_col23, #T_3e76b_row20_col5 {\n",
       "  background-color: #506bda;\n",
       "  color: #f1f1f1;\n",
       "}\n",
       "#T_3e76b_row7_col3 {\n",
       "  background-color: #bcd2f7;\n",
       "  color: #000000;\n",
       "}\n",
       "#T_3e76b_row7_col9, #T_3e76b_row14_col4 {\n",
       "  background-color: #97b8ff;\n",
       "  color: #000000;\n",
       "}\n",
       "#T_3e76b_row7_col16, #T_3e76b_row11_col23, #T_3e76b_row14_col6, #T_3e76b_row14_col13, #T_3e76b_row15_col5, #T_3e76b_row15_col6, #T_3e76b_row16_col12, #T_3e76b_row18_col20, #T_3e76b_row18_col22 {\n",
       "  background-color: #5673e0;\n",
       "  color: #f1f1f1;\n",
       "}\n",
       "#T_3e76b_row7_col19, #T_3e76b_row8_col17, #T_3e76b_row9_col6, #T_3e76b_row10_col22, #T_3e76b_row11_col12, #T_3e76b_row13_col17, #T_3e76b_row13_col19, #T_3e76b_row21_col9, #T_3e76b_row21_col11, #T_3e76b_row22_col8 {\n",
       "  background-color: #85a8fc;\n",
       "  color: #f1f1f1;\n",
       "}\n",
       "#T_3e76b_row8_col1 {\n",
       "  background-color: #e1dad6;\n",
       "  color: #000000;\n",
       "}\n",
       "#T_3e76b_row8_col5 {\n",
       "  background-color: #b2ccfb;\n",
       "  color: #000000;\n",
       "}\n",
       "#T_3e76b_row8_col6, #T_3e76b_row8_col18, #T_3e76b_row10_col1, #T_3e76b_row12_col7, #T_3e76b_row14_col15, #T_3e76b_row16_col19, #T_3e76b_row16_col21, #T_3e76b_row17_col1, #T_3e76b_row17_col5, #T_3e76b_row18_col15, #T_3e76b_row19_col7 {\n",
       "  background-color: #6485ec;\n",
       "  color: #f1f1f1;\n",
       "}\n",
       "#T_3e76b_row8_col9 {\n",
       "  background-color: #edd1c2;\n",
       "  color: #000000;\n",
       "}\n",
       "#T_3e76b_row8_col11 {\n",
       "  background-color: #f1ccb8;\n",
       "  color: #000000;\n",
       "}\n",
       "#T_3e76b_row8_col14 {\n",
       "  background-color: #e4d9d2;\n",
       "  color: #000000;\n",
       "}\n",
       "#T_3e76b_row9_col0, #T_3e76b_row23_col4 {\n",
       "  background-color: #4055c8;\n",
       "  color: #f1f1f1;\n",
       "}\n",
       "#T_3e76b_row9_col1 {\n",
       "  background-color: #f5a081;\n",
       "  color: #000000;\n",
       "}\n",
       "#T_3e76b_row9_col5, #T_3e76b_row19_col11 {\n",
       "  background-color: #a9c6fd;\n",
       "  color: #000000;\n",
       "}\n",
       "#T_3e76b_row9_col8 {\n",
       "  background-color: #d4dbe6;\n",
       "  color: #000000;\n",
       "}\n",
       "#T_3e76b_row9_col11, #T_3e76b_row11_col9 {\n",
       "  background-color: #ca3b37;\n",
       "  color: #f1f1f1;\n",
       "}\n",
       "#T_3e76b_row9_col13, #T_3e76b_row10_col6, #T_3e76b_row18_col3, #T_3e76b_row20_col4, #T_3e76b_row21_col6 {\n",
       "  background-color: #3e51c5;\n",
       "  color: #f1f1f1;\n",
       "}\n",
       "#T_3e76b_row9_col14 {\n",
       "  background-color: #f2cbb7;\n",
       "  color: #000000;\n",
       "}\n",
       "#T_3e76b_row9_col22 {\n",
       "  background-color: #d6dce4;\n",
       "  color: #000000;\n",
       "}\n",
       "#T_3e76b_row10_col0 {\n",
       "  background-color: #e3d9d3;\n",
       "  color: #000000;\n",
       "}\n",
       "#T_3e76b_row10_col8, #T_3e76b_row17_col6, #T_3e76b_row19_col23, #T_3e76b_row22_col6 {\n",
       "  background-color: #4a63d3;\n",
       "  color: #f1f1f1;\n",
       "}\n",
       "#T_3e76b_row10_col13, #T_3e76b_row11_col7, #T_3e76b_row12_col23, #T_3e76b_row15_col23, #T_3e76b_row18_col19, #T_3e76b_row23_col16 {\n",
       "  background-color: #536edd;\n",
       "  color: #f1f1f1;\n",
       "}\n",
       "#T_3e76b_row11_col1 {\n",
       "  background-color: #f7b79b;\n",
       "  color: #000000;\n",
       "}\n",
       "#T_3e76b_row11_col5 {\n",
       "  background-color: #bed2f6;\n",
       "  color: #000000;\n",
       "}\n",
       "#T_3e76b_row11_col14 {\n",
       "  background-color: #efcfbf;\n",
       "  color: #000000;\n",
       "}\n",
       "#T_3e76b_row11_col16 {\n",
       "  background-color: #89acfd;\n",
       "  color: #000000;\n",
       "}\n",
       "#T_3e76b_row11_col21, #T_3e76b_row21_col1 {\n",
       "  background-color: #4b64d5;\n",
       "  color: #f1f1f1;\n",
       "}\n",
       "#T_3e76b_row12_col0, #T_3e76b_row14_col17, #T_3e76b_row20_col0 {\n",
       "  background-color: #aac7fd;\n",
       "  color: #000000;\n",
       "}\n",
       "#T_3e76b_row12_col4, #T_3e76b_row12_col16, #T_3e76b_row19_col4, #T_3e76b_row19_col16 {\n",
       "  background-color: #4257c9;\n",
       "  color: #f1f1f1;\n",
       "}\n",
       "#T_3e76b_row12_col6, #T_3e76b_row13_col5, #T_3e76b_row21_col8 {\n",
       "  background-color: #4358cb;\n",
       "  color: #f1f1f1;\n",
       "}\n",
       "#T_3e76b_row13_col0 {\n",
       "  background-color: #a1c0ff;\n",
       "  color: #000000;\n",
       "}\n",
       "#T_3e76b_row14_col1 {\n",
       "  background-color: #f7b99e;\n",
       "  color: #000000;\n",
       "}\n",
       "#T_3e76b_row14_col2 {\n",
       "  background-color: #dbdcde;\n",
       "  color: #000000;\n",
       "}\n",
       "#T_3e76b_row14_col3 {\n",
       "  background-color: #afcafc;\n",
       "  color: #000000;\n",
       "}\n",
       "#T_3e76b_row14_col8 {\n",
       "  background-color: #d1dae9;\n",
       "  color: #000000;\n",
       "}\n",
       "#T_3e76b_row14_col9 {\n",
       "  background-color: #f5c2aa;\n",
       "  color: #000000;\n",
       "}\n",
       "#T_3e76b_row14_col11 {\n",
       "  background-color: #f4c6af;\n",
       "  color: #000000;\n",
       "}\n",
       "#T_3e76b_row15_col4, #T_3e76b_row17_col4, #T_3e76b_row17_col16, #T_3e76b_row20_col16, #T_3e76b_row22_col16, #T_3e76b_row22_col17 {\n",
       "  background-color: #3d50c3;\n",
       "  color: #f1f1f1;\n",
       "}\n",
       "#T_3e76b_row15_col9, #T_3e76b_row19_col9 {\n",
       "  background-color: #9ebeff;\n",
       "  color: #000000;\n",
       "}\n",
       "#T_3e76b_row16_col2 {\n",
       "  background-color: #7597f6;\n",
       "  color: #f1f1f1;\n",
       "}\n",
       "#T_3e76b_row16_col4, #T_3e76b_row17_col21, #T_3e76b_row18_col7, #T_3e76b_row18_col17, #T_3e76b_row20_col21, #T_3e76b_row22_col21 {\n",
       "  background-color: #5875e1;\n",
       "  color: #f1f1f1;\n",
       "}\n",
       "#T_3e76b_row16_col11 {\n",
       "  background-color: #c6d6f1;\n",
       "  color: #000000;\n",
       "}\n",
       "#T_3e76b_row17_col18, #T_3e76b_row19_col21, #T_3e76b_row20_col1, #T_3e76b_row20_col18, #T_3e76b_row23_col8 {\n",
       "  background-color: #5a78e4;\n",
       "  color: #f1f1f1;\n",
       "}\n",
       "#T_3e76b_row17_col23, #T_3e76b_row18_col16, #T_3e76b_row19_col6, #T_3e76b_row22_col23 {\n",
       "  background-color: #485fd1;\n",
       "  color: #f1f1f1;\n",
       "}\n",
       "#T_3e76b_row21_col7 {\n",
       "  background-color: #6180e9;\n",
       "  color: #f1f1f1;\n",
       "}\n",
       "#T_3e76b_row22_col9 {\n",
       "  background-color: #e2dad5;\n",
       "  color: #000000;\n",
       "}\n",
       "#T_3e76b_row22_col11 {\n",
       "  background-color: #dfdbd9;\n",
       "  color: #000000;\n",
       "}\n",
       "#T_3e76b_row22_col18 {\n",
       "  background-color: #5b7ae5;\n",
       "  color: #f1f1f1;\n",
       "}\n",
       "</style>\n",
       "<table id=\"T_3e76b\">\n",
       "  <thead>\n",
       "    <tr>\n",
       "      <th class=\"blank level0\" >&nbsp;</th>\n",
       "      <th id=\"T_3e76b_level0_col0\" class=\"col_heading level0 col0\" >km</th>\n",
       "      <th id=\"T_3e76b_level0_col1\" class=\"col_heading level0 col1\" >potencia</th>\n",
       "      <th id=\"T_3e76b_level0_col2\" class=\"col_heading level0 col2\" >volante_regulable</th>\n",
       "      <th id=\"T_3e76b_level0_col3\" class=\"col_heading level0 col3\" >aire_acondicionado</th>\n",
       "      <th id=\"T_3e76b_level0_col4\" class=\"col_heading level0 col4\" >camara_trasera</th>\n",
       "      <th id=\"T_3e76b_level0_col5\" class=\"col_heading level0 col5\" >elevalunas_electrico</th>\n",
       "      <th id=\"T_3e76b_level0_col6\" class=\"col_heading level0 col6\" >bluetooth</th>\n",
       "      <th id=\"T_3e76b_level0_col7\" class=\"col_heading level0 col7\" >gps</th>\n",
       "      <th id=\"T_3e76b_level0_col8\" class=\"col_heading level0 col8\" >alerta_lim_velocidad</th>\n",
       "      <th id=\"T_3e76b_level0_col9\" class=\"col_heading level0 col9\" >precio</th>\n",
       "      <th id=\"T_3e76b_level0_col10\" class=\"col_heading level0 col10\" >antiguedad</th>\n",
       "      <th id=\"T_3e76b_level0_col11\" class=\"col_heading level0 col11\" >log_precio</th>\n",
       "      <th id=\"T_3e76b_level0_col12\" class=\"col_heading level0 col12\" >combustible_int</th>\n",
       "      <th id=\"T_3e76b_level0_col13\" class=\"col_heading level0 col13\" >color_int</th>\n",
       "      <th id=\"T_3e76b_level0_col14\" class=\"col_heading level0 col14\" >serie_int</th>\n",
       "      <th id=\"T_3e76b_level0_col15\" class=\"col_heading level0 col15\" >tipo_coche_convertible</th>\n",
       "      <th id=\"T_3e76b_level0_col16\" class=\"col_heading level0 col16\" >tipo_coche_coupe</th>\n",
       "      <th id=\"T_3e76b_level0_col17\" class=\"col_heading level0 col17\" >tipo_coche_estate</th>\n",
       "      <th id=\"T_3e76b_level0_col18\" class=\"col_heading level0 col18\" >tipo_coche_hatchback</th>\n",
       "      <th id=\"T_3e76b_level0_col19\" class=\"col_heading level0 col19\" >tipo_coche_sedan</th>\n",
       "      <th id=\"T_3e76b_level0_col20\" class=\"col_heading level0 col20\" >tipo_coche_sin tipo</th>\n",
       "      <th id=\"T_3e76b_level0_col21\" class=\"col_heading level0 col21\" >tipo_coche_subcompact</th>\n",
       "      <th id=\"T_3e76b_level0_col22\" class=\"col_heading level0 col22\" >tipo_coche_suv</th>\n",
       "      <th id=\"T_3e76b_level0_col23\" class=\"col_heading level0 col23\" >tipo_coche_van</th>\n",
       "    </tr>\n",
       "  </thead>\n",
       "  <tbody>\n",
       "    <tr>\n",
       "      <th id=\"T_3e76b_level0_row0\" class=\"row_heading level0 row0\" >km</th>\n",
       "      <td id=\"T_3e76b_row0_col0\" class=\"data row0 col0\" >1.000000</td>\n",
       "      <td id=\"T_3e76b_row0_col1\" class=\"data row0 col1\" >-0.031734</td>\n",
       "      <td id=\"T_3e76b_row0_col2\" class=\"data row0 col2\" >0.080121</td>\n",
       "      <td id=\"T_3e76b_row0_col3\" class=\"data row0 col3\" >0.053871</td>\n",
       "      <td id=\"T_3e76b_row0_col4\" class=\"data row0 col4\" >0.007104</td>\n",
       "      <td id=\"T_3e76b_row0_col5\" class=\"data row0 col5\" >0.065620</td>\n",
       "      <td id=\"T_3e76b_row0_col6\" class=\"data row0 col6\" >-0.022577</td>\n",
       "      <td id=\"T_3e76b_row0_col7\" class=\"data row0 col7\" >0.169293</td>\n",
       "      <td id=\"T_3e76b_row0_col8\" class=\"data row0 col8\" >-0.011266</td>\n",
       "      <td id=\"T_3e76b_row0_col9\" class=\"data row0 col9\" >-0.417014</td>\n",
       "      <td id=\"T_3e76b_row0_col10\" class=\"data row0 col10\" >0.313497</td>\n",
       "      <td id=\"T_3e76b_row0_col11\" class=\"data row0 col11\" >-0.448038</td>\n",
       "      <td id=\"T_3e76b_row0_col12\" class=\"data row0 col12\" >0.037352</td>\n",
       "      <td id=\"T_3e76b_row0_col13\" class=\"data row0 col13\" >-0.002003</td>\n",
       "      <td id=\"T_3e76b_row0_col14\" class=\"data row0 col14\" >0.133980</td>\n",
       "      <td id=\"T_3e76b_row0_col15\" class=\"data row0 col15\" >-0.033415</td>\n",
       "      <td id=\"T_3e76b_row0_col16\" class=\"data row0 col16\" >-0.104709</td>\n",
       "      <td id=\"T_3e76b_row0_col17\" class=\"data row0 col17\" >0.143686</td>\n",
       "      <td id=\"T_3e76b_row0_col18\" class=\"data row0 col18\" >-0.077479</td>\n",
       "      <td id=\"T_3e76b_row0_col19\" class=\"data row0 col19\" >0.061522</td>\n",
       "      <td id=\"T_3e76b_row0_col20\" class=\"data row0 col20\" >0.037193</td>\n",
       "      <td id=\"T_3e76b_row0_col21\" class=\"data row0 col21\" >-0.031066</td>\n",
       "      <td id=\"T_3e76b_row0_col22\" class=\"data row0 col22\" >-0.104812</td>\n",
       "      <td id=\"T_3e76b_row0_col23\" class=\"data row0 col23\" >-0.095912</td>\n",
       "    </tr>\n",
       "    <tr>\n",
       "      <th id=\"T_3e76b_level0_row1\" class=\"row_heading level0 row1\" >potencia</th>\n",
       "      <td id=\"T_3e76b_row1_col0\" class=\"data row1 col0\" >-0.031734</td>\n",
       "      <td id=\"T_3e76b_row1_col1\" class=\"data row1 col1\" >1.000000</td>\n",
       "      <td id=\"T_3e76b_row1_col2\" class=\"data row1 col2\" >0.325830</td>\n",
       "      <td id=\"T_3e76b_row1_col3\" class=\"data row1 col3\" >0.169643</td>\n",
       "      <td id=\"T_3e76b_row1_col4\" class=\"data row1 col4\" >0.313893</td>\n",
       "      <td id=\"T_3e76b_row1_col5\" class=\"data row1 col5\" >0.340478</td>\n",
       "      <td id=\"T_3e76b_row1_col6\" class=\"data row1 col6\" >0.188403</td>\n",
       "      <td id=\"T_3e76b_row1_col7\" class=\"data row1 col7\" >-0.001436</td>\n",
       "      <td id=\"T_3e76b_row1_col8\" class=\"data row1 col8\" >0.420981</td>\n",
       "      <td id=\"T_3e76b_row1_col9\" class=\"data row1 col9\" >0.680232</td>\n",
       "      <td id=\"T_3e76b_row1_col10\" class=\"data row1 col10\" >-0.041706</td>\n",
       "      <td id=\"T_3e76b_row1_col11\" class=\"data row1 col11\" >0.604327</td>\n",
       "      <td id=\"T_3e76b_row1_col12\" class=\"data row1 col12\" >-0.128857</td>\n",
       "      <td id=\"T_3e76b_row1_col13\" class=\"data row1 col13\" >-0.026277</td>\n",
       "      <td id=\"T_3e76b_row1_col14\" class=\"data row1 col14\" >0.591393</td>\n",
       "      <td id=\"T_3e76b_row1_col15\" class=\"data row1 col15\" >0.020529</td>\n",
       "      <td id=\"T_3e76b_row1_col16\" class=\"data row1 col16\" >0.150537</td>\n",
       "      <td id=\"T_3e76b_row1_col17\" class=\"data row1 col17\" >-0.042106</td>\n",
       "      <td id=\"T_3e76b_row1_col18\" class=\"data row1 col18\" >-0.202633</td>\n",
       "      <td id=\"T_3e76b_row1_col19\" class=\"data row1 col19\" >0.024041</td>\n",
       "      <td id=\"T_3e76b_row1_col20\" class=\"data row1 col20\" >-0.076537</td>\n",
       "      <td id=\"T_3e76b_row1_col21\" class=\"data row1 col21\" >-0.135344</td>\n",
       "      <td id=\"T_3e76b_row1_col22\" class=\"data row1 col22\" >0.230782</td>\n",
       "      <td id=\"T_3e76b_row1_col23\" class=\"data row1 col23\" >-0.057953</td>\n",
       "    </tr>\n",
       "    <tr>\n",
       "      <th id=\"T_3e76b_level0_row2\" class=\"row_heading level0 row2\" >volante_regulable</th>\n",
       "      <td id=\"T_3e76b_row2_col0\" class=\"data row2 col0\" >0.080121</td>\n",
       "      <td id=\"T_3e76b_row2_col1\" class=\"data row2 col1\" >0.325830</td>\n",
       "      <td id=\"T_3e76b_row2_col2\" class=\"data row2 col2\" >1.000000</td>\n",
       "      <td id=\"T_3e76b_row2_col3\" class=\"data row2 col3\" >0.279704</td>\n",
       "      <td id=\"T_3e76b_row2_col4\" class=\"data row2 col4\" >0.254633</td>\n",
       "      <td id=\"T_3e76b_row2_col5\" class=\"data row2 col5\" >0.272656</td>\n",
       "      <td id=\"T_3e76b_row2_col6\" class=\"data row2 col6\" >0.113000</td>\n",
       "      <td id=\"T_3e76b_row2_col7\" class=\"data row2 col7\" >0.234568</td>\n",
       "      <td id=\"T_3e76b_row2_col8\" class=\"data row2 col8\" >0.184271</td>\n",
       "      <td id=\"T_3e76b_row2_col9\" class=\"data row2 col9\" >0.273929</td>\n",
       "      <td id=\"T_3e76b_row2_col10\" class=\"data row2 col10\" >0.059901</td>\n",
       "      <td id=\"T_3e76b_row2_col11\" class=\"data row2 col11\" >0.250665</td>\n",
       "      <td id=\"T_3e76b_row2_col12\" class=\"data row2 col12\" >0.009935</td>\n",
       "      <td id=\"T_3e76b_row2_col13\" class=\"data row2 col13\" >0.061125</td>\n",
       "      <td id=\"T_3e76b_row2_col14\" class=\"data row2 col14\" >0.422573</td>\n",
       "      <td id=\"T_3e76b_row2_col15\" class=\"data row2 col15\" >0.044558</td>\n",
       "      <td id=\"T_3e76b_row2_col16\" class=\"data row2 col16\" >0.067973</td>\n",
       "      <td id=\"T_3e76b_row2_col17\" class=\"data row2 col17\" >0.005538</td>\n",
       "      <td id=\"T_3e76b_row2_col18\" class=\"data row2 col18\" >-0.139202</td>\n",
       "      <td id=\"T_3e76b_row2_col19\" class=\"data row2 col19\" >0.055119</td>\n",
       "      <td id=\"T_3e76b_row2_col20\" class=\"data row2 col20\" >-0.051914</td>\n",
       "      <td id=\"T_3e76b_row2_col21\" class=\"data row2 col21\" >-0.092400</td>\n",
       "      <td id=\"T_3e76b_row2_col22\" class=\"data row2 col22\" >0.099058</td>\n",
       "      <td id=\"T_3e76b_row2_col23\" class=\"data row2 col23\" >-0.051166</td>\n",
       "    </tr>\n",
       "    <tr>\n",
       "      <th id=\"T_3e76b_level0_row3\" class=\"row_heading level0 row3\" >aire_acondicionado</th>\n",
       "      <td id=\"T_3e76b_row3_col0\" class=\"data row3 col0\" >0.053871</td>\n",
       "      <td id=\"T_3e76b_row3_col1\" class=\"data row3 col1\" >0.169643</td>\n",
       "      <td id=\"T_3e76b_row3_col2\" class=\"data row3 col2\" >0.279704</td>\n",
       "      <td id=\"T_3e76b_row3_col3\" class=\"data row3 col3\" >1.000000</td>\n",
       "      <td id=\"T_3e76b_row3_col4\" class=\"data row3 col4\" >0.140072</td>\n",
       "      <td id=\"T_3e76b_row3_col5\" class=\"data row3 col5\" >0.248047</td>\n",
       "      <td id=\"T_3e76b_row3_col6\" class=\"data row3 col6\" >0.107139</td>\n",
       "      <td id=\"T_3e76b_row3_col7\" class=\"data row3 col7\" >0.327490</td>\n",
       "      <td id=\"T_3e76b_row3_col8\" class=\"data row3 col8\" >0.166386</td>\n",
       "      <td id=\"T_3e76b_row3_col9\" class=\"data row3 col9\" >0.212678</td>\n",
       "      <td id=\"T_3e76b_row3_col10\" class=\"data row3 col10\" >-0.084196</td>\n",
       "      <td id=\"T_3e76b_row3_col11\" class=\"data row3 col11\" >0.273330</td>\n",
       "      <td id=\"T_3e76b_row3_col12\" class=\"data row3 col12\" >0.067329</td>\n",
       "      <td id=\"T_3e76b_row3_col13\" class=\"data row3 col13\" >0.025740</td>\n",
       "      <td id=\"T_3e76b_row3_col14\" class=\"data row3 col14\" >0.281358</td>\n",
       "      <td id=\"T_3e76b_row3_col15\" class=\"data row3 col15\" >-0.034827</td>\n",
       "      <td id=\"T_3e76b_row3_col16\" class=\"data row3 col16\" >-0.007597</td>\n",
       "      <td id=\"T_3e76b_row3_col17\" class=\"data row3 col17\" >0.086943</td>\n",
       "      <td id=\"T_3e76b_row3_col18\" class=\"data row3 col18\" >-0.087129</td>\n",
       "      <td id=\"T_3e76b_row3_col19\" class=\"data row3 col19\" >0.058535</td>\n",
       "      <td id=\"T_3e76b_row3_col20\" class=\"data row3 col20\" >-0.025930</td>\n",
       "      <td id=\"T_3e76b_row3_col21\" class=\"data row3 col21\" >-0.103046</td>\n",
       "      <td id=\"T_3e76b_row3_col22\" class=\"data row3 col22\" >-0.010255</td>\n",
       "      <td id=\"T_3e76b_row3_col23\" class=\"data row3 col23\" >-0.004924</td>\n",
       "    </tr>\n",
       "    <tr>\n",
       "      <th id=\"T_3e76b_level0_row4\" class=\"row_heading level0 row4\" >camara_trasera</th>\n",
       "      <td id=\"T_3e76b_row4_col0\" class=\"data row4 col0\" >0.007104</td>\n",
       "      <td id=\"T_3e76b_row4_col1\" class=\"data row4 col1\" >0.313893</td>\n",
       "      <td id=\"T_3e76b_row4_col2\" class=\"data row4 col2\" >0.254633</td>\n",
       "      <td id=\"T_3e76b_row4_col3\" class=\"data row4 col3\" >0.140072</td>\n",
       "      <td id=\"T_3e76b_row4_col4\" class=\"data row4 col4\" >1.000000</td>\n",
       "      <td id=\"T_3e76b_row4_col5\" class=\"data row4 col5\" >0.197686</td>\n",
       "      <td id=\"T_3e76b_row4_col6\" class=\"data row4 col6\" >0.118343</td>\n",
       "      <td id=\"T_3e76b_row4_col7\" class=\"data row4 col7\" >0.058371</td>\n",
       "      <td id=\"T_3e76b_row4_col8\" class=\"data row4 col8\" >0.162547</td>\n",
       "      <td id=\"T_3e76b_row4_col9\" class=\"data row4 col9\" >0.263603</td>\n",
       "      <td id=\"T_3e76b_row4_col10\" class=\"data row4 col10\" >0.018837</td>\n",
       "      <td id=\"T_3e76b_row4_col11\" class=\"data row4 col11\" >0.233393</td>\n",
       "      <td id=\"T_3e76b_row4_col12\" class=\"data row4 col12\" >-0.015471</td>\n",
       "      <td id=\"T_3e76b_row4_col13\" class=\"data row4 col13\" >0.001034</td>\n",
       "      <td id=\"T_3e76b_row4_col14\" class=\"data row4 col14\" >0.246538</td>\n",
       "      <td id=\"T_3e76b_row4_col15\" class=\"data row4 col15\" >-0.033713</td>\n",
       "      <td id=\"T_3e76b_row4_col16\" class=\"data row4 col16\" >0.057057</td>\n",
       "      <td id=\"T_3e76b_row4_col17\" class=\"data row4 col17\" >-0.031679</td>\n",
       "      <td id=\"T_3e76b_row4_col18\" class=\"data row4 col18\" >-0.043299</td>\n",
       "      <td id=\"T_3e76b_row4_col19\" class=\"data row4 col19\" >-0.017957</td>\n",
       "      <td id=\"T_3e76b_row4_col20\" class=\"data row4 col20\" >-0.027471</td>\n",
       "      <td id=\"T_3e76b_row4_col21\" class=\"data row4 col21\" >-0.043606</td>\n",
       "      <td id=\"T_3e76b_row4_col22\" class=\"data row4 col22\" >0.107850</td>\n",
       "      <td id=\"T_3e76b_row4_col23\" class=\"data row4 col23\" >-0.020952</td>\n",
       "    </tr>\n",
       "    <tr>\n",
       "      <th id=\"T_3e76b_level0_row5\" class=\"row_heading level0 row5\" >elevalunas_electrico</th>\n",
       "      <td id=\"T_3e76b_row5_col0\" class=\"data row5 col0\" >0.065620</td>\n",
       "      <td id=\"T_3e76b_row5_col1\" class=\"data row5 col1\" >0.340478</td>\n",
       "      <td id=\"T_3e76b_row5_col2\" class=\"data row5 col2\" >0.272656</td>\n",
       "      <td id=\"T_3e76b_row5_col3\" class=\"data row5 col3\" >0.248047</td>\n",
       "      <td id=\"T_3e76b_row5_col4\" class=\"data row5 col4\" >0.197686</td>\n",
       "      <td id=\"T_3e76b_row5_col5\" class=\"data row5 col5\" >1.000000</td>\n",
       "      <td id=\"T_3e76b_row5_col6\" class=\"data row5 col6\" >0.213834</td>\n",
       "      <td id=\"T_3e76b_row5_col7\" class=\"data row5 col7\" >0.195884</td>\n",
       "      <td id=\"T_3e76b_row5_col8\" class=\"data row5 col8\" >0.293386</td>\n",
       "      <td id=\"T_3e76b_row5_col9\" class=\"data row5 col9\" >0.264257</td>\n",
       "      <td id=\"T_3e76b_row5_col10\" class=\"data row5 col10\" >-0.045966</td>\n",
       "      <td id=\"T_3e76b_row5_col11\" class=\"data row5 col11\" >0.333789</td>\n",
       "      <td id=\"T_3e76b_row5_col12\" class=\"data row5 col12\" >-0.022680</td>\n",
       "      <td id=\"T_3e76b_row5_col13\" class=\"data row5 col13\" >-0.068089</td>\n",
       "      <td id=\"T_3e76b_row5_col14\" class=\"data row5 col14\" >0.350764</td>\n",
       "      <td id=\"T_3e76b_row5_col15\" class=\"data row5 col15\" >-0.000170</td>\n",
       "      <td id=\"T_3e76b_row5_col16\" class=\"data row5 col16\" >0.118615</td>\n",
       "      <td id=\"T_3e76b_row5_col17\" class=\"data row5 col17\" >0.049612</td>\n",
       "      <td id=\"T_3e76b_row5_col18\" class=\"data row5 col18\" >-0.096922</td>\n",
       "      <td id=\"T_3e76b_row5_col19\" class=\"data row5 col19\" >0.011994</td>\n",
       "      <td id=\"T_3e76b_row5_col20\" class=\"data row5 col20\" >-0.020109</td>\n",
       "      <td id=\"T_3e76b_row5_col21\" class=\"data row5 col21\" >-0.099624</td>\n",
       "      <td id=\"T_3e76b_row5_col22\" class=\"data row5 col22\" >0.027198</td>\n",
       "      <td id=\"T_3e76b_row5_col23\" class=\"data row5 col23\" >-0.078467</td>\n",
       "    </tr>\n",
       "    <tr>\n",
       "      <th id=\"T_3e76b_level0_row6\" class=\"row_heading level0 row6\" >bluetooth</th>\n",
       "      <td id=\"T_3e76b_row6_col0\" class=\"data row6 col0\" >-0.022577</td>\n",
       "      <td id=\"T_3e76b_row6_col1\" class=\"data row6 col1\" >0.188403</td>\n",
       "      <td id=\"T_3e76b_row6_col2\" class=\"data row6 col2\" >0.113000</td>\n",
       "      <td id=\"T_3e76b_row6_col3\" class=\"data row6 col3\" >0.107139</td>\n",
       "      <td id=\"T_3e76b_row6_col4\" class=\"data row6 col4\" >0.118343</td>\n",
       "      <td id=\"T_3e76b_row6_col5\" class=\"data row6 col5\" >0.213834</td>\n",
       "      <td id=\"T_3e76b_row6_col6\" class=\"data row6 col6\" >1.000000</td>\n",
       "      <td id=\"T_3e76b_row6_col7\" class=\"data row6 col7\" >0.110438</td>\n",
       "      <td id=\"T_3e76b_row6_col8\" class=\"data row6 col8\" >0.081017</td>\n",
       "      <td id=\"T_3e76b_row6_col9\" class=\"data row6 col9\" >0.180910</td>\n",
       "      <td id=\"T_3e76b_row6_col10\" class=\"data row6 col10\" >-0.046046</td>\n",
       "      <td id=\"T_3e76b_row6_col11\" class=\"data row6 col11\" >0.184048</td>\n",
       "      <td id=\"T_3e76b_row6_col12\" class=\"data row6 col12\" >-0.029372</td>\n",
       "      <td id=\"T_3e76b_row6_col13\" class=\"data row6 col13\" >-0.060439</td>\n",
       "      <td id=\"T_3e76b_row6_col14\" class=\"data row6 col14\" >0.037412</td>\n",
       "      <td id=\"T_3e76b_row6_col15\" class=\"data row6 col15\" >0.034936</td>\n",
       "      <td id=\"T_3e76b_row6_col16\" class=\"data row6 col16\" >0.092036</td>\n",
       "      <td id=\"T_3e76b_row6_col17\" class=\"data row6 col17\" >-0.004985</td>\n",
       "      <td id=\"T_3e76b_row6_col18\" class=\"data row6 col18\" >0.019901</td>\n",
       "      <td id=\"T_3e76b_row6_col19\" class=\"data row6 col19\" >-0.012208</td>\n",
       "      <td id=\"T_3e76b_row6_col20\" class=\"data row6 col20\" >-0.020462</td>\n",
       "      <td id=\"T_3e76b_row6_col21\" class=\"data row6 col21\" >-0.045521</td>\n",
       "      <td id=\"T_3e76b_row6_col22\" class=\"data row6 col22\" >-0.003684</td>\n",
       "      <td id=\"T_3e76b_row6_col23\" class=\"data row6 col23\" >-0.017164</td>\n",
       "    </tr>\n",
       "    <tr>\n",
       "      <th id=\"T_3e76b_level0_row7\" class=\"row_heading level0 row7\" >gps</th>\n",
       "      <td id=\"T_3e76b_row7_col0\" class=\"data row7 col0\" >0.169293</td>\n",
       "      <td id=\"T_3e76b_row7_col1\" class=\"data row7 col1\" >-0.001436</td>\n",
       "      <td id=\"T_3e76b_row7_col2\" class=\"data row7 col2\" >0.234568</td>\n",
       "      <td id=\"T_3e76b_row7_col3\" class=\"data row7 col3\" >0.327490</td>\n",
       "      <td id=\"T_3e76b_row7_col4\" class=\"data row7 col4\" >0.058371</td>\n",
       "      <td id=\"T_3e76b_row7_col5\" class=\"data row7 col5\" >0.195884</td>\n",
       "      <td id=\"T_3e76b_row7_col6\" class=\"data row7 col6\" >0.110438</td>\n",
       "      <td id=\"T_3e76b_row7_col7\" class=\"data row7 col7\" >1.000000</td>\n",
       "      <td id=\"T_3e76b_row7_col8\" class=\"data row7 col8\" >-0.065856</td>\n",
       "      <td id=\"T_3e76b_row7_col9\" class=\"data row7 col9\" >-0.021165</td>\n",
       "      <td id=\"T_3e76b_row7_col10\" class=\"data row7 col10\" >0.066891</td>\n",
       "      <td id=\"T_3e76b_row7_col11\" class=\"data row7 col11\" >-0.022408</td>\n",
       "      <td id=\"T_3e76b_row7_col12\" class=\"data row7 col12\" >0.037101</td>\n",
       "      <td id=\"T_3e76b_row7_col13\" class=\"data row7 col13\" >0.027016</td>\n",
       "      <td id=\"T_3e76b_row7_col14\" class=\"data row7 col14\" >0.099616</td>\n",
       "      <td id=\"T_3e76b_row7_col15\" class=\"data row7 col15\" >-0.000970</td>\n",
       "      <td id=\"T_3e76b_row7_col16\" class=\"data row7 col16\" >-0.001408</td>\n",
       "      <td id=\"T_3e76b_row7_col17\" class=\"data row7 col17\" >0.059822</td>\n",
       "      <td id=\"T_3e76b_row7_col18\" class=\"data row7 col18\" >-0.004128</td>\n",
       "      <td id=\"T_3e76b_row7_col19\" class=\"data row7 col19\" >0.035852</td>\n",
       "      <td id=\"T_3e76b_row7_col20\" class=\"data row7 col20\" >0.020533</td>\n",
       "      <td id=\"T_3e76b_row7_col21\" class=\"data row7 col21\" >0.026462</td>\n",
       "      <td id=\"T_3e76b_row7_col22\" class=\"data row7 col22\" >-0.112419</td>\n",
       "      <td id=\"T_3e76b_row7_col23\" class=\"data row7 col23\" >-0.025984</td>\n",
       "    </tr>\n",
       "    <tr>\n",
       "      <th id=\"T_3e76b_level0_row8\" class=\"row_heading level0 row8\" >alerta_lim_velocidad</th>\n",
       "      <td id=\"T_3e76b_row8_col0\" class=\"data row8 col0\" >-0.011266</td>\n",
       "      <td id=\"T_3e76b_row8_col1\" class=\"data row8 col1\" >0.420981</td>\n",
       "      <td id=\"T_3e76b_row8_col2\" class=\"data row8 col2\" >0.184271</td>\n",
       "      <td id=\"T_3e76b_row8_col3\" class=\"data row8 col3\" >0.166386</td>\n",
       "      <td id=\"T_3e76b_row8_col4\" class=\"data row8 col4\" >0.162547</td>\n",
       "      <td id=\"T_3e76b_row8_col5\" class=\"data row8 col5\" >0.293386</td>\n",
       "      <td id=\"T_3e76b_row8_col6\" class=\"data row8 col6\" >0.081017</td>\n",
       "      <td id=\"T_3e76b_row8_col7\" class=\"data row8 col7\" >-0.065856</td>\n",
       "      <td id=\"T_3e76b_row8_col8\" class=\"data row8 col8\" >1.000000</td>\n",
       "      <td id=\"T_3e76b_row8_col9\" class=\"data row8 col9\" >0.391872</td>\n",
       "      <td id=\"T_3e76b_row8_col10\" class=\"data row8 col10\" >-0.079216</td>\n",
       "      <td id=\"T_3e76b_row8_col11\" class=\"data row8 col11\" >0.415852</td>\n",
       "      <td id=\"T_3e76b_row8_col12\" class=\"data row8 col12\" >0.007294</td>\n",
       "      <td id=\"T_3e76b_row8_col13\" class=\"data row8 col13\" >-0.026165</td>\n",
       "      <td id=\"T_3e76b_row8_col14\" class=\"data row8 col14\" >0.379561</td>\n",
       "      <td id=\"T_3e76b_row8_col15\" class=\"data row8 col15\" >-0.013191</td>\n",
       "      <td id=\"T_3e76b_row8_col16\" class=\"data row8 col16\" >0.062904</td>\n",
       "      <td id=\"T_3e76b_row8_col17\" class=\"data row8 col17\" >-0.002498</td>\n",
       "      <td id=\"T_3e76b_row8_col18\" class=\"data row8 col18\" >-0.138366</td>\n",
       "      <td id=\"T_3e76b_row8_col19\" class=\"data row8 col19\" >0.034573</td>\n",
       "      <td id=\"T_3e76b_row8_col20\" class=\"data row8 col20\" >-0.039374</td>\n",
       "      <td id=\"T_3e76b_row8_col21\" class=\"data row8 col21\" >-0.103816</td>\n",
       "      <td id=\"T_3e76b_row8_col22\" class=\"data row8 col22\" >0.122430</td>\n",
       "      <td id=\"T_3e76b_row8_col23\" class=\"data row8 col23\" >-0.020772</td>\n",
       "    </tr>\n",
       "    <tr>\n",
       "      <th id=\"T_3e76b_level0_row9\" class=\"row_heading level0 row9\" >precio</th>\n",
       "      <td id=\"T_3e76b_row9_col0\" class=\"data row9 col0\" >-0.417014</td>\n",
       "      <td id=\"T_3e76b_row9_col1\" class=\"data row9 col1\" >0.680232</td>\n",
       "      <td id=\"T_3e76b_row9_col2\" class=\"data row9 col2\" >0.273929</td>\n",
       "      <td id=\"T_3e76b_row9_col3\" class=\"data row9 col3\" >0.212678</td>\n",
       "      <td id=\"T_3e76b_row9_col4\" class=\"data row9 col4\" >0.263603</td>\n",
       "      <td id=\"T_3e76b_row9_col5\" class=\"data row9 col5\" >0.264257</td>\n",
       "      <td id=\"T_3e76b_row9_col6\" class=\"data row9 col6\" >0.180910</td>\n",
       "      <td id=\"T_3e76b_row9_col7\" class=\"data row9 col7\" >-0.021165</td>\n",
       "      <td id=\"T_3e76b_row9_col8\" class=\"data row9 col8\" >0.391872</td>\n",
       "      <td id=\"T_3e76b_row9_col9\" class=\"data row9 col9\" >1.000000</td>\n",
       "      <td id=\"T_3e76b_row9_col10\" class=\"data row9 col10\" >-0.298734</td>\n",
       "      <td id=\"T_3e76b_row9_col11\" class=\"data row9 col11\" >0.912889</td>\n",
       "      <td id=\"T_3e76b_row9_col12\" class=\"data row9 col12\" >0.037399</td>\n",
       "      <td id=\"T_3e76b_row9_col13\" class=\"data row9 col13\" >-0.053178</td>\n",
       "      <td id=\"T_3e76b_row9_col14\" class=\"data row9 col14\" >0.474410</td>\n",
       "      <td id=\"T_3e76b_row9_col15\" class=\"data row9 col15\" >0.007040</td>\n",
       "      <td id=\"T_3e76b_row9_col16\" class=\"data row9 col16\" >0.183292</td>\n",
       "      <td id=\"T_3e76b_row9_col17\" class=\"data row9 col17\" >-0.167199</td>\n",
       "      <td id=\"T_3e76b_row9_col18\" class=\"data row9 col18\" >-0.139236</td>\n",
       "      <td id=\"T_3e76b_row9_col19\" class=\"data row9 col19\" >0.006615</td>\n",
       "      <td id=\"T_3e76b_row9_col20\" class=\"data row9 col20\" >-0.105187</td>\n",
       "      <td id=\"T_3e76b_row9_col21\" class=\"data row9 col21\" >-0.092971</td>\n",
       "      <td id=\"T_3e76b_row9_col22\" class=\"data row9 col22\" >0.323428</td>\n",
       "      <td id=\"T_3e76b_row9_col23\" class=\"data row9 col23\" >-0.010858</td>\n",
       "    </tr>\n",
       "    <tr>\n",
       "      <th id=\"T_3e76b_level0_row10\" class=\"row_heading level0 row10\" >antiguedad</th>\n",
       "      <td id=\"T_3e76b_row10_col0\" class=\"data row10 col0\" >0.313497</td>\n",
       "      <td id=\"T_3e76b_row10_col1\" class=\"data row10 col1\" >-0.041706</td>\n",
       "      <td id=\"T_3e76b_row10_col2\" class=\"data row10 col2\" >0.059901</td>\n",
       "      <td id=\"T_3e76b_row10_col3\" class=\"data row10 col3\" >-0.084196</td>\n",
       "      <td id=\"T_3e76b_row10_col4\" class=\"data row10 col4\" >0.018837</td>\n",
       "      <td id=\"T_3e76b_row10_col5\" class=\"data row10 col5\" >-0.045966</td>\n",
       "      <td id=\"T_3e76b_row10_col6\" class=\"data row10 col6\" >-0.046046</td>\n",
       "      <td id=\"T_3e76b_row10_col7\" class=\"data row10 col7\" >0.066891</td>\n",
       "      <td id=\"T_3e76b_row10_col8\" class=\"data row10 col8\" >-0.079216</td>\n",
       "      <td id=\"T_3e76b_row10_col9\" class=\"data row10 col9\" >-0.298734</td>\n",
       "      <td id=\"T_3e76b_row10_col10\" class=\"data row10 col10\" >1.000000</td>\n",
       "      <td id=\"T_3e76b_row10_col11\" class=\"data row10 col11\" >-0.388545</td>\n",
       "      <td id=\"T_3e76b_row10_col12\" class=\"data row10 col12\" >-0.103622</td>\n",
       "      <td id=\"T_3e76b_row10_col13\" class=\"data row10 col13\" >0.018618</td>\n",
       "      <td id=\"T_3e76b_row10_col14\" class=\"data row10 col14\" >0.030424</td>\n",
       "      <td id=\"T_3e76b_row10_col15\" class=\"data row10 col15\" >0.065967</td>\n",
       "      <td id=\"T_3e76b_row10_col16\" class=\"data row10 col16\" >-0.034823</td>\n",
       "      <td id=\"T_3e76b_row10_col17\" class=\"data row10 col17\" >-0.004084</td>\n",
       "      <td id=\"T_3e76b_row10_col18\" class=\"data row10 col18\" >-0.035942</td>\n",
       "      <td id=\"T_3e76b_row10_col19\" class=\"data row10 col19\" >0.043832</td>\n",
       "      <td id=\"T_3e76b_row10_col20\" class=\"data row10 col20\" >0.003542</td>\n",
       "      <td id=\"T_3e76b_row10_col21\" class=\"data row10 col21\" >-0.005644</td>\n",
       "      <td id=\"T_3e76b_row10_col22\" class=\"data row10 col22\" >0.002354</td>\n",
       "      <td id=\"T_3e76b_row10_col23\" class=\"data row10 col23\" >-0.059951</td>\n",
       "    </tr>\n",
       "    <tr>\n",
       "      <th id=\"T_3e76b_level0_row11\" class=\"row_heading level0 row11\" >log_precio</th>\n",
       "      <td id=\"T_3e76b_row11_col0\" class=\"data row11 col0\" >-0.448038</td>\n",
       "      <td id=\"T_3e76b_row11_col1\" class=\"data row11 col1\" >0.604327</td>\n",
       "      <td id=\"T_3e76b_row11_col2\" class=\"data row11 col2\" >0.250665</td>\n",
       "      <td id=\"T_3e76b_row11_col3\" class=\"data row11 col3\" >0.273330</td>\n",
       "      <td id=\"T_3e76b_row11_col4\" class=\"data row11 col4\" >0.233393</td>\n",
       "      <td id=\"T_3e76b_row11_col5\" class=\"data row11 col5\" >0.333789</td>\n",
       "      <td id=\"T_3e76b_row11_col6\" class=\"data row11 col6\" >0.184048</td>\n",
       "      <td id=\"T_3e76b_row11_col7\" class=\"data row11 col7\" >-0.022408</td>\n",
       "      <td id=\"T_3e76b_row11_col8\" class=\"data row11 col8\" >0.415852</td>\n",
       "      <td id=\"T_3e76b_row11_col9\" class=\"data row11 col9\" >0.912889</td>\n",
       "      <td id=\"T_3e76b_row11_col10\" class=\"data row11 col10\" >-0.388545</td>\n",
       "      <td id=\"T_3e76b_row11_col11\" class=\"data row11 col11\" >1.000000</td>\n",
       "      <td id=\"T_3e76b_row11_col12\" class=\"data row11 col12\" >0.084828</td>\n",
       "      <td id=\"T_3e76b_row11_col13\" class=\"data row11 col13\" >-0.049899</td>\n",
       "      <td id=\"T_3e76b_row11_col14\" class=\"data row11 col14\" >0.448164</td>\n",
       "      <td id=\"T_3e76b_row11_col15\" class=\"data row11 col15\" >-0.021491</td>\n",
       "      <td id=\"T_3e76b_row11_col16\" class=\"data row11 col16\" >0.158857</td>\n",
       "      <td id=\"T_3e76b_row11_col17\" class=\"data row11 col17\" >-0.148399</td>\n",
       "      <td id=\"T_3e76b_row11_col18\" class=\"data row11 col18\" >-0.142013</td>\n",
       "      <td id=\"T_3e76b_row11_col19\" class=\"data row11 col19\" >0.032224</td>\n",
       "      <td id=\"T_3e76b_row11_col20\" class=\"data row11 col20\" >-0.095169</td>\n",
       "      <td id=\"T_3e76b_row11_col21\" class=\"data row11 col21\" >-0.114480</td>\n",
       "      <td id=\"T_3e76b_row11_col22\" class=\"data row11 col22\" >0.292171</td>\n",
       "      <td id=\"T_3e76b_row11_col23\" class=\"data row11 col23\" >0.002563</td>\n",
       "    </tr>\n",
       "    <tr>\n",
       "      <th id=\"T_3e76b_level0_row12\" class=\"row_heading level0 row12\" >combustible_int</th>\n",
       "      <td id=\"T_3e76b_row12_col0\" class=\"data row12 col0\" >0.037352</td>\n",
       "      <td id=\"T_3e76b_row12_col1\" class=\"data row12 col1\" >-0.128857</td>\n",
       "      <td id=\"T_3e76b_row12_col2\" class=\"data row12 col2\" >0.009935</td>\n",
       "      <td id=\"T_3e76b_row12_col3\" class=\"data row12 col3\" >0.067329</td>\n",
       "      <td id=\"T_3e76b_row12_col4\" class=\"data row12 col4\" >-0.015471</td>\n",
       "      <td id=\"T_3e76b_row12_col5\" class=\"data row12 col5\" >-0.022680</td>\n",
       "      <td id=\"T_3e76b_row12_col6\" class=\"data row12 col6\" >-0.029372</td>\n",
       "      <td id=\"T_3e76b_row12_col7\" class=\"data row12 col7\" >0.037101</td>\n",
       "      <td id=\"T_3e76b_row12_col8\" class=\"data row12 col8\" >0.007294</td>\n",
       "      <td id=\"T_3e76b_row12_col9\" class=\"data row12 col9\" >0.037399</td>\n",
       "      <td id=\"T_3e76b_row12_col10\" class=\"data row12 col10\" >-0.103622</td>\n",
       "      <td id=\"T_3e76b_row12_col11\" class=\"data row12 col11\" >0.084828</td>\n",
       "      <td id=\"T_3e76b_row12_col12\" class=\"data row12 col12\" >1.000000</td>\n",
       "      <td id=\"T_3e76b_row12_col13\" class=\"data row12 col13\" >0.023939</td>\n",
       "      <td id=\"T_3e76b_row12_col14\" class=\"data row12 col14\" >0.027437</td>\n",
       "      <td id=\"T_3e76b_row12_col15\" class=\"data row12 col15\" >-0.184893</td>\n",
       "      <td id=\"T_3e76b_row12_col16\" class=\"data row12 col16\" >-0.076925</td>\n",
       "      <td id=\"T_3e76b_row12_col17\" class=\"data row12 col17\" >0.037096</td>\n",
       "      <td id=\"T_3e76b_row12_col18\" class=\"data row12 col18\" >-0.009003</td>\n",
       "      <td id=\"T_3e76b_row12_col19\" class=\"data row12 col19\" >-0.030063</td>\n",
       "      <td id=\"T_3e76b_row12_col20\" class=\"data row12 col20\" >0.002272</td>\n",
       "      <td id=\"T_3e76b_row12_col21\" class=\"data row12 col21\" >-0.011521</td>\n",
       "      <td id=\"T_3e76b_row12_col22\" class=\"data row12 col22\" >0.065681</td>\n",
       "      <td id=\"T_3e76b_row12_col23\" class=\"data row12 col23\" >-0.008633</td>\n",
       "    </tr>\n",
       "    <tr>\n",
       "      <th id=\"T_3e76b_level0_row13\" class=\"row_heading level0 row13\" >color_int</th>\n",
       "      <td id=\"T_3e76b_row13_col0\" class=\"data row13 col0\" >-0.002003</td>\n",
       "      <td id=\"T_3e76b_row13_col1\" class=\"data row13 col1\" >-0.026277</td>\n",
       "      <td id=\"T_3e76b_row13_col2\" class=\"data row13 col2\" >0.061125</td>\n",
       "      <td id=\"T_3e76b_row13_col3\" class=\"data row13 col3\" >0.025740</td>\n",
       "      <td id=\"T_3e76b_row13_col4\" class=\"data row13 col4\" >0.001034</td>\n",
       "      <td id=\"T_3e76b_row13_col5\" class=\"data row13 col5\" >-0.068089</td>\n",
       "      <td id=\"T_3e76b_row13_col6\" class=\"data row13 col6\" >-0.060439</td>\n",
       "      <td id=\"T_3e76b_row13_col7\" class=\"data row13 col7\" >0.027016</td>\n",
       "      <td id=\"T_3e76b_row13_col8\" class=\"data row13 col8\" >-0.026165</td>\n",
       "      <td id=\"T_3e76b_row13_col9\" class=\"data row13 col9\" >-0.053178</td>\n",
       "      <td id=\"T_3e76b_row13_col10\" class=\"data row13 col10\" >0.018618</td>\n",
       "      <td id=\"T_3e76b_row13_col11\" class=\"data row13 col11\" >-0.049899</td>\n",
       "      <td id=\"T_3e76b_row13_col12\" class=\"data row13 col12\" >0.023939</td>\n",
       "      <td id=\"T_3e76b_row13_col13\" class=\"data row13 col13\" >1.000000</td>\n",
       "      <td id=\"T_3e76b_row13_col14\" class=\"data row13 col14\" >0.028670</td>\n",
       "      <td id=\"T_3e76b_row13_col15\" class=\"data row13 col15\" >-0.003249</td>\n",
       "      <td id=\"T_3e76b_row13_col16\" class=\"data row13 col16\" >-0.024521</td>\n",
       "      <td id=\"T_3e76b_row13_col17\" class=\"data row13 col17\" >-0.001660</td>\n",
       "      <td id=\"T_3e76b_row13_col18\" class=\"data row13 col18\" >-0.005279</td>\n",
       "      <td id=\"T_3e76b_row13_col19\" class=\"data row13 col19\" >0.036624</td>\n",
       "      <td id=\"T_3e76b_row13_col20\" class=\"data row13 col20\" >0.025862</td>\n",
       "      <td id=\"T_3e76b_row13_col21\" class=\"data row13 col21\" >0.023524</td>\n",
       "      <td id=\"T_3e76b_row13_col22\" class=\"data row13 col22\" >-0.049529</td>\n",
       "      <td id=\"T_3e76b_row13_col23\" class=\"data row13 col23\" >-0.004892</td>\n",
       "    </tr>\n",
       "    <tr>\n",
       "      <th id=\"T_3e76b_level0_row14\" class=\"row_heading level0 row14\" >serie_int</th>\n",
       "      <td id=\"T_3e76b_row14_col0\" class=\"data row14 col0\" >0.133980</td>\n",
       "      <td id=\"T_3e76b_row14_col1\" class=\"data row14 col1\" >0.591393</td>\n",
       "      <td id=\"T_3e76b_row14_col2\" class=\"data row14 col2\" >0.422573</td>\n",
       "      <td id=\"T_3e76b_row14_col3\" class=\"data row14 col3\" >0.281358</td>\n",
       "      <td id=\"T_3e76b_row14_col4\" class=\"data row14 col4\" >0.246538</td>\n",
       "      <td id=\"T_3e76b_row14_col5\" class=\"data row14 col5\" >0.350764</td>\n",
       "      <td id=\"T_3e76b_row14_col6\" class=\"data row14 col6\" >0.037412</td>\n",
       "      <td id=\"T_3e76b_row14_col7\" class=\"data row14 col7\" >0.099616</td>\n",
       "      <td id=\"T_3e76b_row14_col8\" class=\"data row14 col8\" >0.379561</td>\n",
       "      <td id=\"T_3e76b_row14_col9\" class=\"data row14 col9\" >0.474410</td>\n",
       "      <td id=\"T_3e76b_row14_col10\" class=\"data row14 col10\" >0.030424</td>\n",
       "      <td id=\"T_3e76b_row14_col11\" class=\"data row14 col11\" >0.448164</td>\n",
       "      <td id=\"T_3e76b_row14_col12\" class=\"data row14 col12\" >0.027437</td>\n",
       "      <td id=\"T_3e76b_row14_col13\" class=\"data row14 col13\" >0.028670</td>\n",
       "      <td id=\"T_3e76b_row14_col14\" class=\"data row14 col14\" >1.000000</td>\n",
       "      <td id=\"T_3e76b_row14_col15\" class=\"data row14 col15\" >-0.024538</td>\n",
       "      <td id=\"T_3e76b_row14_col16\" class=\"data row14 col16\" >0.059326</td>\n",
       "      <td id=\"T_3e76b_row14_col17\" class=\"data row14 col17\" >0.137365</td>\n",
       "      <td id=\"T_3e76b_row14_col18\" class=\"data row14 col18\" >-0.313240</td>\n",
       "      <td id=\"T_3e76b_row14_col19\" class=\"data row14 col19\" >0.207003</td>\n",
       "      <td id=\"T_3e76b_row14_col20\" class=\"data row14 col20\" >0.018344</td>\n",
       "      <td id=\"T_3e76b_row14_col21\" class=\"data row14 col21\" >-0.181287</td>\n",
       "      <td id=\"T_3e76b_row14_col22\" class=\"data row14 col22\" >-0.069764</td>\n",
       "      <td id=\"T_3e76b_row14_col23\" class=\"data row14 col23\" >-0.078337</td>\n",
       "    </tr>\n",
       "    <tr>\n",
       "      <th id=\"T_3e76b_level0_row15\" class=\"row_heading level0 row15\" >tipo_coche_convertible</th>\n",
       "      <td id=\"T_3e76b_row15_col0\" class=\"data row15 col0\" >-0.033415</td>\n",
       "      <td id=\"T_3e76b_row15_col1\" class=\"data row15 col1\" >0.020529</td>\n",
       "      <td id=\"T_3e76b_row15_col2\" class=\"data row15 col2\" >0.044558</td>\n",
       "      <td id=\"T_3e76b_row15_col3\" class=\"data row15 col3\" >-0.034827</td>\n",
       "      <td id=\"T_3e76b_row15_col4\" class=\"data row15 col4\" >-0.033713</td>\n",
       "      <td id=\"T_3e76b_row15_col5\" class=\"data row15 col5\" >-0.000170</td>\n",
       "      <td id=\"T_3e76b_row15_col6\" class=\"data row15 col6\" >0.034936</td>\n",
       "      <td id=\"T_3e76b_row15_col7\" class=\"data row15 col7\" >-0.000970</td>\n",
       "      <td id=\"T_3e76b_row15_col8\" class=\"data row15 col8\" >-0.013191</td>\n",
       "      <td id=\"T_3e76b_row15_col9\" class=\"data row15 col9\" >0.007040</td>\n",
       "      <td id=\"T_3e76b_row15_col10\" class=\"data row15 col10\" >0.065967</td>\n",
       "      <td id=\"T_3e76b_row15_col11\" class=\"data row15 col11\" >-0.021491</td>\n",
       "      <td id=\"T_3e76b_row15_col12\" class=\"data row15 col12\" >-0.184893</td>\n",
       "      <td id=\"T_3e76b_row15_col13\" class=\"data row15 col13\" >-0.003249</td>\n",
       "      <td id=\"T_3e76b_row15_col14\" class=\"data row15 col14\" >-0.024538</td>\n",
       "      <td id=\"T_3e76b_row15_col15\" class=\"data row15 col15\" >1.000000</td>\n",
       "      <td id=\"T_3e76b_row15_col16\" class=\"data row15 col16\" >-0.013813</td>\n",
       "      <td id=\"T_3e76b_row15_col17\" class=\"data row15 col17\" >-0.043120</td>\n",
       "      <td id=\"T_3e76b_row15_col18\" class=\"data row15 col18\" >-0.025903</td>\n",
       "      <td id=\"T_3e76b_row15_col19\" class=\"data row15 col19\" >-0.035871</td>\n",
       "      <td id=\"T_3e76b_row15_col20\" class=\"data row15 col20\" >-0.044008</td>\n",
       "      <td id=\"T_3e76b_row15_col21\" class=\"data row15 col21\" >-0.010220</td>\n",
       "      <td id=\"T_3e76b_row15_col22\" class=\"data row15 col22\" >-0.042466</td>\n",
       "      <td id=\"T_3e76b_row15_col23\" class=\"data row15 col23\" >-0.007101</td>\n",
       "    </tr>\n",
       "    <tr>\n",
       "      <th id=\"T_3e76b_level0_row16\" class=\"row_heading level0 row16\" >tipo_coche_coupe</th>\n",
       "      <td id=\"T_3e76b_row16_col0\" class=\"data row16 col0\" >-0.104709</td>\n",
       "      <td id=\"T_3e76b_row16_col1\" class=\"data row16 col1\" >0.150537</td>\n",
       "      <td id=\"T_3e76b_row16_col2\" class=\"data row16 col2\" >0.067973</td>\n",
       "      <td id=\"T_3e76b_row16_col3\" class=\"data row16 col3\" >-0.007597</td>\n",
       "      <td id=\"T_3e76b_row16_col4\" class=\"data row16 col4\" >0.057057</td>\n",
       "      <td id=\"T_3e76b_row16_col5\" class=\"data row16 col5\" >0.118615</td>\n",
       "      <td id=\"T_3e76b_row16_col6\" class=\"data row16 col6\" >0.092036</td>\n",
       "      <td id=\"T_3e76b_row16_col7\" class=\"data row16 col7\" >-0.001408</td>\n",
       "      <td id=\"T_3e76b_row16_col8\" class=\"data row16 col8\" >0.062904</td>\n",
       "      <td id=\"T_3e76b_row16_col9\" class=\"data row16 col9\" >0.183292</td>\n",
       "      <td id=\"T_3e76b_row16_col10\" class=\"data row16 col10\" >-0.034823</td>\n",
       "      <td id=\"T_3e76b_row16_col11\" class=\"data row16 col11\" >0.158857</td>\n",
       "      <td id=\"T_3e76b_row16_col12\" class=\"data row16 col12\" >-0.076925</td>\n",
       "      <td id=\"T_3e76b_row16_col13\" class=\"data row16 col13\" >-0.024521</td>\n",
       "      <td id=\"T_3e76b_row16_col14\" class=\"data row16 col14\" >0.059326</td>\n",
       "      <td id=\"T_3e76b_row16_col15\" class=\"data row16 col15\" >-0.013813</td>\n",
       "      <td id=\"T_3e76b_row16_col16\" class=\"data row16 col16\" >1.000000</td>\n",
       "      <td id=\"T_3e76b_row16_col17\" class=\"data row16 col17\" >-0.093214</td>\n",
       "      <td id=\"T_3e76b_row16_col18\" class=\"data row16 col18\" >-0.055995</td>\n",
       "      <td id=\"T_3e76b_row16_col19\" class=\"data row16 col19\" >-0.077544</td>\n",
       "      <td id=\"T_3e76b_row16_col20\" class=\"data row16 col20\" >-0.095134</td>\n",
       "      <td id=\"T_3e76b_row16_col21\" class=\"data row16 col21\" >-0.022094</td>\n",
       "      <td id=\"T_3e76b_row16_col22\" class=\"data row16 col22\" >-0.091801</td>\n",
       "      <td id=\"T_3e76b_row16_col23\" class=\"data row16 col23\" >-0.015352</td>\n",
       "    </tr>\n",
       "    <tr>\n",
       "      <th id=\"T_3e76b_level0_row17\" class=\"row_heading level0 row17\" >tipo_coche_estate</th>\n",
       "      <td id=\"T_3e76b_row17_col0\" class=\"data row17 col0\" >0.143686</td>\n",
       "      <td id=\"T_3e76b_row17_col1\" class=\"data row17 col1\" >-0.042106</td>\n",
       "      <td id=\"T_3e76b_row17_col2\" class=\"data row17 col2\" >0.005538</td>\n",
       "      <td id=\"T_3e76b_row17_col3\" class=\"data row17 col3\" >0.086943</td>\n",
       "      <td id=\"T_3e76b_row17_col4\" class=\"data row17 col4\" >-0.031679</td>\n",
       "      <td id=\"T_3e76b_row17_col5\" class=\"data row17 col5\" >0.049612</td>\n",
       "      <td id=\"T_3e76b_row17_col6\" class=\"data row17 col6\" >-0.004985</td>\n",
       "      <td id=\"T_3e76b_row17_col7\" class=\"data row17 col7\" >0.059822</td>\n",
       "      <td id=\"T_3e76b_row17_col8\" class=\"data row17 col8\" >-0.002498</td>\n",
       "      <td id=\"T_3e76b_row17_col9\" class=\"data row17 col9\" >-0.167199</td>\n",
       "      <td id=\"T_3e76b_row17_col10\" class=\"data row17 col10\" >-0.004084</td>\n",
       "      <td id=\"T_3e76b_row17_col11\" class=\"data row17 col11\" >-0.148399</td>\n",
       "      <td id=\"T_3e76b_row17_col12\" class=\"data row17 col12\" >0.037096</td>\n",
       "      <td id=\"T_3e76b_row17_col13\" class=\"data row17 col13\" >-0.001660</td>\n",
       "      <td id=\"T_3e76b_row17_col14\" class=\"data row17 col14\" >0.137365</td>\n",
       "      <td id=\"T_3e76b_row17_col15\" class=\"data row17 col15\" >-0.043120</td>\n",
       "      <td id=\"T_3e76b_row17_col16\" class=\"data row17 col16\" >-0.093214</td>\n",
       "      <td id=\"T_3e76b_row17_col17\" class=\"data row17 col17\" >1.000000</td>\n",
       "      <td id=\"T_3e76b_row17_col18\" class=\"data row17 col18\" >-0.174799</td>\n",
       "      <td id=\"T_3e76b_row17_col19\" class=\"data row17 col19\" >-0.242067</td>\n",
       "      <td id=\"T_3e76b_row17_col20\" class=\"data row17 col20\" >-0.296975</td>\n",
       "      <td id=\"T_3e76b_row17_col21\" class=\"data row17 col21\" >-0.068970</td>\n",
       "      <td id=\"T_3e76b_row17_col22\" class=\"data row17 col22\" >-0.286571</td>\n",
       "      <td id=\"T_3e76b_row17_col23\" class=\"data row17 col23\" >-0.047923</td>\n",
       "    </tr>\n",
       "    <tr>\n",
       "      <th id=\"T_3e76b_level0_row18\" class=\"row_heading level0 row18\" >tipo_coche_hatchback</th>\n",
       "      <td id=\"T_3e76b_row18_col0\" class=\"data row18 col0\" >-0.077479</td>\n",
       "      <td id=\"T_3e76b_row18_col1\" class=\"data row18 col1\" >-0.202633</td>\n",
       "      <td id=\"T_3e76b_row18_col2\" class=\"data row18 col2\" >-0.139202</td>\n",
       "      <td id=\"T_3e76b_row18_col3\" class=\"data row18 col3\" >-0.087129</td>\n",
       "      <td id=\"T_3e76b_row18_col4\" class=\"data row18 col4\" >-0.043299</td>\n",
       "      <td id=\"T_3e76b_row18_col5\" class=\"data row18 col5\" >-0.096922</td>\n",
       "      <td id=\"T_3e76b_row18_col6\" class=\"data row18 col6\" >0.019901</td>\n",
       "      <td id=\"T_3e76b_row18_col7\" class=\"data row18 col7\" >-0.004128</td>\n",
       "      <td id=\"T_3e76b_row18_col8\" class=\"data row18 col8\" >-0.138366</td>\n",
       "      <td id=\"T_3e76b_row18_col9\" class=\"data row18 col9\" >-0.139236</td>\n",
       "      <td id=\"T_3e76b_row18_col10\" class=\"data row18 col10\" >-0.035942</td>\n",
       "      <td id=\"T_3e76b_row18_col11\" class=\"data row18 col11\" >-0.142013</td>\n",
       "      <td id=\"T_3e76b_row18_col12\" class=\"data row18 col12\" >-0.009003</td>\n",
       "      <td id=\"T_3e76b_row18_col13\" class=\"data row18 col13\" >-0.005279</td>\n",
       "      <td id=\"T_3e76b_row18_col14\" class=\"data row18 col14\" >-0.313240</td>\n",
       "      <td id=\"T_3e76b_row18_col15\" class=\"data row18 col15\" >-0.025903</td>\n",
       "      <td id=\"T_3e76b_row18_col16\" class=\"data row18 col16\" >-0.055995</td>\n",
       "      <td id=\"T_3e76b_row18_col17\" class=\"data row18 col17\" >-0.174799</td>\n",
       "      <td id=\"T_3e76b_row18_col18\" class=\"data row18 col18\" >1.000000</td>\n",
       "      <td id=\"T_3e76b_row18_col19\" class=\"data row18 col19\" >-0.145414</td>\n",
       "      <td id=\"T_3e76b_row18_col20\" class=\"data row18 col20\" >-0.178398</td>\n",
       "      <td id=\"T_3e76b_row18_col21\" class=\"data row18 col21\" >-0.041432</td>\n",
       "      <td id=\"T_3e76b_row18_col22\" class=\"data row18 col22\" >-0.172148</td>\n",
       "      <td id=\"T_3e76b_row18_col23\" class=\"data row18 col23\" >-0.028788</td>\n",
       "    </tr>\n",
       "    <tr>\n",
       "      <th id=\"T_3e76b_level0_row19\" class=\"row_heading level0 row19\" >tipo_coche_sedan</th>\n",
       "      <td id=\"T_3e76b_row19_col0\" class=\"data row19 col0\" >0.061522</td>\n",
       "      <td id=\"T_3e76b_row19_col1\" class=\"data row19 col1\" >0.024041</td>\n",
       "      <td id=\"T_3e76b_row19_col2\" class=\"data row19 col2\" >0.055119</td>\n",
       "      <td id=\"T_3e76b_row19_col3\" class=\"data row19 col3\" >0.058535</td>\n",
       "      <td id=\"T_3e76b_row19_col4\" class=\"data row19 col4\" >-0.017957</td>\n",
       "      <td id=\"T_3e76b_row19_col5\" class=\"data row19 col5\" >0.011994</td>\n",
       "      <td id=\"T_3e76b_row19_col6\" class=\"data row19 col6\" >-0.012208</td>\n",
       "      <td id=\"T_3e76b_row19_col7\" class=\"data row19 col7\" >0.035852</td>\n",
       "      <td id=\"T_3e76b_row19_col8\" class=\"data row19 col8\" >0.034573</td>\n",
       "      <td id=\"T_3e76b_row19_col9\" class=\"data row19 col9\" >0.006615</td>\n",
       "      <td id=\"T_3e76b_row19_col10\" class=\"data row19 col10\" >0.043832</td>\n",
       "      <td id=\"T_3e76b_row19_col11\" class=\"data row19 col11\" >0.032224</td>\n",
       "      <td id=\"T_3e76b_row19_col12\" class=\"data row19 col12\" >-0.030063</td>\n",
       "      <td id=\"T_3e76b_row19_col13\" class=\"data row19 col13\" >0.036624</td>\n",
       "      <td id=\"T_3e76b_row19_col14\" class=\"data row19 col14\" >0.207003</td>\n",
       "      <td id=\"T_3e76b_row19_col15\" class=\"data row19 col15\" >-0.035871</td>\n",
       "      <td id=\"T_3e76b_row19_col16\" class=\"data row19 col16\" >-0.077544</td>\n",
       "      <td id=\"T_3e76b_row19_col17\" class=\"data row19 col17\" >-0.242067</td>\n",
       "      <td id=\"T_3e76b_row19_col18\" class=\"data row19 col18\" >-0.145414</td>\n",
       "      <td id=\"T_3e76b_row19_col19\" class=\"data row19 col19\" >1.000000</td>\n",
       "      <td id=\"T_3e76b_row19_col20\" class=\"data row19 col20\" >-0.247050</td>\n",
       "      <td id=\"T_3e76b_row19_col21\" class=\"data row19 col21\" >-0.057376</td>\n",
       "      <td id=\"T_3e76b_row19_col22\" class=\"data row19 col22\" >-0.238396</td>\n",
       "      <td id=\"T_3e76b_row19_col23\" class=\"data row19 col23\" >-0.039866</td>\n",
       "    </tr>\n",
       "    <tr>\n",
       "      <th id=\"T_3e76b_level0_row20\" class=\"row_heading level0 row20\" >tipo_coche_sin tipo</th>\n",
       "      <td id=\"T_3e76b_row20_col0\" class=\"data row20 col0\" >0.037193</td>\n",
       "      <td id=\"T_3e76b_row20_col1\" class=\"data row20 col1\" >-0.076537</td>\n",
       "      <td id=\"T_3e76b_row20_col2\" class=\"data row20 col2\" >-0.051914</td>\n",
       "      <td id=\"T_3e76b_row20_col3\" class=\"data row20 col3\" >-0.025930</td>\n",
       "      <td id=\"T_3e76b_row20_col4\" class=\"data row20 col4\" >-0.027471</td>\n",
       "      <td id=\"T_3e76b_row20_col5\" class=\"data row20 col5\" >-0.020109</td>\n",
       "      <td id=\"T_3e76b_row20_col6\" class=\"data row20 col6\" >-0.020462</td>\n",
       "      <td id=\"T_3e76b_row20_col7\" class=\"data row20 col7\" >0.020533</td>\n",
       "      <td id=\"T_3e76b_row20_col8\" class=\"data row20 col8\" >-0.039374</td>\n",
       "      <td id=\"T_3e76b_row20_col9\" class=\"data row20 col9\" >-0.105187</td>\n",
       "      <td id=\"T_3e76b_row20_col10\" class=\"data row20 col10\" >0.003542</td>\n",
       "      <td id=\"T_3e76b_row20_col11\" class=\"data row20 col11\" >-0.095169</td>\n",
       "      <td id=\"T_3e76b_row20_col12\" class=\"data row20 col12\" >0.002272</td>\n",
       "      <td id=\"T_3e76b_row20_col13\" class=\"data row20 col13\" >0.025862</td>\n",
       "      <td id=\"T_3e76b_row20_col14\" class=\"data row20 col14\" >0.018344</td>\n",
       "      <td id=\"T_3e76b_row20_col15\" class=\"data row20 col15\" >-0.044008</td>\n",
       "      <td id=\"T_3e76b_row20_col16\" class=\"data row20 col16\" >-0.095134</td>\n",
       "      <td id=\"T_3e76b_row20_col17\" class=\"data row20 col17\" >-0.296975</td>\n",
       "      <td id=\"T_3e76b_row20_col18\" class=\"data row20 col18\" >-0.178398</td>\n",
       "      <td id=\"T_3e76b_row20_col19\" class=\"data row20 col19\" >-0.247050</td>\n",
       "      <td id=\"T_3e76b_row20_col20\" class=\"data row20 col20\" >1.000000</td>\n",
       "      <td id=\"T_3e76b_row20_col21\" class=\"data row20 col21\" >-0.070390</td>\n",
       "      <td id=\"T_3e76b_row20_col22\" class=\"data row20 col22\" >-0.292471</td>\n",
       "      <td id=\"T_3e76b_row20_col23\" class=\"data row20 col23\" >-0.048909</td>\n",
       "    </tr>\n",
       "    <tr>\n",
       "      <th id=\"T_3e76b_level0_row21\" class=\"row_heading level0 row21\" >tipo_coche_subcompact</th>\n",
       "      <td id=\"T_3e76b_row21_col0\" class=\"data row21 col0\" >-0.031066</td>\n",
       "      <td id=\"T_3e76b_row21_col1\" class=\"data row21 col1\" >-0.135344</td>\n",
       "      <td id=\"T_3e76b_row21_col2\" class=\"data row21 col2\" >-0.092400</td>\n",
       "      <td id=\"T_3e76b_row21_col3\" class=\"data row21 col3\" >-0.103046</td>\n",
       "      <td id=\"T_3e76b_row21_col4\" class=\"data row21 col4\" >-0.043606</td>\n",
       "      <td id=\"T_3e76b_row21_col5\" class=\"data row21 col5\" >-0.099624</td>\n",
       "      <td id=\"T_3e76b_row21_col6\" class=\"data row21 col6\" >-0.045521</td>\n",
       "      <td id=\"T_3e76b_row21_col7\" class=\"data row21 col7\" >0.026462</td>\n",
       "      <td id=\"T_3e76b_row21_col8\" class=\"data row21 col8\" >-0.103816</td>\n",
       "      <td id=\"T_3e76b_row21_col9\" class=\"data row21 col9\" >-0.092971</td>\n",
       "      <td id=\"T_3e76b_row21_col10\" class=\"data row21 col10\" >-0.005644</td>\n",
       "      <td id=\"T_3e76b_row21_col11\" class=\"data row21 col11\" >-0.114480</td>\n",
       "      <td id=\"T_3e76b_row21_col12\" class=\"data row21 col12\" >-0.011521</td>\n",
       "      <td id=\"T_3e76b_row21_col13\" class=\"data row21 col13\" >0.023524</td>\n",
       "      <td id=\"T_3e76b_row21_col14\" class=\"data row21 col14\" >-0.181287</td>\n",
       "      <td id=\"T_3e76b_row21_col15\" class=\"data row21 col15\" >-0.010220</td>\n",
       "      <td id=\"T_3e76b_row21_col16\" class=\"data row21 col16\" >-0.022094</td>\n",
       "      <td id=\"T_3e76b_row21_col17\" class=\"data row21 col17\" >-0.068970</td>\n",
       "      <td id=\"T_3e76b_row21_col18\" class=\"data row21 col18\" >-0.041432</td>\n",
       "      <td id=\"T_3e76b_row21_col19\" class=\"data row21 col19\" >-0.057376</td>\n",
       "      <td id=\"T_3e76b_row21_col20\" class=\"data row21 col20\" >-0.070390</td>\n",
       "      <td id=\"T_3e76b_row21_col21\" class=\"data row21 col21\" >1.000000</td>\n",
       "      <td id=\"T_3e76b_row21_col22\" class=\"data row21 col22\" >-0.067924</td>\n",
       "      <td id=\"T_3e76b_row21_col23\" class=\"data row21 col23\" >-0.011359</td>\n",
       "    </tr>\n",
       "    <tr>\n",
       "      <th id=\"T_3e76b_level0_row22\" class=\"row_heading level0 row22\" >tipo_coche_suv</th>\n",
       "      <td id=\"T_3e76b_row22_col0\" class=\"data row22 col0\" >-0.104812</td>\n",
       "      <td id=\"T_3e76b_row22_col1\" class=\"data row22 col1\" >0.230782</td>\n",
       "      <td id=\"T_3e76b_row22_col2\" class=\"data row22 col2\" >0.099058</td>\n",
       "      <td id=\"T_3e76b_row22_col3\" class=\"data row22 col3\" >-0.010255</td>\n",
       "      <td id=\"T_3e76b_row22_col4\" class=\"data row22 col4\" >0.107850</td>\n",
       "      <td id=\"T_3e76b_row22_col5\" class=\"data row22 col5\" >0.027198</td>\n",
       "      <td id=\"T_3e76b_row22_col6\" class=\"data row22 col6\" >-0.003684</td>\n",
       "      <td id=\"T_3e76b_row22_col7\" class=\"data row22 col7\" >-0.112419</td>\n",
       "      <td id=\"T_3e76b_row22_col8\" class=\"data row22 col8\" >0.122430</td>\n",
       "      <td id=\"T_3e76b_row22_col9\" class=\"data row22 col9\" >0.323428</td>\n",
       "      <td id=\"T_3e76b_row22_col10\" class=\"data row22 col10\" >0.002354</td>\n",
       "      <td id=\"T_3e76b_row22_col11\" class=\"data row22 col11\" >0.292171</td>\n",
       "      <td id=\"T_3e76b_row22_col12\" class=\"data row22 col12\" >0.065681</td>\n",
       "      <td id=\"T_3e76b_row22_col13\" class=\"data row22 col13\" >-0.049529</td>\n",
       "      <td id=\"T_3e76b_row22_col14\" class=\"data row22 col14\" >-0.069764</td>\n",
       "      <td id=\"T_3e76b_row22_col15\" class=\"data row22 col15\" >-0.042466</td>\n",
       "      <td id=\"T_3e76b_row22_col16\" class=\"data row22 col16\" >-0.091801</td>\n",
       "      <td id=\"T_3e76b_row22_col17\" class=\"data row22 col17\" >-0.286571</td>\n",
       "      <td id=\"T_3e76b_row22_col18\" class=\"data row22 col18\" >-0.172148</td>\n",
       "      <td id=\"T_3e76b_row22_col19\" class=\"data row22 col19\" >-0.238396</td>\n",
       "      <td id=\"T_3e76b_row22_col20\" class=\"data row22 col20\" >-0.292471</td>\n",
       "      <td id=\"T_3e76b_row22_col21\" class=\"data row22 col21\" >-0.067924</td>\n",
       "      <td id=\"T_3e76b_row22_col22\" class=\"data row22 col22\" >1.000000</td>\n",
       "      <td id=\"T_3e76b_row22_col23\" class=\"data row22 col23\" >-0.047196</td>\n",
       "    </tr>\n",
       "    <tr>\n",
       "      <th id=\"T_3e76b_level0_row23\" class=\"row_heading level0 row23\" >tipo_coche_van</th>\n",
       "      <td id=\"T_3e76b_row23_col0\" class=\"data row23 col0\" >-0.095912</td>\n",
       "      <td id=\"T_3e76b_row23_col1\" class=\"data row23 col1\" >-0.057953</td>\n",
       "      <td id=\"T_3e76b_row23_col2\" class=\"data row23 col2\" >-0.051166</td>\n",
       "      <td id=\"T_3e76b_row23_col3\" class=\"data row23 col3\" >-0.004924</td>\n",
       "      <td id=\"T_3e76b_row23_col4\" class=\"data row23 col4\" >-0.020952</td>\n",
       "      <td id=\"T_3e76b_row23_col5\" class=\"data row23 col5\" >-0.078467</td>\n",
       "      <td id=\"T_3e76b_row23_col6\" class=\"data row23 col6\" >-0.017164</td>\n",
       "      <td id=\"T_3e76b_row23_col7\" class=\"data row23 col7\" >-0.025984</td>\n",
       "      <td id=\"T_3e76b_row23_col8\" class=\"data row23 col8\" >-0.020772</td>\n",
       "      <td id=\"T_3e76b_row23_col9\" class=\"data row23 col9\" >-0.010858</td>\n",
       "      <td id=\"T_3e76b_row23_col10\" class=\"data row23 col10\" >-0.059951</td>\n",
       "      <td id=\"T_3e76b_row23_col11\" class=\"data row23 col11\" >0.002563</td>\n",
       "      <td id=\"T_3e76b_row23_col12\" class=\"data row23 col12\" >-0.008633</td>\n",
       "      <td id=\"T_3e76b_row23_col13\" class=\"data row23 col13\" >-0.004892</td>\n",
       "      <td id=\"T_3e76b_row23_col14\" class=\"data row23 col14\" >-0.078337</td>\n",
       "      <td id=\"T_3e76b_row23_col15\" class=\"data row23 col15\" >-0.007101</td>\n",
       "      <td id=\"T_3e76b_row23_col16\" class=\"data row23 col16\" >-0.015352</td>\n",
       "      <td id=\"T_3e76b_row23_col17\" class=\"data row23 col17\" >-0.047923</td>\n",
       "      <td id=\"T_3e76b_row23_col18\" class=\"data row23 col18\" >-0.028788</td>\n",
       "      <td id=\"T_3e76b_row23_col19\" class=\"data row23 col19\" >-0.039866</td>\n",
       "      <td id=\"T_3e76b_row23_col20\" class=\"data row23 col20\" >-0.048909</td>\n",
       "      <td id=\"T_3e76b_row23_col21\" class=\"data row23 col21\" >-0.011359</td>\n",
       "      <td id=\"T_3e76b_row23_col22\" class=\"data row23 col22\" >-0.047196</td>\n",
       "      <td id=\"T_3e76b_row23_col23\" class=\"data row23 col23\" >1.000000</td>\n",
       "    </tr>\n",
       "  </tbody>\n",
       "</table>\n"
      ],
      "text/plain": [
       "<pandas.io.formats.style.Styler at 0x264a3957af0>"
      ]
     },
     "execution_count": 314,
     "metadata": {},
     "output_type": "execute_result"
    }
   ],
   "source": [
    "corr.style.background_gradient(cmap='coolwarm')"
   ]
  },
  {
   "cell_type": "markdown",
   "metadata": {},
   "source": [
    "### Exporto a solicitud del entregable, para su revisión"
   ]
  },
  {
   "cell_type": "code",
   "execution_count": null,
   "metadata": {},
   "outputs": [],
   "source": [
    "df_bmw50 = df_bmw11.head(50)"
   ]
  },
  {
   "cell_type": "code",
   "execution_count": null,
   "metadata": {},
   "outputs": [],
   "source": [
    "#Exportamos 50 primeros datos\n",
    "file_name = \"df_bmw50_export.xlsx\"\n",
    "df_bmw50.to_excel(file_name)"
   ]
  }
 ],
 "metadata": {
  "kernelspec": {
   "display_name": "Python 3",
   "language": "python",
   "name": "python3"
  },
  "language_info": {
   "codemirror_mode": {
    "name": "ipython",
    "version": 3
   },
   "file_extension": ".py",
   "mimetype": "text/x-python",
   "name": "python",
   "nbconvert_exporter": "python",
   "pygments_lexer": "ipython3",
   "version": "3.9.0"
  }
 },
 "nbformat": 4,
 "nbformat_minor": 2
}
